{
 "cells": [
  {
   "cell_type": "markdown",
   "id": "e551cb3d-374e-428e-8310-b791806dc604",
   "metadata": {
    "id": "e551cb3d-374e-428e-8310-b791806dc604"
   },
   "source": [
    "# NFL Analytics\n",
    "\n",
    "For as long as I've been watching football, I have wanted to figure out how those statistics that pop up in the corner are calculated. My current understanding is that it takes lots and LOTS of data, most of which is currently inaccessible to me. I still decided to venture into this unknown world by training my model on past official data from the NFL, which is accessible as a python library thanks to the `nfl_data_py` import. This is all being done in hopes to be able to predict the `Win Probability` of either team throughout the game. I'll be going over more details of the code as we progress down the notebook."
   ]
  },
  {
   "cell_type": "code",
   "execution_count": 2,
   "id": "2823cb79-1c50-41df-9bb7-b23971945556",
   "metadata": {
    "id": "2823cb79-1c50-41df-9bb7-b23971945556"
   },
   "outputs": [],
   "source": [
    "import nfl_data_py as nfl\n",
    "\n",
    "import pandas as pd\n",
    "import numpy as np\n",
    "\n",
    "import plotly.graph_objects as go\n",
    "\n",
    "from sklearn.ensemble import RandomForestRegressor\n",
    "from sklearn.metrics import mean_squared_error\n",
    "\n",
    "from sklearn.impute import SimpleImputer\n",
    "from sklearn.model_selection import train_test_split"
   ]
  },
  {
   "cell_type": "markdown",
   "id": "8f33a9aa-48b3-451f-8a22-ab9e8665c49e",
   "metadata": {},
   "source": [
    "After some trial and error, I'd decided to go with a Random Forest Regression model, almost emulating the seemingly random paths a football game can go down. The learning will done by using the `scikit-learn` library.\n",
    "\n",
    "I'll be training this model on 3 years worth of data, a number that seemed somewhat reasonable in terms of team/QB composition over that time. Each of the data points I've loaded in the `columns` parameter are the \"features\", or notable variables, that the model will use to make a connection to the predicted win percentage."
   ]
  },
  {
   "cell_type": "code",
   "execution_count": 3,
   "id": "87ab69b9-c880-4c48-8fbd-1f787a43c09b",
   "metadata": {
    "colab": {
     "base_uri": "https://localhost:8080/"
    },
    "id": "87ab69b9-c880-4c48-8fbd-1f787a43c09b",
    "outputId": "78dc4ae0-be83-4492-e807-a0beaa3492ec"
   },
   "outputs": [
    {
     "name": "stdout",
     "output_type": "stream",
     "text": [
      "2021 done.\n",
      "2022 done.\n",
      "2023 done.\n",
      "Downcasting floats.\n",
      "(149021, 36)\n"
     ]
    }
   ],
   "source": [
    "# define the seasons I want to load\n",
    "desired_seasons = [2021, 2022, 2023]\n",
    "\n",
    "# load play-by-play data using nfl_data_py\n",
    "df = nfl.import_pbp_data(\n",
    "    years=desired_seasons,\n",
    "    columns=[\n",
    "        'game_id',\n",
    "        'posteam',\n",
    "        'defteam',\n",
    "        'home_team',\n",
    "        'away_team',\n",
    "        'posteam_score',\n",
    "        'defteam_score',\n",
    "        'yardline_100',\n",
    "        'game_date',\n",
    "        'quarter_seconds_remaining',\n",
    "        'game_seconds_remaining',\n",
    "        'down',\n",
    "        'wp',\n",
    "        'score_differential',\n",
    "        'ydstogo',\n",
    "    ]\n",
    ")\n",
    "\n",
    "# inspect the shape of the data\n",
    "print(df.shape)"
   ]
  },
  {
   "cell_type": "code",
   "execution_count": 4,
   "id": "418f34f7-cb2b-48a7-b583-3152f4cff1b5",
   "metadata": {
    "colab": {
     "base_uri": "https://localhost:8080/",
     "height": 516
    },
    "id": "418f34f7-cb2b-48a7-b583-3152f4cff1b5",
    "outputId": "6e6e965a-99c0-4e8d-a1ba-637ea058334b"
   },
   "outputs": [
    {
     "data": {
      "text/html": [
       "<div>\n",
       "<style scoped>\n",
       "    .dataframe tbody tr th:only-of-type {\n",
       "        vertical-align: middle;\n",
       "    }\n",
       "\n",
       "    .dataframe tbody tr th {\n",
       "        vertical-align: top;\n",
       "    }\n",
       "\n",
       "    .dataframe thead th {\n",
       "        text-align: right;\n",
       "    }\n",
       "</style>\n",
       "<table border=\"1\" class=\"dataframe\">\n",
       "  <thead>\n",
       "    <tr style=\"text-align: right;\">\n",
       "      <th></th>\n",
       "      <th>game_id</th>\n",
       "      <th>posteam</th>\n",
       "      <th>defteam</th>\n",
       "      <th>home_team</th>\n",
       "      <th>away_team</th>\n",
       "      <th>posteam_score</th>\n",
       "      <th>defteam_score</th>\n",
       "      <th>yardline_100</th>\n",
       "      <th>game_date</th>\n",
       "      <th>quarter_seconds_remaining</th>\n",
       "      <th>...</th>\n",
       "      <th>offense_players</th>\n",
       "      <th>defense_players</th>\n",
       "      <th>n_offense</th>\n",
       "      <th>n_defense</th>\n",
       "      <th>ngs_air_yards</th>\n",
       "      <th>time_to_throw</th>\n",
       "      <th>was_pressure</th>\n",
       "      <th>route</th>\n",
       "      <th>defense_man_zone_type</th>\n",
       "      <th>defense_coverage_type</th>\n",
       "    </tr>\n",
       "  </thead>\n",
       "  <tbody>\n",
       "    <tr>\n",
       "      <th>15211</th>\n",
       "      <td>2021_06_KC_WAS</td>\n",
       "      <td>WAS</td>\n",
       "      <td>KC</td>\n",
       "      <td>WAS</td>\n",
       "      <td>KC</td>\n",
       "      <td>3.0</td>\n",
       "      <td>7.0</td>\n",
       "      <td>88.0</td>\n",
       "      <td>2021-10-17</td>\n",
       "      <td>837.0</td>\n",
       "      <td>...</td>\n",
       "      <td>00-0032009;00-0031095;00-0036626;00-0033611;00...</td>\n",
       "      <td>00-0036374;00-0035625;00-0032210;00-0036378;00...</td>\n",
       "      <td>11.0</td>\n",
       "      <td>11.0</td>\n",
       "      <td>10.11</td>\n",
       "      <td>2.903</td>\n",
       "      <td>True</td>\n",
       "      <td>IN</td>\n",
       "      <td>MAN_COVERAGE</td>\n",
       "      <td>COVER_1</td>\n",
       "    </tr>\n",
       "    <tr>\n",
       "      <th>79899</th>\n",
       "      <td>2022_12_LAC_ARI</td>\n",
       "      <td>ARI</td>\n",
       "      <td>LAC</td>\n",
       "      <td>ARI</td>\n",
       "      <td>LAC</td>\n",
       "      <td>6.0</td>\n",
       "      <td>0.0</td>\n",
       "      <td>15.0</td>\n",
       "      <td>2022-11-27</td>\n",
       "      <td>153.0</td>\n",
       "      <td>...</td>\n",
       "      <td>00-0036363;00-0033631;00-0036371;00-0035238;00...</td>\n",
       "      <td>00-0036716;00-0033697;00-0036617;00-0035903;00...</td>\n",
       "      <td>11.0</td>\n",
       "      <td>11.0</td>\n",
       "      <td>NaN</td>\n",
       "      <td>NaN</td>\n",
       "      <td>None</td>\n",
       "      <td>None</td>\n",
       "      <td>None</td>\n",
       "      <td>None</td>\n",
       "    </tr>\n",
       "    <tr>\n",
       "      <th>99826</th>\n",
       "      <td>2023_01_CAR_ATL</td>\n",
       "      <td>ATL</td>\n",
       "      <td>CAR</td>\n",
       "      <td>ATL</td>\n",
       "      <td>CAR</td>\n",
       "      <td>17.0</td>\n",
       "      <td>10.0</td>\n",
       "      <td>60.0</td>\n",
       "      <td>2023-09-10</td>\n",
       "      <td>510.0</td>\n",
       "      <td>...</td>\n",
       "      <td>00-0033555;00-0037587;00-0032065;00-0034854;00...</td>\n",
       "      <td>00-0031785;00-0036281;00-0036268;00-0037429;00...</td>\n",
       "      <td>11.0</td>\n",
       "      <td>11.0</td>\n",
       "      <td>NaN</td>\n",
       "      <td>NaN</td>\n",
       "      <td>None</td>\n",
       "      <td>None</td>\n",
       "      <td>None</td>\n",
       "      <td>None</td>\n",
       "    </tr>\n",
       "    <tr>\n",
       "      <th>41180</th>\n",
       "      <td>2021_16_MIA_NO</td>\n",
       "      <td>MIA</td>\n",
       "      <td>NO</td>\n",
       "      <td>NO</td>\n",
       "      <td>MIA</td>\n",
       "      <td>10.0</td>\n",
       "      <td>3.0</td>\n",
       "      <td>1.0</td>\n",
       "      <td>2021-12-27</td>\n",
       "      <td>356.0</td>\n",
       "      <td>...</td>\n",
       "      <td>00-0036248;00-0031893;00-0034798;00-0035231;00...</td>\n",
       "      <td>00-0035409;00-0036418;00-0034344;00-0034944;00...</td>\n",
       "      <td>11.0</td>\n",
       "      <td>11.0</td>\n",
       "      <td>NaN</td>\n",
       "      <td>NaN</td>\n",
       "      <td>None</td>\n",
       "      <td>None</td>\n",
       "      <td>None</td>\n",
       "      <td>None</td>\n",
       "    </tr>\n",
       "    <tr>\n",
       "      <th>86386</th>\n",
       "      <td>2022_15_ATL_NO</td>\n",
       "      <td>ATL</td>\n",
       "      <td>NO</td>\n",
       "      <td>NO</td>\n",
       "      <td>ATL</td>\n",
       "      <td>0.0</td>\n",
       "      <td>7.0</td>\n",
       "      <td>35.0</td>\n",
       "      <td>2022-12-18</td>\n",
       "      <td>606.0</td>\n",
       "      <td>...</td>\n",
       "      <td>00-0034944;00-0032569;00-0034116;00-0035412;00...</td>\n",
       "      <td>00-0032320;00-0030578;00-0034639;00-0032773;00...</td>\n",
       "      <td>11.0</td>\n",
       "      <td>11.0</td>\n",
       "      <td>NaN</td>\n",
       "      <td>NaN</td>\n",
       "      <td>None</td>\n",
       "      <td>None</td>\n",
       "      <td>None</td>\n",
       "      <td>None</td>\n",
       "    </tr>\n",
       "  </tbody>\n",
       "</table>\n",
       "<p>5 rows × 36 columns</p>\n",
       "</div>"
      ],
      "text/plain": [
       "               game_id posteam defteam home_team away_team  posteam_score  \\\n",
       "15211   2021_06_KC_WAS     WAS      KC       WAS        KC            3.0   \n",
       "79899  2022_12_LAC_ARI     ARI     LAC       ARI       LAC            6.0   \n",
       "99826  2023_01_CAR_ATL     ATL     CAR       ATL       CAR           17.0   \n",
       "41180   2021_16_MIA_NO     MIA      NO        NO       MIA           10.0   \n",
       "86386   2022_15_ATL_NO     ATL      NO        NO       ATL            0.0   \n",
       "\n",
       "       defteam_score  yardline_100   game_date  quarter_seconds_remaining  \\\n",
       "15211            7.0          88.0  2021-10-17                      837.0   \n",
       "79899            0.0          15.0  2022-11-27                      153.0   \n",
       "99826           10.0          60.0  2023-09-10                      510.0   \n",
       "41180            3.0           1.0  2021-12-27                      356.0   \n",
       "86386            7.0          35.0  2022-12-18                      606.0   \n",
       "\n",
       "       ...                                    offense_players  \\\n",
       "15211  ...  00-0032009;00-0031095;00-0036626;00-0033611;00...   \n",
       "79899  ...  00-0036363;00-0033631;00-0036371;00-0035238;00...   \n",
       "99826  ...  00-0033555;00-0037587;00-0032065;00-0034854;00...   \n",
       "41180  ...  00-0036248;00-0031893;00-0034798;00-0035231;00...   \n",
       "86386  ...  00-0034944;00-0032569;00-0034116;00-0035412;00...   \n",
       "\n",
       "                                         defense_players  n_offense  \\\n",
       "15211  00-0036374;00-0035625;00-0032210;00-0036378;00...       11.0   \n",
       "79899  00-0036716;00-0033697;00-0036617;00-0035903;00...       11.0   \n",
       "99826  00-0031785;00-0036281;00-0036268;00-0037429;00...       11.0   \n",
       "41180  00-0035409;00-0036418;00-0034344;00-0034944;00...       11.0   \n",
       "86386  00-0032320;00-0030578;00-0034639;00-0032773;00...       11.0   \n",
       "\n",
       "       n_defense  ngs_air_yards  time_to_throw was_pressure  route  \\\n",
       "15211       11.0          10.11          2.903         True     IN   \n",
       "79899       11.0            NaN            NaN         None   None   \n",
       "99826       11.0            NaN            NaN         None   None   \n",
       "41180       11.0            NaN            NaN         None   None   \n",
       "86386       11.0            NaN            NaN         None   None   \n",
       "\n",
       "      defense_man_zone_type defense_coverage_type  \n",
       "15211          MAN_COVERAGE               COVER_1  \n",
       "79899                  None                  None  \n",
       "99826                  None                  None  \n",
       "41180                  None                  None  \n",
       "86386                  None                  None  \n",
       "\n",
       "[5 rows x 36 columns]"
      ]
     },
     "execution_count": 4,
     "metadata": {},
     "output_type": "execute_result"
    }
   ],
   "source": [
    "# look at some random plays\n",
    "df.sample(5)"
   ]
  },
  {
   "cell_type": "code",
   "execution_count": 5,
   "id": "675051d8-6114-4a0b-b0c8-7f6d1bc0df3e",
   "metadata": {
    "colab": {
     "base_uri": "https://localhost:8080/"
    },
    "id": "675051d8-6114-4a0b-b0c8-7f6d1bc0df3e",
    "outputId": "dc05fc02-7cb0-4cec-acc6-e86ab396e591",
    "scrolled": true
   },
   "outputs": [
    {
     "data": {
      "text/plain": [
       "array(['game_id', 'posteam', 'defteam', 'home_team', 'away_team',\n",
       "       'posteam_score', 'defteam_score', 'yardline_100', 'game_date',\n",
       "       'quarter_seconds_remaining', 'game_seconds_remaining', 'down',\n",
       "       'wp', 'score_differential', 'ydstogo', 'play_id', 'old_game_id',\n",
       "       'season', 'nflverse_game_id', 'possession_team',\n",
       "       'offense_formation', 'offense_personnel', 'defenders_in_box',\n",
       "       'defense_personnel', 'number_of_pass_rushers', 'players_on_play',\n",
       "       'offense_players', 'defense_players', 'n_offense', 'n_defense',\n",
       "       'ngs_air_yards', 'time_to_throw', 'was_pressure', 'route',\n",
       "       'defense_man_zone_type', 'defense_coverage_type'], dtype=object)"
      ]
     },
     "execution_count": 5,
     "metadata": {},
     "output_type": "execute_result"
    }
   ],
   "source": [
    "df.columns.values"
   ]
  },
  {
   "cell_type": "markdown",
   "id": "3b475680-46c9-4dfc-9e27-822bd0bcf1e1",
   "metadata": {},
   "source": [
    "The function below is used as a form of data cleaning, ensuring that the plays being fed to us by the `nfl_data_py` import actually make sense. This takes in the data of a certain game and ensures that the scores never decrease and that they never increase by a disallowed increment. While there may be certain instances where these changes in the data would actually occur, it's almost always noise that obscures the model's output."
   ]
  },
  {
   "cell_type": "code",
   "execution_count": 38,
   "id": "5oN2BuqOUnoU",
   "metadata": {
    "id": "5oN2BuqOUnoU"
   },
   "outputs": [],
   "source": [
    "valid_point_increments = {1, 2, 3, 6, 7, 8}\n",
    "\n",
    "def validate_scores(df):\n",
    "    # check for valid score decreases\n",
    "    invalid_home_score_decrease = df['home_team_score'].diff().fillna(0) < 0\n",
    "    invalid_away_score_decrease = df['away_team_score'].diff().fillna(0) < 0\n",
    "\n",
    "    # check for valid point increments for both home and away scores\n",
    "    home_score_increments = df['home_team_score'].diff().fillna(0)\n",
    "    away_score_increments = df['away_team_score'].diff().fillna(0)\n",
    "\n",
    "    invalid_home_increments = ~home_score_increments.isin(valid_point_increments.union({0}))\n",
    "    invalid_away_increments = ~away_score_increments.isin(valid_point_increments.union({0}))\n",
    "\n",
    "    # combine all invalid rows into one boolean mask\n",
    "    invalid_rows = invalid_home_score_decrease | invalid_away_score_decrease | invalid_home_increments | invalid_away_increments\n",
    "\n",
    "    # get the indices of invalid rows\n",
    "    invalid_indices = df.index[invalid_rows]\n",
    "\n",
    "    if not invalid_indices.empty:\n",
    "        df = df.drop(invalid_indices).reset_index(drop=True)\n",
    "\n",
    "    return df"
   ]
  },
  {
   "cell_type": "markdown",
   "id": "6c7b0d03-8e77-4351-afef-e156961cc1d5",
   "metadata": {},
   "source": [
    "The first three lines continue to clean our data. Below them are some feature assignments to our newly cleaned dataframe, allowing the model to do its magic more without needing to recognize aspects such as `posession_status` on its own. I then randomly select a game within those 3 years and read some data from it, including the plays, team names, date, etc. The plays are actually given in random order by the `nfl_data_py` library, so they will be sorted chronologically."
   ]
  },
  {
   "cell_type": "code",
   "execution_count": 40,
   "id": "88d752ea-adc3-43fc-9d06-2d16963b3cfc",
   "metadata": {
    "colab": {
     "base_uri": "https://localhost:8080/"
    },
    "id": "88d752ea-adc3-43fc-9d06-2d16963b3cfc",
    "outputId": "9eb8add8-ab27-4353-f64f-3b7d7d7f2496"
   },
   "outputs": [],
   "source": [
    "# filter for valid rows and reset index\n",
    "valid_df = df[df['wp'].notnull() & df['posteam_score'].notnull() & df['defteam_score'].notnull()].reset_index(drop=True)\n",
    "valid_df['home_team_score'] = valid_df['posteam_score'].where(valid_df['posteam'] == valid_df['home_team'], valid_df['defteam_score'])\n",
    "valid_df['away_team_score'] = valid_df['defteam_score'].where(valid_df['posteam'] == valid_df['home_team'], valid_df['posteam_score'])\n",
    "\n",
    "valid_df['field_position'] = valid_df['yardline_100']\n",
    "valid_df['possession_status'] = (valid_df['posteam'] == valid_df['home_team']).astype(int)\n",
    "valid_df.fillna(0, inplace=True)\n",
    "valid_df = validate_scores(valid_df)\n",
    "\n",
    "# randomly select a game_id from valid_df\n",
    "random_game_id = valid_df['game_id'].sample(1).values[0]\n",
    "game_df = valid_df[valid_df['game_id'] == random_game_id].reset_index(drop=True)\n",
    "\n",
    "# assign new labels for each play in the game\n",
    "game_df['chronological_play_number'] = game_df.index + 1\n",
    "home_team = game_df['home_team'].unique()[0]\n",
    "away_team = game_df['away_team'].unique()[0]\n",
    "game_date = game_df['game_date'].unique()[0]\n",
    "\n",
    "# function to format time remaining\n",
    "def format_time_remaining(seconds_remaining):\n",
    "    minutes = seconds_remaining // 60\n",
    "    seconds = seconds_remaining % 60\n",
    "    return f\"{int(minutes)}:{int(seconds):02d}\"\n",
    "\n",
    "# prepare the transformed win with a 100%-50%-100% scale\n",
    "def transform_win_prob_for_display(win_prob):\n",
    "    return np.where(win_prob >= 0.5, win_prob * 100, (1 - win_prob) * 100)\n",
    "\n",
    "# create the dataset WP graph before the model's graph\n",
    "game_df_sorted = game_df.sort_values(by='game_seconds_remaining', ascending=False)\n",
    "\n",
    "time_remaining = game_df_sorted['game_seconds_remaining']\n",
    "dataset_wp_transformed = np.where(game_df_sorted['wp'] >= 0.5, game_df_sorted['wp'] * 100, (1 - game_df_sorted['wp']) * 100)\n",
    "\n",
    "# detect possession changes\n",
    "game_df['possession_change'] = game_df['posteam'] != game_df['posteam'].shift(1)\n",
    "possession_change_times = game_df[game_df['possession_change']]['game_seconds_remaining']"
   ]
  },
  {
   "cell_type": "markdown",
   "id": "35b676f5-6385-4748-9bd0-98a8618bf67d",
   "metadata": {},
   "source": [
    "We can now quite easily graph the win probabilities provided to us by the dataset, allowing us to get a taste of what our own predictions should look like. The choice of `plotly` over the quintessential `matplotlib` was so that the user could interact with any given play at any time and see details about that moment. Some of the changes in WP can be difficult to interpret for an audience without context, the most important of which is possession changes, which is why they are also graphed. \n",
    "\n",
    "All of the data is originally given in a relationship between play # and win probability, which is very convenient when feeding data to the model, but much harder to interpret when compared to the time remaining in the game. As such, I decided to make the x-axis list out the time remaining with tickmarks every 5 minutes."
   ]
  },
  {
   "cell_type": "code",
   "execution_count": 69,
   "id": "ab69867b-f6ae-47cf-a815-cde51184bc85",
   "metadata": {
    "colab": {
     "base_uri": "https://localhost:8080/"
    },
    "id": "ab69867b-f6ae-47cf-a815-cde51184bc85",
    "outputId": "1290f6f8-47ea-413c-fc9a-438ba29fbb23"
   },
   "outputs": [
    {
     "data": {
      "application/vnd.plotly.v1+json": {
       "config": {
        "plotlyServerURL": "https://plot.ly"
       },
       "data": [
        {
         "hoverinfo": "text",
         "hovertext": [
          "PHI Score: 0.0<br>LAC Score: 0.0<br>Dataset Win Probability: 54.63%<br>Time Remaining: 59:53",
          "PHI Score: 0.0<br>LAC Score: 0.0<br>Dataset Win Probability: 53.90%<br>Time Remaining: 59:19",
          "PHI Score: 0.0<br>LAC Score: 0.0<br>Dataset Win Probability: 52.47%<br>Time Remaining: 58:38",
          "PHI Score: 0.0<br>LAC Score: 0.0<br>Dataset Win Probability: 58.44%<br>Time Remaining: 58:02",
          "PHI Score: 0.0<br>LAC Score: 0.0<br>Dataset Win Probability: 56.65%<br>Time Remaining: 57:57",
          "PHI Score: 0.0<br>LAC Score: 0.0<br>Dataset Win Probability: 53.08%<br>Time Remaining: 57:52",
          "PHI Score: 0.0<br>LAC Score: 0.0<br>Dataset Win Probability: 54.47%<br>Time Remaining: 57:52",
          "PHI Score: 0.0<br>LAC Score: 0.0<br>Dataset Win Probability: 50.25%<br>Time Remaining: 57:47",
          "PHI Score: 0.0<br>LAC Score: 0.0<br>Dataset Win Probability: 52.85%<br>Time Remaining: 57:39",
          "PHI Score: 0.0<br>LAC Score: 0.0<br>Dataset Win Probability: 54.13%<br>Time Remaining: 57:07",
          "PHI Score: 0.0<br>LAC Score: 0.0<br>Dataset Win Probability: 56.84%<br>Time Remaining: 57:01",
          "PHI Score: 0.0<br>LAC Score: 0.0<br>Dataset Win Probability: 50.56%<br>Time Remaining: 56:21",
          "PHI Score: 0.0<br>LAC Score: 0.0<br>Dataset Win Probability: 51.61%<br>Time Remaining: 56:06",
          "PHI Score: 0.0<br>LAC Score: 0.0<br>Dataset Win Probability: 50.68%<br>Time Remaining: 55:24",
          "PHI Score: 0.0<br>LAC Score: 0.0<br>Dataset Win Probability: 53.00%<br>Time Remaining: 54:47",
          "PHI Score: 0.0<br>LAC Score: 0.0<br>Dataset Win Probability: 53.68%<br>Time Remaining: 54:06",
          "PHI Score: 0.0<br>LAC Score: 0.0<br>Dataset Win Probability: 54.76%<br>Time Remaining: 53:25",
          "PHI Score: 0.0<br>LAC Score: 0.0<br>Dataset Win Probability: 61.36%<br>Time Remaining: 52:47",
          "PHI Score: 0.0<br>LAC Score: 0.0<br>Dataset Win Probability: 60.73%<br>Time Remaining: 52:10",
          "PHI Score: 0.0<br>LAC Score: 0.0<br>Dataset Win Probability: 65.21%<br>Time Remaining: 51:27",
          "PHI Score: 0.0<br>LAC Score: 0.0<br>Dataset Win Probability: 64.10%<br>Time Remaining: 51:24",
          "PHI Score: 0.0<br>LAC Score: 0.0<br>Dataset Win Probability: 61.89%<br>Time Remaining: 50:51",
          "PHI Score: 0.0<br>LAC Score: 0.0<br>Dataset Win Probability: 59.63%<br>Time Remaining: 50:46",
          "PHI Score: 0.0<br>LAC Score: 0.0<br>Dataset Win Probability: 52.19%<br>Time Remaining: 50:43",
          "PHI Score: 0.0<br>LAC Score: 0.0<br>Dataset Win Probability: 50.16%<br>Time Remaining: 50:38",
          "PHI Score: 0.0<br>LAC Score: 0.0<br>Dataset Win Probability: 52.81%<br>Time Remaining: 49:55",
          "PHI Score: 0.0<br>LAC Score: 0.0<br>Dataset Win Probability: 56.33%<br>Time Remaining: 49:19",
          "PHI Score: 0.0<br>LAC Score: 0.0<br>Dataset Win Probability: 60.24%<br>Time Remaining: 49:09",
          "PHI Score: 0.0<br>LAC Score: 0.0<br>Dataset Win Probability: 61.86%<br>Time Remaining: 48:29",
          "PHI Score: 0.0<br>LAC Score: 0.0<br>Dataset Win Probability: 61.12%<br>Time Remaining: 47:48",
          "PHI Score: 0.0<br>LAC Score: 0.0<br>Dataset Win Probability: 60.26%<br>Time Remaining: 47:13",
          "PHI Score: 0.0<br>LAC Score: 0.0<br>Dataset Win Probability: 64.21%<br>Time Remaining: 46:25",
          "PHI Score: 0.0<br>LAC Score: 0.0<br>Dataset Win Probability: 63.08%<br>Time Remaining: 45:54",
          "PHI Score: 0.0<br>LAC Score: 6.0<br>Dataset Win Probability: 67.66%<br>Time Remaining: 45:50",
          "PHI Score: 0.0<br>LAC Score: 7.0<br>Dataset Win Probability: 67.78%<br>Time Remaining: 45:50",
          "PHI Score: 0.0<br>LAC Score: 7.0<br>Dataset Win Probability: 67.78%<br>Time Remaining: 45:50",
          "PHI Score: 0.0<br>LAC Score: 7.0<br>Dataset Win Probability: 65.21%<br>Time Remaining: 45:23",
          "PHI Score: 0.0<br>LAC Score: 7.0<br>Dataset Win Probability: 64.45%<br>Time Remaining: 45:00",
          "PHI Score: 0.0<br>LAC Score: 7.0<br>Dataset Win Probability: 64.45%<br>Time Remaining: 45:00",
          "PHI Score: 0.0<br>LAC Score: 7.0<br>Dataset Win Probability: 65.04%<br>Time Remaining: 44:26",
          "PHI Score: 0.0<br>LAC Score: 7.0<br>Dataset Win Probability: 58.73%<br>Time Remaining: 44:04",
          "PHI Score: 0.0<br>LAC Score: 7.0<br>Dataset Win Probability: 60.35%<br>Time Remaining: 43:27",
          "PHI Score: 0.0<br>LAC Score: 7.0<br>Dataset Win Probability: 56.69%<br>Time Remaining: 42:48",
          "PHI Score: 0.0<br>LAC Score: 7.0<br>Dataset Win Probability: 55.44%<br>Time Remaining: 42:24",
          "PHI Score: 0.0<br>LAC Score: 7.0<br>Dataset Win Probability: 56.52%<br>Time Remaining: 42:04",
          "PHI Score: 0.0<br>LAC Score: 7.0<br>Dataset Win Probability: 57.53%<br>Time Remaining: 41:25",
          "PHI Score: 7.0<br>LAC Score: 7.0<br>Dataset Win Probability: 53.39%<br>Time Remaining: 41:20",
          "PHI Score: 6.0<br>LAC Score: 7.0<br>Dataset Win Probability: 52.86%<br>Time Remaining: 41:20",
          "PHI Score: 7.0<br>LAC Score: 7.0<br>Dataset Win Probability: 53.39%<br>Time Remaining: 41:14",
          "PHI Score: 7.0<br>LAC Score: 7.0<br>Dataset Win Probability: 52.01%<br>Time Remaining: 40:53",
          "PHI Score: 7.0<br>LAC Score: 7.0<br>Dataset Win Probability: 55.46%<br>Time Remaining: 40:14",
          "PHI Score: 7.0<br>LAC Score: 7.0<br>Dataset Win Probability: 50.08%<br>Time Remaining: 39:45",
          "PHI Score: 7.0<br>LAC Score: 7.0<br>Dataset Win Probability: 57.00%<br>Time Remaining: 39:04",
          "PHI Score: 7.0<br>LAC Score: 7.0<br>Dataset Win Probability: 57.68%<br>Time Remaining: 38:25",
          "PHI Score: 7.0<br>LAC Score: 7.0<br>Dataset Win Probability: 56.20%<br>Time Remaining: 37:56",
          "PHI Score: 7.0<br>LAC Score: 7.0<br>Dataset Win Probability: 55.05%<br>Time Remaining: 37:30",
          "PHI Score: 7.0<br>LAC Score: 7.0<br>Dataset Win Probability: 54.30%<br>Time Remaining: 37:25",
          "PHI Score: 7.0<br>LAC Score: 7.0<br>Dataset Win Probability: 54.94%<br>Time Remaining: 36:51",
          "PHI Score: 7.0<br>LAC Score: 7.0<br>Dataset Win Probability: 56.94%<br>Time Remaining: 36:24",
          "PHI Score: 7.0<br>LAC Score: 7.0<br>Dataset Win Probability: 56.69%<br>Time Remaining: 35:50",
          "PHI Score: 7.0<br>LAC Score: 7.0<br>Dataset Win Probability: 56.30%<br>Time Remaining: 35:18",
          "PHI Score: 7.0<br>LAC Score: 7.0<br>Dataset Win Probability: 57.39%<br>Time Remaining: 34:50",
          "PHI Score: 7.0<br>LAC Score: 7.0<br>Dataset Win Probability: 61.25%<br>Time Remaining: 34:24",
          "PHI Score: 7.0<br>LAC Score: 7.0<br>Dataset Win Probability: 62.23%<br>Time Remaining: 33:55",
          "PHI Score: 7.0<br>LAC Score: 7.0<br>Dataset Win Probability: 62.51%<br>Time Remaining: 33:21",
          "PHI Score: 7.0<br>LAC Score: 7.0<br>Dataset Win Probability: 65.20%<br>Time Remaining: 33:02",
          "PHI Score: 7.0<br>LAC Score: 7.0<br>Dataset Win Probability: 64.97%<br>Time Remaining: 32:25",
          "PHI Score: 7.0<br>LAC Score: 7.0<br>Dataset Win Probability: 63.84%<br>Time Remaining: 32:00",
          "PHI Score: 7.0<br>LAC Score: 7.0<br>Dataset Win Probability: 68.94%<br>Time Remaining: 31:22",
          "PHI Score: 7.0<br>LAC Score: 7.0<br>Dataset Win Probability: 68.62%<br>Time Remaining: 31:14",
          "PHI Score: 7.0<br>LAC Score: 7.0<br>Dataset Win Probability: 67.76%<br>Time Remaining: 30:28",
          "PHI Score: 7.0<br>LAC Score: 7.0<br>Dataset Win Probability: 62.55%<br>Time Remaining: 30:24",
          "PHI Score: 10.0<br>LAC Score: 7.0<br>Dataset Win Probability: 60.51%<br>Time Remaining: 30:21",
          "PHI Score: 10.0<br>LAC Score: 7.0<br>Dataset Win Probability: 61.63%<br>Time Remaining: 30:15",
          "PHI Score: 10.0<br>LAC Score: 7.0<br>Dataset Win Probability: 62.87%<br>Time Remaining: 30:00",
          "PHI Score: 10.0<br>LAC Score: 7.0<br>Dataset Win Probability: 62.84%<br>Time Remaining: 29:53",
          "PHI Score: 10.0<br>LAC Score: 7.0<br>Dataset Win Probability: 60.09%<br>Time Remaining: 29:21",
          "PHI Score: 10.0<br>LAC Score: 7.0<br>Dataset Win Probability: 63.74%<br>Time Remaining: 28:37",
          "PHI Score: 10.0<br>LAC Score: 7.0<br>Dataset Win Probability: 56.20%<br>Time Remaining: 28:00",
          "PHI Score: 10.0<br>LAC Score: 7.0<br>Dataset Win Probability: 51.53%<br>Time Remaining: 27:25",
          "PHI Score: 10.0<br>LAC Score: 7.0<br>Dataset Win Probability: 52.41%<br>Time Remaining: 26:53",
          "PHI Score: 10.0<br>LAC Score: 7.0<br>Dataset Win Probability: 50.73%<br>Time Remaining: 26:50",
          "PHI Score: 10.0<br>LAC Score: 7.0<br>Dataset Win Probability: 52.62%<br>Time Remaining: 26:17",
          "PHI Score: 10.0<br>LAC Score: 7.0<br>Dataset Win Probability: 56.36%<br>Time Remaining: 25:36",
          "PHI Score: 10.0<br>LAC Score: 10.0<br>Dataset Win Probability: 55.93%<br>Time Remaining: 25:33",
          "PHI Score: 10.0<br>LAC Score: 10.0<br>Dataset Win Probability: 55.93%<br>Time Remaining: 25:33",
          "PHI Score: 10.0<br>LAC Score: 10.0<br>Dataset Win Probability: 55.40%<br>Time Remaining: 24:53",
          "PHI Score: 10.0<br>LAC Score: 10.0<br>Dataset Win Probability: 53.40%<br>Time Remaining: 24:28",
          "PHI Score: 10.0<br>LAC Score: 10.0<br>Dataset Win Probability: 54.34%<br>Time Remaining: 23:50",
          "PHI Score: 10.0<br>LAC Score: 10.0<br>Dataset Win Probability: 51.28%<br>Time Remaining: 23:40",
          "PHI Score: 10.0<br>LAC Score: 10.0<br>Dataset Win Probability: 60.23%<br>Time Remaining: 23:00",
          "PHI Score: 10.0<br>LAC Score: 10.0<br>Dataset Win Probability: 63.63%<br>Time Remaining: 22:25",
          "PHI Score: 10.0<br>LAC Score: 10.0<br>Dataset Win Probability: 61.60%<br>Time Remaining: 21:50",
          "PHI Score: 10.0<br>LAC Score: 16.0<br>Dataset Win Probability: 71.04%<br>Time Remaining: 21:44",
          "PHI Score: 10.0<br>LAC Score: 16.0<br>Dataset Win Probability: 69.13%<br>Time Remaining: 21:44",
          "PHI Score: 10.0<br>LAC Score: 16.0<br>Dataset Win Probability: 70.19%<br>Time Remaining: 21:40",
          "PHI Score: 10.0<br>LAC Score: 16.0<br>Dataset Win Probability: 72.26%<br>Time Remaining: 21:02",
          "PHI Score: 10.0<br>LAC Score: 16.0<br>Dataset Win Probability: 66.65%<br>Time Remaining: 20:36",
          "PHI Score: 10.0<br>LAC Score: 16.0<br>Dataset Win Probability: 63.32%<br>Time Remaining: 20:11",
          "PHI Score: 10.0<br>LAC Score: 16.0<br>Dataset Win Probability: 62.05%<br>Time Remaining: 19:52",
          "PHI Score: 10.0<br>LAC Score: 16.0<br>Dataset Win Probability: 57.02%<br>Time Remaining: 19:26",
          "PHI Score: 10.0<br>LAC Score: 16.0<br>Dataset Win Probability: 58.93%<br>Time Remaining: 18:46",
          "PHI Score: 10.0<br>LAC Score: 16.0<br>Dataset Win Probability: 61.62%<br>Time Remaining: 18:43",
          "PHI Score: 10.0<br>LAC Score: 16.0<br>Dataset Win Probability: 51.27%<br>Time Remaining: 18:36",
          "PHI Score: 10.0<br>LAC Score: 16.0<br>Dataset Win Probability: 50.86%<br>Time Remaining: 18:14",
          "PHI Score: 16.0<br>LAC Score: 16.0<br>Dataset Win Probability: 54.74%<br>Time Remaining: 18:10",
          "PHI Score: 17.0<br>LAC Score: 16.0<br>Dataset Win Probability: 54.85%<br>Time Remaining: 18:10",
          "PHI Score: 17.0<br>LAC Score: 16.0<br>Dataset Win Probability: 51.70%<br>Time Remaining: 18:02",
          "PHI Score: 17.0<br>LAC Score: 16.0<br>Dataset Win Probability: 55.38%<br>Time Remaining: 17:24",
          "PHI Score: 17.0<br>LAC Score: 16.0<br>Dataset Win Probability: 55.59%<br>Time Remaining: 16:51",
          "PHI Score: 17.0<br>LAC Score: 16.0<br>Dataset Win Probability: 51.37%<br>Time Remaining: 16:46",
          "PHI Score: 17.0<br>LAC Score: 16.0<br>Dataset Win Probability: 51.45%<br>Time Remaining: 16:05",
          "PHI Score: 17.0<br>LAC Score: 16.0<br>Dataset Win Probability: 55.70%<br>Time Remaining: 15:40",
          "PHI Score: 17.0<br>LAC Score: 16.0<br>Dataset Win Probability: 55.80%<br>Time Remaining: 15:00",
          "PHI Score: 17.0<br>LAC Score: 16.0<br>Dataset Win Probability: 55.80%<br>Time Remaining: 15:00",
          "PHI Score: 17.0<br>LAC Score: 16.0<br>Dataset Win Probability: 57.33%<br>Time Remaining: 14:18",
          "PHI Score: 17.0<br>LAC Score: 16.0<br>Dataset Win Probability: 57.64%<br>Time Remaining: 13:38",
          "PHI Score: 17.0<br>LAC Score: 16.0<br>Dataset Win Probability: 53.99%<br>Time Remaining: 13:02",
          "PHI Score: 17.0<br>LAC Score: 16.0<br>Dataset Win Probability: 59.26%<br>Time Remaining: 12:51",
          "PHI Score: 17.0<br>LAC Score: 16.0<br>Dataset Win Probability: 61.17%<br>Time Remaining: 12:14",
          "PHI Score: 17.0<br>LAC Score: 16.0<br>Dataset Win Probability: 63.72%<br>Time Remaining: 11:38",
          "PHI Score: 17.0<br>LAC Score: 22.0<br>Dataset Win Probability: 73.54%<br>Time Remaining: 11:32",
          "PHI Score: 17.0<br>LAC Score: 24.0<br>Dataset Win Probability: 80.59%<br>Time Remaining: 11:32",
          "PHI Score: 17.0<br>LAC Score: 24.0<br>Dataset Win Probability: 80.72%<br>Time Remaining: 11:25",
          "PHI Score: 17.0<br>LAC Score: 24.0<br>Dataset Win Probability: 83.66%<br>Time Remaining: 10:40",
          "PHI Score: 17.0<br>LAC Score: 24.0<br>Dataset Win Probability: 77.71%<br>Time Remaining: 10:11",
          "PHI Score: 17.0<br>LAC Score: 24.0<br>Dataset Win Probability: 76.63%<br>Time Remaining: 9:48",
          "PHI Score: 17.0<br>LAC Score: 24.0<br>Dataset Win Probability: 79.08%<br>Time Remaining: 9:13",
          "PHI Score: 17.0<br>LAC Score: 24.0<br>Dataset Win Probability: 80.29%<br>Time Remaining: 8:37",
          "PHI Score: 17.0<br>LAC Score: 24.0<br>Dataset Win Probability: 75.29%<br>Time Remaining: 7:53",
          "PHI Score: 17.0<br>LAC Score: 24.0<br>Dataset Win Probability: 75.35%<br>Time Remaining: 7:30",
          "PHI Score: 17.0<br>LAC Score: 24.0<br>Dataset Win Probability: 77.23%<br>Time Remaining: 6:55",
          "PHI Score: 17.0<br>LAC Score: 24.0<br>Dataset Win Probability: 70.16%<br>Time Remaining: 6:16",
          "PHI Score: 24.0<br>LAC Score: 24.0<br>Dataset Win Probability: 52.86%<br>Time Remaining: 6:07",
          "PHI Score: 23.0<br>LAC Score: 24.0<br>Dataset Win Probability: 51.83%<br>Time Remaining: 6:07",
          "PHI Score: 24.0<br>LAC Score: 24.0<br>Dataset Win Probability: 52.86%<br>Time Remaining: 6:07",
          "PHI Score: 24.0<br>LAC Score: 24.0<br>Dataset Win Probability: 54.55%<br>Time Remaining: 5:31",
          "PHI Score: 24.0<br>LAC Score: 24.0<br>Dataset Win Probability: 50.10%<br>Time Remaining: 4:47",
          "PHI Score: 24.0<br>LAC Score: 24.0<br>Dataset Win Probability: 53.88%<br>Time Remaining: 4:09",
          "PHI Score: 24.0<br>LAC Score: 24.0<br>Dataset Win Probability: 52.80%<br>Time Remaining: 3:30",
          "PHI Score: 24.0<br>LAC Score: 24.0<br>Dataset Win Probability: 51.47%<br>Time Remaining: 3:27",
          "PHI Score: 24.0<br>LAC Score: 24.0<br>Dataset Win Probability: 52.80%<br>Time Remaining: 2:48",
          "PHI Score: 24.0<br>LAC Score: 24.0<br>Dataset Win Probability: 62.68%<br>Time Remaining: 2:00",
          "PHI Score: 24.0<br>LAC Score: 24.0<br>Dataset Win Probability: 68.80%<br>Time Remaining: 2:00",
          "PHI Score: 24.0<br>LAC Score: 24.0<br>Dataset Win Probability: 69.05%<br>Time Remaining: 1:53",
          "PHI Score: 24.0<br>LAC Score: 24.0<br>Dataset Win Probability: 65.80%<br>Time Remaining: 1:48",
          "PHI Score: 24.0<br>LAC Score: 24.0<br>Dataset Win Probability: 60.35%<br>Time Remaining: 1:45",
          "PHI Score: 24.0<br>LAC Score: 24.0<br>Dataset Win Probability: 76.59%<br>Time Remaining: 1:04",
          "PHI Score: 24.0<br>LAC Score: 24.0<br>Dataset Win Probability: 75.80%<br>Time Remaining: 0:21",
          "PHI Score: 24.0<br>LAC Score: 24.0<br>Dataset Win Probability: 85.45%<br>Time Remaining: 0:06",
          "PHI Score: 24.0<br>LAC Score: 24.0<br>Dataset Win Probability: 84.25%<br>Time Remaining: 0:05",
          "PHI Score: 24.0<br>LAC Score: 27.0<br>Dataset Win Probability: 91.26%<br>Time Remaining: 0:02"
         ],
         "line": {
          "color": "blue",
          "dash": "dash",
          "width": 2
         },
         "mode": "lines",
         "name": "Real Dataset WP",
         "type": "scatter",
         "x": [
          3593,
          3559,
          3518,
          3482,
          3477,
          3472,
          3472,
          3467,
          3459,
          3427,
          3421,
          3381,
          3366,
          3324,
          3287,
          3246,
          3205,
          3167,
          3130,
          3087,
          3084,
          3051,
          3046,
          3043,
          3038,
          2995,
          2959,
          2949,
          2909,
          2868,
          2833,
          2785,
          2754,
          2750,
          2750,
          2750,
          2723,
          2700,
          2700,
          2666,
          2644,
          2607,
          2568,
          2544,
          2524,
          2485,
          2480,
          2480,
          2474,
          2453,
          2414,
          2385,
          2344,
          2305,
          2276,
          2250,
          2245,
          2211,
          2184,
          2150,
          2118,
          2090,
          2064,
          2035,
          2001,
          1982,
          1945,
          1920,
          1882,
          1874,
          1828,
          1824,
          1821,
          1815,
          1800,
          1793,
          1761,
          1717,
          1680,
          1645,
          1613,
          1610,
          1577,
          1536,
          1533,
          1533,
          1493,
          1468,
          1430,
          1420,
          1380,
          1345,
          1310,
          1304,
          1304,
          1300,
          1262,
          1236,
          1211,
          1192,
          1166,
          1126,
          1123,
          1116,
          1094,
          1090,
          1090,
          1082,
          1044,
          1011,
          1006,
          965,
          940,
          900,
          900,
          858,
          818,
          782,
          771,
          734,
          698,
          692,
          692,
          685,
          640,
          611,
          588,
          553,
          517,
          473,
          450,
          415,
          376,
          367,
          367,
          367,
          331,
          287,
          249,
          210,
          207,
          168,
          120,
          120,
          113,
          108,
          105,
          64,
          21,
          6,
          5,
          2
         ],
         "y": [
          54.62617874145508,
          53.900455474853516,
          52.473384857177734,
          58.44466781616211,
          56.65315246582031,
          53.08439636230469,
          54.47285842895508,
          49.7489013671875,
          47.14969253540039,
          45.871150970458984,
          43.160064697265625,
          49.44202423095703,
          51.6138801574707,
          50.67707443237305,
          52.999298095703125,
          53.677242279052734,
          54.76354217529297,
          61.36267852783203,
          60.733943939208984,
          65.20668029785156,
          64.09623718261719,
          61.89266586303711,
          59.627037048339844,
          52.18781280517578,
          50.164955139160156,
          47.193878173828125,
          43.66654586791992,
          60.23982620239258,
          61.86410140991211,
          61.12015151977539,
          60.259700775146484,
          64.20874786376953,
          63.08448791503906,
          67.6628646850586,
          32.21873092651367,
          32.21873092651367,
          34.79435729980469,
          35.552494049072266,
          35.552494049072266,
          34.96061706542969,
          41.266971588134766,
          39.65297317504883,
          43.309043884277344,
          44.561161041259766,
          43.48429489135742,
          42.471580505371094,
          46.61137390136719,
          52.86067199707031,
          46.61137390136719,
          52.0124626159668,
          55.46467971801758,
          49.916683197021484,
          57.001434326171875,
          57.6762809753418,
          56.197975158691406,
          55.05124282836914,
          54.304927825927734,
          54.94239807128906,
          56.94003677368164,
          56.68556213378906,
          56.297088623046875,
          57.39154815673828,
          61.25114059448242,
          62.227420806884766,
          62.50941848754883,
          65.20133972167969,
          64.97005462646484,
          63.83921432495117,
          68.93830108642578,
          68.62264251708984,
          67.76398468017578,
          62.54608154296875,
          39.488895416259766,
          38.365867614746094,
          37.12767791748047,
          37.15983200073242,
          39.9136962890625,
          36.25560760498047,
          43.79947280883789,
          48.47144317626953,
          52.40672302246094,
          50.7333869934082,
          47.3770751953125,
          43.6395263671875,
          55.932350158691406,
          55.932350158691406,
          55.39604949951172,
          53.402687072753906,
          45.6576042175293,
          48.723670959472656,
          60.23054122924805,
          63.63352584838867,
          61.60051727294922,
          71.04251098632812,
          30.866336822509766,
          29.807096481323242,
          27.743383407592773,
          33.35348892211914,
          36.67774200439453,
          37.95052719116211,
          42.97916793823242,
          41.07257080078125,
          38.381038665771484,
          48.72637939453125,
          49.142303466796875,
          54.73741912841797,
          45.145538330078125,
          48.29643249511719,
          44.620567321777344,
          44.40786361694336,
          51.37046432495117,
          51.44504165649414,
          44.295372009277344,
          44.19842529296875,
          44.19842529296875,
          57.325218200683594,
          57.6380729675293,
          53.99195098876953,
          59.261512756347656,
          61.174591064453125,
          63.71782302856445,
          73.5404052734375,
          19.41449546813965,
          19.281591415405273,
          16.341651916503906,
          22.2916316986084,
          23.37278938293457,
          20.91880989074707,
          19.71428680419922,
          24.713956832885742,
          24.652034759521484,
          22.767385482788086,
          29.84282684326172,
          47.13972854614258,
          51.8254508972168,
          47.13972854614258,
          45.448421478271484,
          49.8984375,
          53.883056640625,
          52.79595947265625,
          48.526851654052734,
          47.20024108886719,
          62.68296813964844,
          68.79874420166016,
          69.05196380615234,
          65.80413818359375,
          60.347904205322266,
          76.58684539794922,
          75.80226135253906,
          85.45008087158203,
          84.25283813476562,
          8.742579460144043
         ]
        },
        {
         "line": {
          "color": "green",
          "dash": "dash",
          "width": 1
         },
         "mode": "lines",
         "name": "Possession Change",
         "showlegend": true,
         "type": "scatter",
         "x": [
          3593,
          3593,
          null,
          3459,
          3459,
          null,
          3043,
          3043,
          null,
          2949,
          2949,
          null,
          2750,
          2750,
          null,
          2480,
          2480,
          null,
          2245,
          2245,
          null,
          1821,
          1821,
          null,
          1533,
          1533,
          null,
          1420,
          1420,
          null,
          1304,
          1304,
          null,
          1090,
          1090,
          null,
          692,
          692,
          null,
          367,
          367,
          null,
          2,
          2,
          null
         ],
         "y": [
          0,
          100,
          null,
          0,
          100,
          null,
          0,
          100,
          null,
          0,
          100,
          null,
          0,
          100,
          null,
          0,
          100,
          null,
          0,
          100,
          null,
          0,
          100,
          null,
          0,
          100,
          null,
          0,
          100,
          null,
          0,
          100,
          null,
          0,
          100,
          null,
          0,
          100,
          null,
          0,
          100,
          null,
          0,
          100,
          null
         ]
        }
       ],
       "layout": {
        "autosize": true,
        "hovermode": "closest",
        "showlegend": true,
        "template": {
         "data": {
          "bar": [
           {
            "error_x": {
             "color": "#2a3f5f"
            },
            "error_y": {
             "color": "#2a3f5f"
            },
            "marker": {
             "line": {
              "color": "#E5ECF6",
              "width": 0.5
             },
             "pattern": {
              "fillmode": "overlay",
              "size": 10,
              "solidity": 0.2
             }
            },
            "type": "bar"
           }
          ],
          "barpolar": [
           {
            "marker": {
             "line": {
              "color": "#E5ECF6",
              "width": 0.5
             },
             "pattern": {
              "fillmode": "overlay",
              "size": 10,
              "solidity": 0.2
             }
            },
            "type": "barpolar"
           }
          ],
          "carpet": [
           {
            "aaxis": {
             "endlinecolor": "#2a3f5f",
             "gridcolor": "white",
             "linecolor": "white",
             "minorgridcolor": "white",
             "startlinecolor": "#2a3f5f"
            },
            "baxis": {
             "endlinecolor": "#2a3f5f",
             "gridcolor": "white",
             "linecolor": "white",
             "minorgridcolor": "white",
             "startlinecolor": "#2a3f5f"
            },
            "type": "carpet"
           }
          ],
          "choropleth": [
           {
            "colorbar": {
             "outlinewidth": 0,
             "ticks": ""
            },
            "type": "choropleth"
           }
          ],
          "contour": [
           {
            "colorbar": {
             "outlinewidth": 0,
             "ticks": ""
            },
            "colorscale": [
             [
              0,
              "#0d0887"
             ],
             [
              0.1111111111111111,
              "#46039f"
             ],
             [
              0.2222222222222222,
              "#7201a8"
             ],
             [
              0.3333333333333333,
              "#9c179e"
             ],
             [
              0.4444444444444444,
              "#bd3786"
             ],
             [
              0.5555555555555556,
              "#d8576b"
             ],
             [
              0.6666666666666666,
              "#ed7953"
             ],
             [
              0.7777777777777778,
              "#fb9f3a"
             ],
             [
              0.8888888888888888,
              "#fdca26"
             ],
             [
              1,
              "#f0f921"
             ]
            ],
            "type": "contour"
           }
          ],
          "contourcarpet": [
           {
            "colorbar": {
             "outlinewidth": 0,
             "ticks": ""
            },
            "type": "contourcarpet"
           }
          ],
          "heatmap": [
           {
            "colorbar": {
             "outlinewidth": 0,
             "ticks": ""
            },
            "colorscale": [
             [
              0,
              "#0d0887"
             ],
             [
              0.1111111111111111,
              "#46039f"
             ],
             [
              0.2222222222222222,
              "#7201a8"
             ],
             [
              0.3333333333333333,
              "#9c179e"
             ],
             [
              0.4444444444444444,
              "#bd3786"
             ],
             [
              0.5555555555555556,
              "#d8576b"
             ],
             [
              0.6666666666666666,
              "#ed7953"
             ],
             [
              0.7777777777777778,
              "#fb9f3a"
             ],
             [
              0.8888888888888888,
              "#fdca26"
             ],
             [
              1,
              "#f0f921"
             ]
            ],
            "type": "heatmap"
           }
          ],
          "heatmapgl": [
           {
            "colorbar": {
             "outlinewidth": 0,
             "ticks": ""
            },
            "colorscale": [
             [
              0,
              "#0d0887"
             ],
             [
              0.1111111111111111,
              "#46039f"
             ],
             [
              0.2222222222222222,
              "#7201a8"
             ],
             [
              0.3333333333333333,
              "#9c179e"
             ],
             [
              0.4444444444444444,
              "#bd3786"
             ],
             [
              0.5555555555555556,
              "#d8576b"
             ],
             [
              0.6666666666666666,
              "#ed7953"
             ],
             [
              0.7777777777777778,
              "#fb9f3a"
             ],
             [
              0.8888888888888888,
              "#fdca26"
             ],
             [
              1,
              "#f0f921"
             ]
            ],
            "type": "heatmapgl"
           }
          ],
          "histogram": [
           {
            "marker": {
             "pattern": {
              "fillmode": "overlay",
              "size": 10,
              "solidity": 0.2
             }
            },
            "type": "histogram"
           }
          ],
          "histogram2d": [
           {
            "colorbar": {
             "outlinewidth": 0,
             "ticks": ""
            },
            "colorscale": [
             [
              0,
              "#0d0887"
             ],
             [
              0.1111111111111111,
              "#46039f"
             ],
             [
              0.2222222222222222,
              "#7201a8"
             ],
             [
              0.3333333333333333,
              "#9c179e"
             ],
             [
              0.4444444444444444,
              "#bd3786"
             ],
             [
              0.5555555555555556,
              "#d8576b"
             ],
             [
              0.6666666666666666,
              "#ed7953"
             ],
             [
              0.7777777777777778,
              "#fb9f3a"
             ],
             [
              0.8888888888888888,
              "#fdca26"
             ],
             [
              1,
              "#f0f921"
             ]
            ],
            "type": "histogram2d"
           }
          ],
          "histogram2dcontour": [
           {
            "colorbar": {
             "outlinewidth": 0,
             "ticks": ""
            },
            "colorscale": [
             [
              0,
              "#0d0887"
             ],
             [
              0.1111111111111111,
              "#46039f"
             ],
             [
              0.2222222222222222,
              "#7201a8"
             ],
             [
              0.3333333333333333,
              "#9c179e"
             ],
             [
              0.4444444444444444,
              "#bd3786"
             ],
             [
              0.5555555555555556,
              "#d8576b"
             ],
             [
              0.6666666666666666,
              "#ed7953"
             ],
             [
              0.7777777777777778,
              "#fb9f3a"
             ],
             [
              0.8888888888888888,
              "#fdca26"
             ],
             [
              1,
              "#f0f921"
             ]
            ],
            "type": "histogram2dcontour"
           }
          ],
          "mesh3d": [
           {
            "colorbar": {
             "outlinewidth": 0,
             "ticks": ""
            },
            "type": "mesh3d"
           }
          ],
          "parcoords": [
           {
            "line": {
             "colorbar": {
              "outlinewidth": 0,
              "ticks": ""
             }
            },
            "type": "parcoords"
           }
          ],
          "pie": [
           {
            "automargin": true,
            "type": "pie"
           }
          ],
          "scatter": [
           {
            "fillpattern": {
             "fillmode": "overlay",
             "size": 10,
             "solidity": 0.2
            },
            "type": "scatter"
           }
          ],
          "scatter3d": [
           {
            "line": {
             "colorbar": {
              "outlinewidth": 0,
              "ticks": ""
             }
            },
            "marker": {
             "colorbar": {
              "outlinewidth": 0,
              "ticks": ""
             }
            },
            "type": "scatter3d"
           }
          ],
          "scattercarpet": [
           {
            "marker": {
             "colorbar": {
              "outlinewidth": 0,
              "ticks": ""
             }
            },
            "type": "scattercarpet"
           }
          ],
          "scattergeo": [
           {
            "marker": {
             "colorbar": {
              "outlinewidth": 0,
              "ticks": ""
             }
            },
            "type": "scattergeo"
           }
          ],
          "scattergl": [
           {
            "marker": {
             "colorbar": {
              "outlinewidth": 0,
              "ticks": ""
             }
            },
            "type": "scattergl"
           }
          ],
          "scattermapbox": [
           {
            "marker": {
             "colorbar": {
              "outlinewidth": 0,
              "ticks": ""
             }
            },
            "type": "scattermapbox"
           }
          ],
          "scatterpolar": [
           {
            "marker": {
             "colorbar": {
              "outlinewidth": 0,
              "ticks": ""
             }
            },
            "type": "scatterpolar"
           }
          ],
          "scatterpolargl": [
           {
            "marker": {
             "colorbar": {
              "outlinewidth": 0,
              "ticks": ""
             }
            },
            "type": "scatterpolargl"
           }
          ],
          "scatterternary": [
           {
            "marker": {
             "colorbar": {
              "outlinewidth": 0,
              "ticks": ""
             }
            },
            "type": "scatterternary"
           }
          ],
          "surface": [
           {
            "colorbar": {
             "outlinewidth": 0,
             "ticks": ""
            },
            "colorscale": [
             [
              0,
              "#0d0887"
             ],
             [
              0.1111111111111111,
              "#46039f"
             ],
             [
              0.2222222222222222,
              "#7201a8"
             ],
             [
              0.3333333333333333,
              "#9c179e"
             ],
             [
              0.4444444444444444,
              "#bd3786"
             ],
             [
              0.5555555555555556,
              "#d8576b"
             ],
             [
              0.6666666666666666,
              "#ed7953"
             ],
             [
              0.7777777777777778,
              "#fb9f3a"
             ],
             [
              0.8888888888888888,
              "#fdca26"
             ],
             [
              1,
              "#f0f921"
             ]
            ],
            "type": "surface"
           }
          ],
          "table": [
           {
            "cells": {
             "fill": {
              "color": "#EBF0F8"
             },
             "line": {
              "color": "white"
             }
            },
            "header": {
             "fill": {
              "color": "#C8D4E3"
             },
             "line": {
              "color": "white"
             }
            },
            "type": "table"
           }
          ]
         },
         "layout": {
          "annotationdefaults": {
           "arrowcolor": "#2a3f5f",
           "arrowhead": 0,
           "arrowwidth": 1
          },
          "autotypenumbers": "strict",
          "coloraxis": {
           "colorbar": {
            "outlinewidth": 0,
            "ticks": ""
           }
          },
          "colorscale": {
           "diverging": [
            [
             0,
             "#8e0152"
            ],
            [
             0.1,
             "#c51b7d"
            ],
            [
             0.2,
             "#de77ae"
            ],
            [
             0.3,
             "#f1b6da"
            ],
            [
             0.4,
             "#fde0ef"
            ],
            [
             0.5,
             "#f7f7f7"
            ],
            [
             0.6,
             "#e6f5d0"
            ],
            [
             0.7,
             "#b8e186"
            ],
            [
             0.8,
             "#7fbc41"
            ],
            [
             0.9,
             "#4d9221"
            ],
            [
             1,
             "#276419"
            ]
           ],
           "sequential": [
            [
             0,
             "#0d0887"
            ],
            [
             0.1111111111111111,
             "#46039f"
            ],
            [
             0.2222222222222222,
             "#7201a8"
            ],
            [
             0.3333333333333333,
             "#9c179e"
            ],
            [
             0.4444444444444444,
             "#bd3786"
            ],
            [
             0.5555555555555556,
             "#d8576b"
            ],
            [
             0.6666666666666666,
             "#ed7953"
            ],
            [
             0.7777777777777778,
             "#fb9f3a"
            ],
            [
             0.8888888888888888,
             "#fdca26"
            ],
            [
             1,
             "#f0f921"
            ]
           ],
           "sequentialminus": [
            [
             0,
             "#0d0887"
            ],
            [
             0.1111111111111111,
             "#46039f"
            ],
            [
             0.2222222222222222,
             "#7201a8"
            ],
            [
             0.3333333333333333,
             "#9c179e"
            ],
            [
             0.4444444444444444,
             "#bd3786"
            ],
            [
             0.5555555555555556,
             "#d8576b"
            ],
            [
             0.6666666666666666,
             "#ed7953"
            ],
            [
             0.7777777777777778,
             "#fb9f3a"
            ],
            [
             0.8888888888888888,
             "#fdca26"
            ],
            [
             1,
             "#f0f921"
            ]
           ]
          },
          "colorway": [
           "#636efa",
           "#EF553B",
           "#00cc96",
           "#ab63fa",
           "#FFA15A",
           "#19d3f3",
           "#FF6692",
           "#B6E880",
           "#FF97FF",
           "#FECB52"
          ],
          "font": {
           "color": "#2a3f5f"
          },
          "geo": {
           "bgcolor": "white",
           "lakecolor": "white",
           "landcolor": "#E5ECF6",
           "showlakes": true,
           "showland": true,
           "subunitcolor": "white"
          },
          "hoverlabel": {
           "align": "left"
          },
          "hovermode": "closest",
          "mapbox": {
           "style": "light"
          },
          "paper_bgcolor": "white",
          "plot_bgcolor": "#E5ECF6",
          "polar": {
           "angularaxis": {
            "gridcolor": "white",
            "linecolor": "white",
            "ticks": ""
           },
           "bgcolor": "#E5ECF6",
           "radialaxis": {
            "gridcolor": "white",
            "linecolor": "white",
            "ticks": ""
           }
          },
          "scene": {
           "xaxis": {
            "backgroundcolor": "#E5ECF6",
            "gridcolor": "white",
            "gridwidth": 2,
            "linecolor": "white",
            "showbackground": true,
            "ticks": "",
            "zerolinecolor": "white"
           },
           "yaxis": {
            "backgroundcolor": "#E5ECF6",
            "gridcolor": "white",
            "gridwidth": 2,
            "linecolor": "white",
            "showbackground": true,
            "ticks": "",
            "zerolinecolor": "white"
           },
           "zaxis": {
            "backgroundcolor": "#E5ECF6",
            "gridcolor": "white",
            "gridwidth": 2,
            "linecolor": "white",
            "showbackground": true,
            "ticks": "",
            "zerolinecolor": "white"
           }
          },
          "shapedefaults": {
           "line": {
            "color": "#2a3f5f"
           }
          },
          "ternary": {
           "aaxis": {
            "gridcolor": "white",
            "linecolor": "white",
            "ticks": ""
           },
           "baxis": {
            "gridcolor": "white",
            "linecolor": "white",
            "ticks": ""
           },
           "bgcolor": "#E5ECF6",
           "caxis": {
            "gridcolor": "white",
            "linecolor": "white",
            "ticks": ""
           }
          },
          "title": {
           "x": 0.05
          },
          "xaxis": {
           "automargin": true,
           "gridcolor": "white",
           "linecolor": "white",
           "ticks": "",
           "title": {
            "standoff": 15
           },
           "zerolinecolor": "white",
           "zerolinewidth": 2
          },
          "yaxis": {
           "automargin": true,
           "gridcolor": "white",
           "linecolor": "white",
           "ticks": "",
           "title": {
            "standoff": 15
           },
           "zerolinecolor": "white",
           "zerolinewidth": 2
          }
         }
        },
        "title": {
         "text": "Actual Win Probability for PHI vs LAC on 2021-11-07"
        },
        "xaxis": {
         "autorange": true,
         "range": [
          3593,
          2
         ],
         "ticktext": [
          "0:00",
          "5:00",
          "10:00",
          "15:00",
          "20:00",
          "25:00",
          "30:00",
          "35:00",
          "40:00",
          "45:00",
          "50:00",
          "55:00"
         ],
         "tickvals": [
          0,
          300,
          600,
          900,
          1200,
          1500,
          1800,
          2100,
          2400,
          2700,
          3000,
          3300
         ],
         "title": {
          "text": "Time Remaining (mm:ss)"
         },
         "type": "linear"
        },
        "yaxis": {
         "range": [
          0,
          100
         ],
         "ticktext": [
          "LAC 100%",
          "75%",
          "50%",
          "75%",
          "PHI 100%"
         ],
         "tickvals": [
          0,
          25,
          50,
          75,
          100
         ],
         "title": {
          "text": "Win Probability"
         },
         "type": "linear"
        }
       }
      },
      "image/png": "[encoded data removed]",
      "text/html": [
       "<div>                            <div id=\"f465f135-a278-42e5-899b-f653e7a483f8\" class=\"plotly-graph-div\" style=\"height:525px; width:1000px;\"></div>            <script type=\"text/javascript\">                require([\"plotly\"], function(Plotly) {                    window.PLOTLYENV=window.PLOTLYENV || {};                                    if (document.getElementById(\"f465f135-a278-42e5-899b-f653e7a483f8\")) {                    Plotly.newPlot(                        \"f465f135-a278-42e5-899b-f653e7a483f8\",                        [{\"hoverinfo\":\"text\",\"hovertext\":[\"PHI Score: 0.0<br>LAC Score: 0.0<br>Dataset Win Probability: 54.63%<br>Time Remaining: 59:53\",\"PHI Score: 0.0<br>LAC Score: 0.0<br>Dataset Win Probability: 53.90%<br>Time Remaining: 59:19\",\"PHI Score: 0.0<br>LAC Score: 0.0<br>Dataset Win Probability: 52.47%<br>Time Remaining: 58:38\",\"PHI Score: 0.0<br>LAC Score: 0.0<br>Dataset Win Probability: 58.44%<br>Time Remaining: 58:02\",\"PHI Score: 0.0<br>LAC Score: 0.0<br>Dataset Win Probability: 56.65%<br>Time Remaining: 57:57\",\"PHI Score: 0.0<br>LAC Score: 0.0<br>Dataset Win Probability: 53.08%<br>Time Remaining: 57:52\",\"PHI Score: 0.0<br>LAC Score: 0.0<br>Dataset Win Probability: 54.47%<br>Time Remaining: 57:52\",\"PHI Score: 0.0<br>LAC Score: 0.0<br>Dataset Win Probability: 50.25%<br>Time Remaining: 57:47\",\"PHI Score: 0.0<br>LAC Score: 0.0<br>Dataset Win Probability: 52.85%<br>Time Remaining: 57:39\",\"PHI Score: 0.0<br>LAC Score: 0.0<br>Dataset Win Probability: 54.13%<br>Time Remaining: 57:07\",\"PHI Score: 0.0<br>LAC Score: 0.0<br>Dataset Win Probability: 56.84%<br>Time Remaining: 57:01\",\"PHI Score: 0.0<br>LAC Score: 0.0<br>Dataset Win Probability: 50.56%<br>Time Remaining: 56:21\",\"PHI Score: 0.0<br>LAC Score: 0.0<br>Dataset Win Probability: 51.61%<br>Time Remaining: 56:06\",\"PHI Score: 0.0<br>LAC Score: 0.0<br>Dataset Win Probability: 50.68%<br>Time Remaining: 55:24\",\"PHI Score: 0.0<br>LAC Score: 0.0<br>Dataset Win Probability: 53.00%<br>Time Remaining: 54:47\",\"PHI Score: 0.0<br>LAC Score: 0.0<br>Dataset Win Probability: 53.68%<br>Time Remaining: 54:06\",\"PHI Score: 0.0<br>LAC Score: 0.0<br>Dataset Win Probability: 54.76%<br>Time Remaining: 53:25\",\"PHI Score: 0.0<br>LAC Score: 0.0<br>Dataset Win Probability: 61.36%<br>Time Remaining: 52:47\",\"PHI Score: 0.0<br>LAC Score: 0.0<br>Dataset Win Probability: 60.73%<br>Time Remaining: 52:10\",\"PHI Score: 0.0<br>LAC Score: 0.0<br>Dataset Win Probability: 65.21%<br>Time Remaining: 51:27\",\"PHI Score: 0.0<br>LAC Score: 0.0<br>Dataset Win Probability: 64.10%<br>Time Remaining: 51:24\",\"PHI Score: 0.0<br>LAC Score: 0.0<br>Dataset Win Probability: 61.89%<br>Time Remaining: 50:51\",\"PHI Score: 0.0<br>LAC Score: 0.0<br>Dataset Win Probability: 59.63%<br>Time Remaining: 50:46\",\"PHI Score: 0.0<br>LAC Score: 0.0<br>Dataset Win Probability: 52.19%<br>Time Remaining: 50:43\",\"PHI Score: 0.0<br>LAC Score: 0.0<br>Dataset Win Probability: 50.16%<br>Time Remaining: 50:38\",\"PHI Score: 0.0<br>LAC Score: 0.0<br>Dataset Win Probability: 52.81%<br>Time Remaining: 49:55\",\"PHI Score: 0.0<br>LAC Score: 0.0<br>Dataset Win Probability: 56.33%<br>Time Remaining: 49:19\",\"PHI Score: 0.0<br>LAC Score: 0.0<br>Dataset Win Probability: 60.24%<br>Time Remaining: 49:09\",\"PHI Score: 0.0<br>LAC Score: 0.0<br>Dataset Win Probability: 61.86%<br>Time Remaining: 48:29\",\"PHI Score: 0.0<br>LAC Score: 0.0<br>Dataset Win Probability: 61.12%<br>Time Remaining: 47:48\",\"PHI Score: 0.0<br>LAC Score: 0.0<br>Dataset Win Probability: 60.26%<br>Time Remaining: 47:13\",\"PHI Score: 0.0<br>LAC Score: 0.0<br>Dataset Win Probability: 64.21%<br>Time Remaining: 46:25\",\"PHI Score: 0.0<br>LAC Score: 0.0<br>Dataset Win Probability: 63.08%<br>Time Remaining: 45:54\",\"PHI Score: 0.0<br>LAC Score: 6.0<br>Dataset Win Probability: 67.66%<br>Time Remaining: 45:50\",\"PHI Score: 0.0<br>LAC Score: 7.0<br>Dataset Win Probability: 67.78%<br>Time Remaining: 45:50\",\"PHI Score: 0.0<br>LAC Score: 7.0<br>Dataset Win Probability: 67.78%<br>Time Remaining: 45:50\",\"PHI Score: 0.0<br>LAC Score: 7.0<br>Dataset Win Probability: 65.21%<br>Time Remaining: 45:23\",\"PHI Score: 0.0<br>LAC Score: 7.0<br>Dataset Win Probability: 64.45%<br>Time Remaining: 45:00\",\"PHI Score: 0.0<br>LAC Score: 7.0<br>Dataset Win Probability: 64.45%<br>Time Remaining: 45:00\",\"PHI Score: 0.0<br>LAC Score: 7.0<br>Dataset Win Probability: 65.04%<br>Time Remaining: 44:26\",\"PHI Score: 0.0<br>LAC Score: 7.0<br>Dataset Win Probability: 58.73%<br>Time Remaining: 44:04\",\"PHI Score: 0.0<br>LAC Score: 7.0<br>Dataset Win Probability: 60.35%<br>Time Remaining: 43:27\",\"PHI Score: 0.0<br>LAC Score: 7.0<br>Dataset Win Probability: 56.69%<br>Time Remaining: 42:48\",\"PHI Score: 0.0<br>LAC Score: 7.0<br>Dataset Win Probability: 55.44%<br>Time Remaining: 42:24\",\"PHI Score: 0.0<br>LAC Score: 7.0<br>Dataset Win Probability: 56.52%<br>Time Remaining: 42:04\",\"PHI Score: 0.0<br>LAC Score: 7.0<br>Dataset Win Probability: 57.53%<br>Time Remaining: 41:25\",\"PHI Score: 7.0<br>LAC Score: 7.0<br>Dataset Win Probability: 53.39%<br>Time Remaining: 41:20\",\"PHI Score: 6.0<br>LAC Score: 7.0<br>Dataset Win Probability: 52.86%<br>Time Remaining: 41:20\",\"PHI Score: 7.0<br>LAC Score: 7.0<br>Dataset Win Probability: 53.39%<br>Time Remaining: 41:14\",\"PHI Score: 7.0<br>LAC Score: 7.0<br>Dataset Win Probability: 52.01%<br>Time Remaining: 40:53\",\"PHI Score: 7.0<br>LAC Score: 7.0<br>Dataset Win Probability: 55.46%<br>Time Remaining: 40:14\",\"PHI Score: 7.0<br>LAC Score: 7.0<br>Dataset Win Probability: 50.08%<br>Time Remaining: 39:45\",\"PHI Score: 7.0<br>LAC Score: 7.0<br>Dataset Win Probability: 57.00%<br>Time Remaining: 39:04\",\"PHI Score: 7.0<br>LAC Score: 7.0<br>Dataset Win Probability: 57.68%<br>Time Remaining: 38:25\",\"PHI Score: 7.0<br>LAC Score: 7.0<br>Dataset Win Probability: 56.20%<br>Time Remaining: 37:56\",\"PHI Score: 7.0<br>LAC Score: 7.0<br>Dataset Win Probability: 55.05%<br>Time Remaining: 37:30\",\"PHI Score: 7.0<br>LAC Score: 7.0<br>Dataset Win Probability: 54.30%<br>Time Remaining: 37:25\",\"PHI Score: 7.0<br>LAC Score: 7.0<br>Dataset Win Probability: 54.94%<br>Time Remaining: 36:51\",\"PHI Score: 7.0<br>LAC Score: 7.0<br>Dataset Win Probability: 56.94%<br>Time Remaining: 36:24\",\"PHI Score: 7.0<br>LAC Score: 7.0<br>Dataset Win Probability: 56.69%<br>Time Remaining: 35:50\",\"PHI Score: 7.0<br>LAC Score: 7.0<br>Dataset Win Probability: 56.30%<br>Time Remaining: 35:18\",\"PHI Score: 7.0<br>LAC Score: 7.0<br>Dataset Win Probability: 57.39%<br>Time Remaining: 34:50\",\"PHI Score: 7.0<br>LAC Score: 7.0<br>Dataset Win Probability: 61.25%<br>Time Remaining: 34:24\",\"PHI Score: 7.0<br>LAC Score: 7.0<br>Dataset Win Probability: 62.23%<br>Time Remaining: 33:55\",\"PHI Score: 7.0<br>LAC Score: 7.0<br>Dataset Win Probability: 62.51%<br>Time Remaining: 33:21\",\"PHI Score: 7.0<br>LAC Score: 7.0<br>Dataset Win Probability: 65.20%<br>Time Remaining: 33:02\",\"PHI Score: 7.0<br>LAC Score: 7.0<br>Dataset Win Probability: 64.97%<br>Time Remaining: 32:25\",\"PHI Score: 7.0<br>LAC Score: 7.0<br>Dataset Win Probability: 63.84%<br>Time Remaining: 32:00\",\"PHI Score: 7.0<br>LAC Score: 7.0<br>Dataset Win Probability: 68.94%<br>Time Remaining: 31:22\",\"PHI Score: 7.0<br>LAC Score: 7.0<br>Dataset Win Probability: 68.62%<br>Time Remaining: 31:14\",\"PHI Score: 7.0<br>LAC Score: 7.0<br>Dataset Win Probability: 67.76%<br>Time Remaining: 30:28\",\"PHI Score: 7.0<br>LAC Score: 7.0<br>Dataset Win Probability: 62.55%<br>Time Remaining: 30:24\",\"PHI Score: 10.0<br>LAC Score: 7.0<br>Dataset Win Probability: 60.51%<br>Time Remaining: 30:21\",\"PHI Score: 10.0<br>LAC Score: 7.0<br>Dataset Win Probability: 61.63%<br>Time Remaining: 30:15\",\"PHI Score: 10.0<br>LAC Score: 7.0<br>Dataset Win Probability: 62.87%<br>Time Remaining: 30:00\",\"PHI Score: 10.0<br>LAC Score: 7.0<br>Dataset Win Probability: 62.84%<br>Time Remaining: 29:53\",\"PHI Score: 10.0<br>LAC Score: 7.0<br>Dataset Win Probability: 60.09%<br>Time Remaining: 29:21\",\"PHI Score: 10.0<br>LAC Score: 7.0<br>Dataset Win Probability: 63.74%<br>Time Remaining: 28:37\",\"PHI Score: 10.0<br>LAC Score: 7.0<br>Dataset Win Probability: 56.20%<br>Time Remaining: 28:00\",\"PHI Score: 10.0<br>LAC Score: 7.0<br>Dataset Win Probability: 51.53%<br>Time Remaining: 27:25\",\"PHI Score: 10.0<br>LAC Score: 7.0<br>Dataset Win Probability: 52.41%<br>Time Remaining: 26:53\",\"PHI Score: 10.0<br>LAC Score: 7.0<br>Dataset Win Probability: 50.73%<br>Time Remaining: 26:50\",\"PHI Score: 10.0<br>LAC Score: 7.0<br>Dataset Win Probability: 52.62%<br>Time Remaining: 26:17\",\"PHI Score: 10.0<br>LAC Score: 7.0<br>Dataset Win Probability: 56.36%<br>Time Remaining: 25:36\",\"PHI Score: 10.0<br>LAC Score: 10.0<br>Dataset Win Probability: 55.93%<br>Time Remaining: 25:33\",\"PHI Score: 10.0<br>LAC Score: 10.0<br>Dataset Win Probability: 55.93%<br>Time Remaining: 25:33\",\"PHI Score: 10.0<br>LAC Score: 10.0<br>Dataset Win Probability: 55.40%<br>Time Remaining: 24:53\",\"PHI Score: 10.0<br>LAC Score: 10.0<br>Dataset Win Probability: 53.40%<br>Time Remaining: 24:28\",\"PHI Score: 10.0<br>LAC Score: 10.0<br>Dataset Win Probability: 54.34%<br>Time Remaining: 23:50\",\"PHI Score: 10.0<br>LAC Score: 10.0<br>Dataset Win Probability: 51.28%<br>Time Remaining: 23:40\",\"PHI Score: 10.0<br>LAC Score: 10.0<br>Dataset Win Probability: 60.23%<br>Time Remaining: 23:00\",\"PHI Score: 10.0<br>LAC Score: 10.0<br>Dataset Win Probability: 63.63%<br>Time Remaining: 22:25\",\"PHI Score: 10.0<br>LAC Score: 10.0<br>Dataset Win Probability: 61.60%<br>Time Remaining: 21:50\",\"PHI Score: 10.0<br>LAC Score: 16.0<br>Dataset Win Probability: 71.04%<br>Time Remaining: 21:44\",\"PHI Score: 10.0<br>LAC Score: 16.0<br>Dataset Win Probability: 69.13%<br>Time Remaining: 21:44\",\"PHI Score: 10.0<br>LAC Score: 16.0<br>Dataset Win Probability: 70.19%<br>Time Remaining: 21:40\",\"PHI Score: 10.0<br>LAC Score: 16.0<br>Dataset Win Probability: 72.26%<br>Time Remaining: 21:02\",\"PHI Score: 10.0<br>LAC Score: 16.0<br>Dataset Win Probability: 66.65%<br>Time Remaining: 20:36\",\"PHI Score: 10.0<br>LAC Score: 16.0<br>Dataset Win Probability: 63.32%<br>Time Remaining: 20:11\",\"PHI Score: 10.0<br>LAC Score: 16.0<br>Dataset Win Probability: 62.05%<br>Time Remaining: 19:52\",\"PHI Score: 10.0<br>LAC Score: 16.0<br>Dataset Win Probability: 57.02%<br>Time Remaining: 19:26\",\"PHI Score: 10.0<br>LAC Score: 16.0<br>Dataset Win Probability: 58.93%<br>Time Remaining: 18:46\",\"PHI Score: 10.0<br>LAC Score: 16.0<br>Dataset Win Probability: 61.62%<br>Time Remaining: 18:43\",\"PHI Score: 10.0<br>LAC Score: 16.0<br>Dataset Win Probability: 51.27%<br>Time Remaining: 18:36\",\"PHI Score: 10.0<br>LAC Score: 16.0<br>Dataset Win Probability: 50.86%<br>Time Remaining: 18:14\",\"PHI Score: 16.0<br>LAC Score: 16.0<br>Dataset Win Probability: 54.74%<br>Time Remaining: 18:10\",\"PHI Score: 17.0<br>LAC Score: 16.0<br>Dataset Win Probability: 54.85%<br>Time Remaining: 18:10\",\"PHI Score: 17.0<br>LAC Score: 16.0<br>Dataset Win Probability: 51.70%<br>Time Remaining: 18:02\",\"PHI Score: 17.0<br>LAC Score: 16.0<br>Dataset Win Probability: 55.38%<br>Time Remaining: 17:24\",\"PHI Score: 17.0<br>LAC Score: 16.0<br>Dataset Win Probability: 55.59%<br>Time Remaining: 16:51\",\"PHI Score: 17.0<br>LAC Score: 16.0<br>Dataset Win Probability: 51.37%<br>Time Remaining: 16:46\",\"PHI Score: 17.0<br>LAC Score: 16.0<br>Dataset Win Probability: 51.45%<br>Time Remaining: 16:05\",\"PHI Score: 17.0<br>LAC Score: 16.0<br>Dataset Win Probability: 55.70%<br>Time Remaining: 15:40\",\"PHI Score: 17.0<br>LAC Score: 16.0<br>Dataset Win Probability: 55.80%<br>Time Remaining: 15:00\",\"PHI Score: 17.0<br>LAC Score: 16.0<br>Dataset Win Probability: 55.80%<br>Time Remaining: 15:00\",\"PHI Score: 17.0<br>LAC Score: 16.0<br>Dataset Win Probability: 57.33%<br>Time Remaining: 14:18\",\"PHI Score: 17.0<br>LAC Score: 16.0<br>Dataset Win Probability: 57.64%<br>Time Remaining: 13:38\",\"PHI Score: 17.0<br>LAC Score: 16.0<br>Dataset Win Probability: 53.99%<br>Time Remaining: 13:02\",\"PHI Score: 17.0<br>LAC Score: 16.0<br>Dataset Win Probability: 59.26%<br>Time Remaining: 12:51\",\"PHI Score: 17.0<br>LAC Score: 16.0<br>Dataset Win Probability: 61.17%<br>Time Remaining: 12:14\",\"PHI Score: 17.0<br>LAC Score: 16.0<br>Dataset Win Probability: 63.72%<br>Time Remaining: 11:38\",\"PHI Score: 17.0<br>LAC Score: 22.0<br>Dataset Win Probability: 73.54%<br>Time Remaining: 11:32\",\"PHI Score: 17.0<br>LAC Score: 24.0<br>Dataset Win Probability: 80.59%<br>Time Remaining: 11:32\",\"PHI Score: 17.0<br>LAC Score: 24.0<br>Dataset Win Probability: 80.72%<br>Time Remaining: 11:25\",\"PHI Score: 17.0<br>LAC Score: 24.0<br>Dataset Win Probability: 83.66%<br>Time Remaining: 10:40\",\"PHI Score: 17.0<br>LAC Score: 24.0<br>Dataset Win Probability: 77.71%<br>Time Remaining: 10:11\",\"PHI Score: 17.0<br>LAC Score: 24.0<br>Dataset Win Probability: 76.63%<br>Time Remaining: 9:48\",\"PHI Score: 17.0<br>LAC Score: 24.0<br>Dataset Win Probability: 79.08%<br>Time Remaining: 9:13\",\"PHI Score: 17.0<br>LAC Score: 24.0<br>Dataset Win Probability: 80.29%<br>Time Remaining: 8:37\",\"PHI Score: 17.0<br>LAC Score: 24.0<br>Dataset Win Probability: 75.29%<br>Time Remaining: 7:53\",\"PHI Score: 17.0<br>LAC Score: 24.0<br>Dataset Win Probability: 75.35%<br>Time Remaining: 7:30\",\"PHI Score: 17.0<br>LAC Score: 24.0<br>Dataset Win Probability: 77.23%<br>Time Remaining: 6:55\",\"PHI Score: 17.0<br>LAC Score: 24.0<br>Dataset Win Probability: 70.16%<br>Time Remaining: 6:16\",\"PHI Score: 24.0<br>LAC Score: 24.0<br>Dataset Win Probability: 52.86%<br>Time Remaining: 6:07\",\"PHI Score: 23.0<br>LAC Score: 24.0<br>Dataset Win Probability: 51.83%<br>Time Remaining: 6:07\",\"PHI Score: 24.0<br>LAC Score: 24.0<br>Dataset Win Probability: 52.86%<br>Time Remaining: 6:07\",\"PHI Score: 24.0<br>LAC Score: 24.0<br>Dataset Win Probability: 54.55%<br>Time Remaining: 5:31\",\"PHI Score: 24.0<br>LAC Score: 24.0<br>Dataset Win Probability: 50.10%<br>Time Remaining: 4:47\",\"PHI Score: 24.0<br>LAC Score: 24.0<br>Dataset Win Probability: 53.88%<br>Time Remaining: 4:09\",\"PHI Score: 24.0<br>LAC Score: 24.0<br>Dataset Win Probability: 52.80%<br>Time Remaining: 3:30\",\"PHI Score: 24.0<br>LAC Score: 24.0<br>Dataset Win Probability: 51.47%<br>Time Remaining: 3:27\",\"PHI Score: 24.0<br>LAC Score: 24.0<br>Dataset Win Probability: 52.80%<br>Time Remaining: 2:48\",\"PHI Score: 24.0<br>LAC Score: 24.0<br>Dataset Win Probability: 62.68%<br>Time Remaining: 2:00\",\"PHI Score: 24.0<br>LAC Score: 24.0<br>Dataset Win Probability: 68.80%<br>Time Remaining: 2:00\",\"PHI Score: 24.0<br>LAC Score: 24.0<br>Dataset Win Probability: 69.05%<br>Time Remaining: 1:53\",\"PHI Score: 24.0<br>LAC Score: 24.0<br>Dataset Win Probability: 65.80%<br>Time Remaining: 1:48\",\"PHI Score: 24.0<br>LAC Score: 24.0<br>Dataset Win Probability: 60.35%<br>Time Remaining: 1:45\",\"PHI Score: 24.0<br>LAC Score: 24.0<br>Dataset Win Probability: 76.59%<br>Time Remaining: 1:04\",\"PHI Score: 24.0<br>LAC Score: 24.0<br>Dataset Win Probability: 75.80%<br>Time Remaining: 0:21\",\"PHI Score: 24.0<br>LAC Score: 24.0<br>Dataset Win Probability: 85.45%<br>Time Remaining: 0:06\",\"PHI Score: 24.0<br>LAC Score: 24.0<br>Dataset Win Probability: 84.25%<br>Time Remaining: 0:05\",\"PHI Score: 24.0<br>LAC Score: 27.0<br>Dataset Win Probability: 91.26%<br>Time Remaining: 0:02\"],\"line\":{\"color\":\"blue\",\"dash\":\"dash\",\"width\":2},\"mode\":\"lines\",\"name\":\"Real Dataset WP\",\"x\":[3593.0,3559.0,3518.0,3482.0,3477.0,3472.0,3472.0,3467.0,3459.0,3427.0,3421.0,3381.0,3366.0,3324.0,3287.0,3246.0,3205.0,3167.0,3130.0,3087.0,3084.0,3051.0,3046.0,3043.0,3038.0,2995.0,2959.0,2949.0,2909.0,2868.0,2833.0,2785.0,2754.0,2750.0,2750.0,2750.0,2723.0,2700.0,2700.0,2666.0,2644.0,2607.0,2568.0,2544.0,2524.0,2485.0,2480.0,2480.0,2474.0,2453.0,2414.0,2385.0,2344.0,2305.0,2276.0,2250.0,2245.0,2211.0,2184.0,2150.0,2118.0,2090.0,2064.0,2035.0,2001.0,1982.0,1945.0,1920.0,1882.0,1874.0,1828.0,1824.0,1821.0,1815.0,1800.0,1793.0,1761.0,1717.0,1680.0,1645.0,1613.0,1610.0,1577.0,1536.0,1533.0,1533.0,1493.0,1468.0,1430.0,1420.0,1380.0,1345.0,1310.0,1304.0,1304.0,1300.0,1262.0,1236.0,1211.0,1192.0,1166.0,1126.0,1123.0,1116.0,1094.0,1090.0,1090.0,1082.0,1044.0,1011.0,1006.0,965.0,940.0,900.0,900.0,858.0,818.0,782.0,771.0,734.0,698.0,692.0,692.0,685.0,640.0,611.0,588.0,553.0,517.0,473.0,450.0,415.0,376.0,367.0,367.0,367.0,331.0,287.0,249.0,210.0,207.0,168.0,120.0,120.0,113.0,108.0,105.0,64.0,21.0,6.0,5.0,2.0],\"y\":[54.62617874145508,53.900455474853516,52.473384857177734,58.44466781616211,56.65315246582031,53.08439636230469,54.47285842895508,49.7489013671875,47.14969253540039,45.871150970458984,43.160064697265625,49.44202423095703,51.6138801574707,50.67707443237305,52.999298095703125,53.677242279052734,54.76354217529297,61.36267852783203,60.733943939208984,65.20668029785156,64.09623718261719,61.89266586303711,59.627037048339844,52.18781280517578,50.164955139160156,47.193878173828125,43.66654586791992,60.23982620239258,61.86410140991211,61.12015151977539,60.259700775146484,64.20874786376953,63.08448791503906,67.6628646850586,32.21873092651367,32.21873092651367,34.79435729980469,35.552494049072266,35.552494049072266,34.96061706542969,41.266971588134766,39.65297317504883,43.309043884277344,44.561161041259766,43.48429489135742,42.471580505371094,46.61137390136719,52.86067199707031,46.61137390136719,52.0124626159668,55.46467971801758,49.916683197021484,57.001434326171875,57.6762809753418,56.197975158691406,55.05124282836914,54.304927825927734,54.94239807128906,56.94003677368164,56.68556213378906,56.297088623046875,57.39154815673828,61.25114059448242,62.227420806884766,62.50941848754883,65.20133972167969,64.97005462646484,63.83921432495117,68.93830108642578,68.62264251708984,67.76398468017578,62.54608154296875,39.488895416259766,38.365867614746094,37.12767791748047,37.15983200073242,39.9136962890625,36.25560760498047,43.79947280883789,48.47144317626953,52.40672302246094,50.7333869934082,47.3770751953125,43.6395263671875,55.932350158691406,55.932350158691406,55.39604949951172,53.402687072753906,45.6576042175293,48.723670959472656,60.23054122924805,63.63352584838867,61.60051727294922,71.04251098632812,30.866336822509766,29.807096481323242,27.743383407592773,33.35348892211914,36.67774200439453,37.95052719116211,42.97916793823242,41.07257080078125,38.381038665771484,48.72637939453125,49.142303466796875,54.73741912841797,45.145538330078125,48.29643249511719,44.620567321777344,44.40786361694336,51.37046432495117,51.44504165649414,44.295372009277344,44.19842529296875,44.19842529296875,57.325218200683594,57.6380729675293,53.99195098876953,59.261512756347656,61.174591064453125,63.71782302856445,73.5404052734375,19.41449546813965,19.281591415405273,16.341651916503906,22.2916316986084,23.37278938293457,20.91880989074707,19.71428680419922,24.713956832885742,24.652034759521484,22.767385482788086,29.84282684326172,47.13972854614258,51.8254508972168,47.13972854614258,45.448421478271484,49.8984375,53.883056640625,52.79595947265625,48.526851654052734,47.20024108886719,62.68296813964844,68.79874420166016,69.05196380615234,65.80413818359375,60.347904205322266,76.58684539794922,75.80226135253906,85.45008087158203,84.25283813476562,8.742579460144043],\"type\":\"scatter\"},{\"line\":{\"color\":\"green\",\"dash\":\"dash\",\"width\":1},\"mode\":\"lines\",\"name\":\"Possession Change\",\"showlegend\":true,\"x\":[3593.0,3593.0,null,3459.0,3459.0,null,3043.0,3043.0,null,2949.0,2949.0,null,2750.0,2750.0,null,2480.0,2480.0,null,2245.0,2245.0,null,1821.0,1821.0,null,1533.0,1533.0,null,1420.0,1420.0,null,1304.0,1304.0,null,1090.0,1090.0,null,692.0,692.0,null,367.0,367.0,null,2.0,2.0,null],\"y\":[0,100,null,0,100,null,0,100,null,0,100,null,0,100,null,0,100,null,0,100,null,0,100,null,0,100,null,0,100,null,0,100,null,0,100,null,0,100,null,0,100,null,0,100,null],\"type\":\"scatter\"}],                        {\"template\":{\"data\":{\"histogram2dcontour\":[{\"type\":\"histogram2dcontour\",\"colorbar\":{\"outlinewidth\":0,\"ticks\":\"\"},\"colorscale\":[[0.0,\"#0d0887\"],[0.1111111111111111,\"#46039f\"],[0.2222222222222222,\"#7201a8\"],[0.3333333333333333,\"#9c179e\"],[0.4444444444444444,\"#bd3786\"],[0.5555555555555556,\"#d8576b\"],[0.6666666666666666,\"#ed7953\"],[0.7777777777777778,\"#fb9f3a\"],[0.8888888888888888,\"#fdca26\"],[1.0,\"#f0f921\"]]}],\"choropleth\":[{\"type\":\"choropleth\",\"colorbar\":{\"outlinewidth\":0,\"ticks\":\"\"}}],\"histogram2d\":[{\"type\":\"histogram2d\",\"colorbar\":{\"outlinewidth\":0,\"ticks\":\"\"},\"colorscale\":[[0.0,\"#0d0887\"],[0.1111111111111111,\"#46039f\"],[0.2222222222222222,\"#7201a8\"],[0.3333333333333333,\"#9c179e\"],[0.4444444444444444,\"#bd3786\"],[0.5555555555555556,\"#d8576b\"],[0.6666666666666666,\"#ed7953\"],[0.7777777777777778,\"#fb9f3a\"],[0.8888888888888888,\"#fdca26\"],[1.0,\"#f0f921\"]]}],\"heatmap\":[{\"type\":\"heatmap\",\"colorbar\":{\"outlinewidth\":0,\"ticks\":\"\"},\"colorscale\":[[0.0,\"#0d0887\"],[0.1111111111111111,\"#46039f\"],[0.2222222222222222,\"#7201a8\"],[0.3333333333333333,\"#9c179e\"],[0.4444444444444444,\"#bd3786\"],[0.5555555555555556,\"#d8576b\"],[0.6666666666666666,\"#ed7953\"],[0.7777777777777778,\"#fb9f3a\"],[0.8888888888888888,\"#fdca26\"],[1.0,\"#f0f921\"]]}],\"heatmapgl\":[{\"type\":\"heatmapgl\",\"colorbar\":{\"outlinewidth\":0,\"ticks\":\"\"},\"colorscale\":[[0.0,\"#0d0887\"],[0.1111111111111111,\"#46039f\"],[0.2222222222222222,\"#7201a8\"],[0.3333333333333333,\"#9c179e\"],[0.4444444444444444,\"#bd3786\"],[0.5555555555555556,\"#d8576b\"],[0.6666666666666666,\"#ed7953\"],[0.7777777777777778,\"#fb9f3a\"],[0.8888888888888888,\"#fdca26\"],[1.0,\"#f0f921\"]]}],\"contourcarpet\":[{\"type\":\"contourcarpet\",\"colorbar\":{\"outlinewidth\":0,\"ticks\":\"\"}}],\"contour\":[{\"type\":\"contour\",\"colorbar\":{\"outlinewidth\":0,\"ticks\":\"\"},\"colorscale\":[[0.0,\"#0d0887\"],[0.1111111111111111,\"#46039f\"],[0.2222222222222222,\"#7201a8\"],[0.3333333333333333,\"#9c179e\"],[0.4444444444444444,\"#bd3786\"],[0.5555555555555556,\"#d8576b\"],[0.6666666666666666,\"#ed7953\"],[0.7777777777777778,\"#fb9f3a\"],[0.8888888888888888,\"#fdca26\"],[1.0,\"#f0f921\"]]}],\"surface\":[{\"type\":\"surface\",\"colorbar\":{\"outlinewidth\":0,\"ticks\":\"\"},\"colorscale\":[[0.0,\"#0d0887\"],[0.1111111111111111,\"#46039f\"],[0.2222222222222222,\"#7201a8\"],[0.3333333333333333,\"#9c179e\"],[0.4444444444444444,\"#bd3786\"],[0.5555555555555556,\"#d8576b\"],[0.6666666666666666,\"#ed7953\"],[0.7777777777777778,\"#fb9f3a\"],[0.8888888888888888,\"#fdca26\"],[1.0,\"#f0f921\"]]}],\"mesh3d\":[{\"type\":\"mesh3d\",\"colorbar\":{\"outlinewidth\":0,\"ticks\":\"\"}}],\"scatter\":[{\"fillpattern\":{\"fillmode\":\"overlay\",\"size\":10,\"solidity\":0.2},\"type\":\"scatter\"}],\"parcoords\":[{\"type\":\"parcoords\",\"line\":{\"colorbar\":{\"outlinewidth\":0,\"ticks\":\"\"}}}],\"scatterpolargl\":[{\"type\":\"scatterpolargl\",\"marker\":{\"colorbar\":{\"outlinewidth\":0,\"ticks\":\"\"}}}],\"bar\":[{\"error_x\":{\"color\":\"#2a3f5f\"},\"error_y\":{\"color\":\"#2a3f5f\"},\"marker\":{\"line\":{\"color\":\"#E5ECF6\",\"width\":0.5},\"pattern\":{\"fillmode\":\"overlay\",\"size\":10,\"solidity\":0.2}},\"type\":\"bar\"}],\"scattergeo\":[{\"type\":\"scattergeo\",\"marker\":{\"colorbar\":{\"outlinewidth\":0,\"ticks\":\"\"}}}],\"scatterpolar\":[{\"type\":\"scatterpolar\",\"marker\":{\"colorbar\":{\"outlinewidth\":0,\"ticks\":\"\"}}}],\"histogram\":[{\"marker\":{\"pattern\":{\"fillmode\":\"overlay\",\"size\":10,\"solidity\":0.2}},\"type\":\"histogram\"}],\"scattergl\":[{\"type\":\"scattergl\",\"marker\":{\"colorbar\":{\"outlinewidth\":0,\"ticks\":\"\"}}}],\"scatter3d\":[{\"type\":\"scatter3d\",\"line\":{\"colorbar\":{\"outlinewidth\":0,\"ticks\":\"\"}},\"marker\":{\"colorbar\":{\"outlinewidth\":0,\"ticks\":\"\"}}}],\"scattermapbox\":[{\"type\":\"scattermapbox\",\"marker\":{\"colorbar\":{\"outlinewidth\":0,\"ticks\":\"\"}}}],\"scatterternary\":[{\"type\":\"scatterternary\",\"marker\":{\"colorbar\":{\"outlinewidth\":0,\"ticks\":\"\"}}}],\"scattercarpet\":[{\"type\":\"scattercarpet\",\"marker\":{\"colorbar\":{\"outlinewidth\":0,\"ticks\":\"\"}}}],\"carpet\":[{\"aaxis\":{\"endlinecolor\":\"#2a3f5f\",\"gridcolor\":\"white\",\"linecolor\":\"white\",\"minorgridcolor\":\"white\",\"startlinecolor\":\"#2a3f5f\"},\"baxis\":{\"endlinecolor\":\"#2a3f5f\",\"gridcolor\":\"white\",\"linecolor\":\"white\",\"minorgridcolor\":\"white\",\"startlinecolor\":\"#2a3f5f\"},\"type\":\"carpet\"}],\"table\":[{\"cells\":{\"fill\":{\"color\":\"#EBF0F8\"},\"line\":{\"color\":\"white\"}},\"header\":{\"fill\":{\"color\":\"#C8D4E3\"},\"line\":{\"color\":\"white\"}},\"type\":\"table\"}],\"barpolar\":[{\"marker\":{\"line\":{\"color\":\"#E5ECF6\",\"width\":0.5},\"pattern\":{\"fillmode\":\"overlay\",\"size\":10,\"solidity\":0.2}},\"type\":\"barpolar\"}],\"pie\":[{\"automargin\":true,\"type\":\"pie\"}]},\"layout\":{\"autotypenumbers\":\"strict\",\"colorway\":[\"#636efa\",\"#EF553B\",\"#00cc96\",\"#ab63fa\",\"#FFA15A\",\"#19d3f3\",\"#FF6692\",\"#B6E880\",\"#FF97FF\",\"#FECB52\"],\"font\":{\"color\":\"#2a3f5f\"},\"hovermode\":\"closest\",\"hoverlabel\":{\"align\":\"left\"},\"paper_bgcolor\":\"white\",\"plot_bgcolor\":\"#E5ECF6\",\"polar\":{\"bgcolor\":\"#E5ECF6\",\"angularaxis\":{\"gridcolor\":\"white\",\"linecolor\":\"white\",\"ticks\":\"\"},\"radialaxis\":{\"gridcolor\":\"white\",\"linecolor\":\"white\",\"ticks\":\"\"}},\"ternary\":{\"bgcolor\":\"#E5ECF6\",\"aaxis\":{\"gridcolor\":\"white\",\"linecolor\":\"white\",\"ticks\":\"\"},\"baxis\":{\"gridcolor\":\"white\",\"linecolor\":\"white\",\"ticks\":\"\"},\"caxis\":{\"gridcolor\":\"white\",\"linecolor\":\"white\",\"ticks\":\"\"}},\"coloraxis\":{\"colorbar\":{\"outlinewidth\":0,\"ticks\":\"\"}},\"colorscale\":{\"sequential\":[[0.0,\"#0d0887\"],[0.1111111111111111,\"#46039f\"],[0.2222222222222222,\"#7201a8\"],[0.3333333333333333,\"#9c179e\"],[0.4444444444444444,\"#bd3786\"],[0.5555555555555556,\"#d8576b\"],[0.6666666666666666,\"#ed7953\"],[0.7777777777777778,\"#fb9f3a\"],[0.8888888888888888,\"#fdca26\"],[1.0,\"#f0f921\"]],\"sequentialminus\":[[0.0,\"#0d0887\"],[0.1111111111111111,\"#46039f\"],[0.2222222222222222,\"#7201a8\"],[0.3333333333333333,\"#9c179e\"],[0.4444444444444444,\"#bd3786\"],[0.5555555555555556,\"#d8576b\"],[0.6666666666666666,\"#ed7953\"],[0.7777777777777778,\"#fb9f3a\"],[0.8888888888888888,\"#fdca26\"],[1.0,\"#f0f921\"]],\"diverging\":[[0,\"#8e0152\"],[0.1,\"#c51b7d\"],[0.2,\"#de77ae\"],[0.3,\"#f1b6da\"],[0.4,\"#fde0ef\"],[0.5,\"#f7f7f7\"],[0.6,\"#e6f5d0\"],[0.7,\"#b8e186\"],[0.8,\"#7fbc41\"],[0.9,\"#4d9221\"],[1,\"#276419\"]]},\"xaxis\":{\"gridcolor\":\"white\",\"linecolor\":\"white\",\"ticks\":\"\",\"title\":{\"standoff\":15},\"zerolinecolor\":\"white\",\"automargin\":true,\"zerolinewidth\":2},\"yaxis\":{\"gridcolor\":\"white\",\"linecolor\":\"white\",\"ticks\":\"\",\"title\":{\"standoff\":15},\"zerolinecolor\":\"white\",\"automargin\":true,\"zerolinewidth\":2},\"scene\":{\"xaxis\":{\"backgroundcolor\":\"#E5ECF6\",\"gridcolor\":\"white\",\"linecolor\":\"white\",\"showbackground\":true,\"ticks\":\"\",\"zerolinecolor\":\"white\",\"gridwidth\":2},\"yaxis\":{\"backgroundcolor\":\"#E5ECF6\",\"gridcolor\":\"white\",\"linecolor\":\"white\",\"showbackground\":true,\"ticks\":\"\",\"zerolinecolor\":\"white\",\"gridwidth\":2},\"zaxis\":{\"backgroundcolor\":\"#E5ECF6\",\"gridcolor\":\"white\",\"linecolor\":\"white\",\"showbackground\":true,\"ticks\":\"\",\"zerolinecolor\":\"white\",\"gridwidth\":2}},\"shapedefaults\":{\"line\":{\"color\":\"#2a3f5f\"}},\"annotationdefaults\":{\"arrowcolor\":\"#2a3f5f\",\"arrowhead\":0,\"arrowwidth\":1},\"geo\":{\"bgcolor\":\"white\",\"landcolor\":\"#E5ECF6\",\"subunitcolor\":\"white\",\"showland\":true,\"showlakes\":true,\"lakecolor\":\"white\"},\"title\":{\"x\":0.05},\"mapbox\":{\"style\":\"light\"}}},\"yaxis\":{\"title\":{\"text\":\"Win Probability\"},\"range\":[0,100],\"tickvals\":[0,25,50,75,100],\"ticktext\":[\"LAC 100%\",\"75%\",\"50%\",\"75%\",\"PHI 100%\"]},\"xaxis\":{\"title\":{\"text\":\"Time Remaining (mm:ss)\"},\"tickvals\":[0,300,600,900,1200,1500,1800,2100,2400,2700,3000,3300],\"ticktext\":[\"0:00\",\"5:00\",\"10:00\",\"15:00\",\"20:00\",\"25:00\",\"30:00\",\"35:00\",\"40:00\",\"45:00\",\"50:00\",\"55:00\"],\"range\":[3593,0],\"autorange\":\"reversed\"},\"title\":{\"text\":\"Actual Win Probability for PHI vs LAC on 2021-11-07\"},\"width\":1000,\"hovermode\":\"closest\",\"showlegend\":true},                        {\"responsive\": true}                    ).then(function(){\n",
       "                            \n",
       "var gd = document.getElementById('f465f135-a278-42e5-899b-f653e7a483f8');\n",
       "var x = new MutationObserver(function (mutations, observer) {{\n",
       "        var display = window.getComputedStyle(gd).display;\n",
       "        if (!display || display === 'none') {{\n",
       "            console.log([gd, 'removed!']);\n",
       "            Plotly.purge(gd);\n",
       "            observer.disconnect();\n",
       "        }}\n",
       "}});\n",
       "\n",
       "// Listen for the removal of the full notebook cells\n",
       "var notebookContainer = gd.closest('#notebook-container');\n",
       "if (notebookContainer) {{\n",
       "    x.observe(notebookContainer, {childList: true});\n",
       "}}\n",
       "\n",
       "// Listen for the clearing of the current output cell\n",
       "var outputEl = gd.closest('.output');\n",
       "if (outputEl) {{\n",
       "    x.observe(outputEl, {childList: true});\n",
       "}}\n",
       "\n",
       "                        })                };                });            </script>        </div>"
      ]
     },
     "metadata": {},
     "output_type": "display_data"
    }
   ],
   "source": [
    "# plot the real dataset\n",
    "fig_dataset = go.Figure()\n",
    "\n",
    "# add real line from dataset\n",
    "fig_dataset.add_trace(go.Scatter(\n",
    "    x=time_remaining,\n",
    "    y=game_df_sorted['wp'] * 100,\n",
    "    mode='lines',\n",
    "    name=f'Real Dataset WP',\n",
    "    hovertext=[f\"{home_team} Score: {hs}<br>{away_team} Score: {as_}<br>Dataset Win Probability: {wp:.2f}%<br>Time Remaining: {format_time_remaining(tr)}\"\n",
    "               for hs, as_, wp, tr in zip(game_df_sorted['home_team_score'], game_df_sorted['away_team_score'], transform_win_prob_for_display(game_df_sorted['wp']), time_remaining)],\n",
    "    hoverinfo='text',\n",
    "    line=dict(color='blue', width=2, dash='dash'),\n",
    "))\n",
    "\n",
    "# plot possession changes\n",
    "possession_change_x = []\n",
    "for possession_time in possession_change_times:\n",
    "    possession_change_x.extend([possession_time, possession_time, None])\n",
    "\n",
    "fig_dataset.add_trace(go.Scatter(\n",
    "    x=possession_change_x,\n",
    "    y=[0, 100, None] * len(possession_change_times),\n",
    "    mode='lines',\n",
    "    name='Possession Change',\n",
    "    line=dict(color=\"green\", width=1, dash=\"dash\"),\n",
    "    showlegend=True,\n",
    "))\n",
    "\n",
    "\n",
    "# generate x-axis tick values every 5 minutes (300 seconds)\n",
    "total_seconds = int(game_df_sorted['game_seconds_remaining'].max())\n",
    "tickvals = list(range(0, total_seconds + 1, 300))\n",
    "ticktext = [format_time_remaining(seconds) for seconds in tickvals]\n",
    "\n",
    "\n",
    "# update layout for dataset graph\n",
    "fig_dataset.update_layout(\n",
    "    title=f\"Actual Win Probability for {home_team} vs {away_team} on {game_date}\",\n",
    "    xaxis_title=\"Time Remaining (mm:ss)\",\n",
    "    yaxis_title=f\"Win Probability\",\n",
    "    yaxis=dict(\n",
    "        range=[0, 100],\n",
    "        tickvals=[0, 25, 50, 75, 100],\n",
    "        ticktext=[f\"{away_team} 100%\", \"75%\", \"50%\", \"75%\", f\"{home_team} 100%\"],\n",
    "    ),\n",
    "    xaxis=dict(\n",
    "        tickvals=tickvals,\n",
    "        ticktext=ticktext,\n",
    "        range=[total_seconds, 0],\n",
    "        autorange=\"reversed\",\n",
    "    ),\n",
    "    width=1000,\n",
    "    hovermode='closest',\n",
    "    showlegend=True,\n",
    ")\n",
    "\n",
    "fig_dataset.show()"
   ]
  },
  {
   "cell_type": "markdown",
   "id": "11afdf28-47e6-4d7a-a6e2-de4bd3d5a0aa",
   "metadata": {},
   "source": [
    "This is looking quite similar to the graphs I'm used to seeing, albeit with a completely different GUI surrounding it. It's now easy to see why the addition of the possession changes is integral, as it has a large effect on the instantaneous win probability.\n",
    "\n",
    "Now it's time to explain the features. In a perfect world, I'd be able to feed the model all of the data it could ever want, and it'd spit out a mirror image of the graph above. Unfortunately, the addition of each single feature increases the memory and time complexity of the computations exponentially. I'm running all of this locally on my 2020 MacBook, so it won't be able to handle much on its own.\n",
    "\n",
    "As such, I'll explain each feature's purpose in the necessary quantity of detail. Feeding the model `quarter_seconds_remaining` provides some semblance of time pressure and the halftime possession change. Both `home_team_score` and `away_team_score` are quite intuitive, while the combination of `possession_status` and `game_seconds_remaining` has a little more nuance. There's a greater weight placed on the possessing team as the game continues, especially as you approach the end of the game. The last two features, `down` and `ydstogo` are pretty self-explanatory as well.\n",
    "\n",
    "I later split the given data into training and testing data at a ratio of 80% training and 20% testing. The predictions are fed into my dataframe and the `mean_squared_error` is printed out. This is one of many quantitative representations of how close the predictions are to the given data. As an error closer to 0 is better, our value suggests that our predictions are incredibly accurate. To provide some background, I spent quite some time determining the features and hyperparameters (such as `max_depth`) based on the value of our `mse`."
   ]
  },
  {
   "cell_type": "code",
   "execution_count": 42,
   "id": "e395d80d-3283-4bc1-bd6e-9f265a2c7dc8",
   "metadata": {
    "colab": {
     "base_uri": "https://localhost:8080/",
     "height": 542
    },
    "id": "e395d80d-3283-4bc1-bd6e-9f265a2c7dc8",
    "outputId": "b81332f3-bb0e-4277-b6b8-8f74366a15c4"
   },
   "outputs": [
    {
     "name": "stdout",
     "output_type": "stream",
     "text": [
      "Mean Squared Error: 0.0008525370320525121\n"
     ]
    }
   ],
   "source": [
    "# define our features\n",
    "X = valid_df[['quarter_seconds_remaining', 'home_team_score', 'away_team_score', 'field_position', 'possession_status', 'game_seconds_remaining', 'down', 'ydstogo']]\n",
    "y = valid_df['wp']\n",
    "\n",
    "# remove NaN values\n",
    "X = X.dropna()\n",
    "y = y[X.index]\n",
    "\n",
    "# train-test split\n",
    "X_train, X_test, y_train, y_test = train_test_split(X, y, test_size=0.2, random_state=42)\n",
    "\n",
    "# train model\n",
    "model = RandomForestRegressor(max_depth=16, random_state=42)\n",
    "model.fit(X_train, y_train)\n",
    "\n",
    "# predict win probability for the random game\n",
    "imputer = SimpleImputer(strategy='mean')\n",
    "game_df_imputed = pd.DataFrame(imputer.fit_transform(game_df[['quarter_seconds_remaining', 'home_team_score', 'away_team_score', 'field_position', 'possession_status', 'game_seconds_remaining', 'down', 'ydstogo']]), \n",
    "                               columns=['quarter_seconds_remaining', 'home_team_score', 'away_team_score', 'field_position', 'possession_status', 'game_seconds_remaining', 'down', 'ydstogo'])\n",
    "\n",
    "game_df['predicted_win_prob'] = model.predict(game_df_imputed)\n",
    "\n",
    "# print mean squared error\n",
    "mse = mean_squared_error(y_test, y_pred)\n",
    "print(f\"Mean Squared Error: {mse}\")"
   ]
  },
  {
   "cell_type": "markdown",
   "id": "e2c8633c-7e50-4d6e-af3f-0f9f38b3d1db",
   "metadata": {},
   "source": [
    "We once again graph our data, opting for the model's predictions instead of the given `nfl_data_py` data. I also reuse the posessioon changes."
   ]
  },
  {
   "cell_type": "code",
   "execution_count": 71,
   "id": "7d173f42-bc02-4dfb-a551-b02685ed5afd",
   "metadata": {},
   "outputs": [
    {
     "data": {
      "application/vnd.plotly.v1+json": {
       "config": {
        "plotlyServerURL": "https://plot.ly"
       },
       "data": [
        {
         "hoverinfo": "text",
         "hovertext": [
          "PHI Score: 0.0<br>LAC Score: 0.0<br>Win Probability: 54.63%<br>Time Remaining: 59:53",
          "PHI Score: 0.0<br>LAC Score: 0.0<br>Win Probability: 54.05%<br>Time Remaining: 59:19",
          "PHI Score: 0.0<br>LAC Score: 0.0<br>Win Probability: 53.97%<br>Time Remaining: 58:38",
          "PHI Score: 0.0<br>LAC Score: 0.0<br>Win Probability: 59.12%<br>Time Remaining: 58:02",
          "PHI Score: 0.0<br>LAC Score: 0.0<br>Win Probability: 57.72%<br>Time Remaining: 57:57",
          "PHI Score: 0.0<br>LAC Score: 0.0<br>Win Probability: 52.76%<br>Time Remaining: 57:52",
          "PHI Score: 0.0<br>LAC Score: 0.0<br>Win Probability: 55.42%<br>Time Remaining: 57:52",
          "PHI Score: 0.0<br>LAC Score: 0.0<br>Win Probability: 50.70%<br>Time Remaining: 57:47",
          "PHI Score: 0.0<br>LAC Score: 0.0<br>Win Probability: 53.53%<br>Time Remaining: 57:39",
          "PHI Score: 0.0<br>LAC Score: 0.0<br>Win Probability: 54.57%<br>Time Remaining: 57:07",
          "PHI Score: 0.0<br>LAC Score: 0.0<br>Win Probability: 58.99%<br>Time Remaining: 57:01",
          "PHI Score: 0.0<br>LAC Score: 0.0<br>Win Probability: 52.78%<br>Time Remaining: 56:21",
          "PHI Score: 0.0<br>LAC Score: 0.0<br>Win Probability: 50.03%<br>Time Remaining: 56:06",
          "PHI Score: 0.0<br>LAC Score: 0.0<br>Win Probability: 51.53%<br>Time Remaining: 55:24",
          "PHI Score: 0.0<br>LAC Score: 0.0<br>Win Probability: 51.14%<br>Time Remaining: 54:47",
          "PHI Score: 0.0<br>LAC Score: 0.0<br>Win Probability: 50.22%<br>Time Remaining: 54:06",
          "PHI Score: 0.0<br>LAC Score: 0.0<br>Win Probability: 52.23%<br>Time Remaining: 53:25",
          "PHI Score: 0.0<br>LAC Score: 0.0<br>Win Probability: 58.32%<br>Time Remaining: 52:47",
          "PHI Score: 0.0<br>LAC Score: 0.0<br>Win Probability: 57.65%<br>Time Remaining: 52:10",
          "PHI Score: 0.0<br>LAC Score: 0.0<br>Win Probability: 63.59%<br>Time Remaining: 51:27",
          "PHI Score: 0.0<br>LAC Score: 0.0<br>Win Probability: 62.98%<br>Time Remaining: 51:24",
          "PHI Score: 0.0<br>LAC Score: 0.0<br>Win Probability: 61.57%<br>Time Remaining: 50:51",
          "PHI Score: 0.0<br>LAC Score: 0.0<br>Win Probability: 58.17%<br>Time Remaining: 50:46",
          "PHI Score: 0.0<br>LAC Score: 0.0<br>Win Probability: 54.03%<br>Time Remaining: 50:43",
          "PHI Score: 0.0<br>LAC Score: 0.0<br>Win Probability: 53.68%<br>Time Remaining: 50:38",
          "PHI Score: 0.0<br>LAC Score: 0.0<br>Win Probability: 50.35%<br>Time Remaining: 49:55",
          "PHI Score: 0.0<br>LAC Score: 0.0<br>Win Probability: 53.58%<br>Time Remaining: 49:19",
          "PHI Score: 0.0<br>LAC Score: 0.0<br>Win Probability: 58.42%<br>Time Remaining: 49:09",
          "PHI Score: 0.0<br>LAC Score: 0.0<br>Win Probability: 58.18%<br>Time Remaining: 48:29",
          "PHI Score: 0.0<br>LAC Score: 0.0<br>Win Probability: 58.27%<br>Time Remaining: 47:48",
          "PHI Score: 0.0<br>LAC Score: 0.0<br>Win Probability: 57.98%<br>Time Remaining: 47:13",
          "PHI Score: 0.0<br>LAC Score: 0.0<br>Win Probability: 63.93%<br>Time Remaining: 46:25",
          "PHI Score: 0.0<br>LAC Score: 0.0<br>Win Probability: 63.19%<br>Time Remaining: 45:54",
          "PHI Score: 0.0<br>LAC Score: 6.0<br>Win Probability: 66.28%<br>Time Remaining: 45:50",
          "PHI Score: 0.0<br>LAC Score: 7.0<br>Win Probability: 64.75%<br>Time Remaining: 45:50",
          "PHI Score: 0.0<br>LAC Score: 7.0<br>Win Probability: 64.14%<br>Time Remaining: 45:50",
          "PHI Score: 0.0<br>LAC Score: 7.0<br>Win Probability: 63.67%<br>Time Remaining: 45:23",
          "PHI Score: 0.0<br>LAC Score: 7.0<br>Win Probability: 62.85%<br>Time Remaining: 45:00",
          "PHI Score: 0.0<br>LAC Score: 7.0<br>Win Probability: 60.60%<br>Time Remaining: 45:00",
          "PHI Score: 0.0<br>LAC Score: 7.0<br>Win Probability: 61.38%<br>Time Remaining: 44:26",
          "PHI Score: 0.0<br>LAC Score: 7.0<br>Win Probability: 56.51%<br>Time Remaining: 44:04",
          "PHI Score: 0.0<br>LAC Score: 7.0<br>Win Probability: 57.36%<br>Time Remaining: 43:27",
          "PHI Score: 0.0<br>LAC Score: 7.0<br>Win Probability: 55.94%<br>Time Remaining: 42:48",
          "PHI Score: 0.0<br>LAC Score: 7.0<br>Win Probability: 53.51%<br>Time Remaining: 42:24",
          "PHI Score: 0.0<br>LAC Score: 7.0<br>Win Probability: 53.33%<br>Time Remaining: 42:04",
          "PHI Score: 0.0<br>LAC Score: 7.0<br>Win Probability: 54.75%<br>Time Remaining: 41:25",
          "PHI Score: 6.0<br>LAC Score: 7.0<br>Win Probability: 53.58%<br>Time Remaining: 41:20",
          "PHI Score: 7.0<br>LAC Score: 7.0<br>Win Probability: 54.92%<br>Time Remaining: 41:20",
          "PHI Score: 7.0<br>LAC Score: 7.0<br>Win Probability: 54.43%<br>Time Remaining: 41:14",
          "PHI Score: 7.0<br>LAC Score: 7.0<br>Win Probability: 51.38%<br>Time Remaining: 40:53",
          "PHI Score: 7.0<br>LAC Score: 7.0<br>Win Probability: 52.53%<br>Time Remaining: 40:14",
          "PHI Score: 7.0<br>LAC Score: 7.0<br>Win Probability: 50.50%<br>Time Remaining: 39:45",
          "PHI Score: 7.0<br>LAC Score: 7.0<br>Win Probability: 55.14%<br>Time Remaining: 39:04",
          "PHI Score: 7.0<br>LAC Score: 7.0<br>Win Probability: 56.01%<br>Time Remaining: 38:25",
          "PHI Score: 7.0<br>LAC Score: 7.0<br>Win Probability: 53.85%<br>Time Remaining: 37:56",
          "PHI Score: 7.0<br>LAC Score: 7.0<br>Win Probability: 53.70%<br>Time Remaining: 37:30",
          "PHI Score: 7.0<br>LAC Score: 7.0<br>Win Probability: 55.77%<br>Time Remaining: 37:25",
          "PHI Score: 7.0<br>LAC Score: 7.0<br>Win Probability: 56.73%<br>Time Remaining: 36:51",
          "PHI Score: 7.0<br>LAC Score: 7.0<br>Win Probability: 59.22%<br>Time Remaining: 36:24",
          "PHI Score: 7.0<br>LAC Score: 7.0<br>Win Probability: 58.06%<br>Time Remaining: 35:50",
          "PHI Score: 7.0<br>LAC Score: 7.0<br>Win Probability: 58.25%<br>Time Remaining: 35:18",
          "PHI Score: 7.0<br>LAC Score: 7.0<br>Win Probability: 59.38%<br>Time Remaining: 34:50",
          "PHI Score: 7.0<br>LAC Score: 7.0<br>Win Probability: 62.31%<br>Time Remaining: 34:24",
          "PHI Score: 7.0<br>LAC Score: 7.0<br>Win Probability: 65.04%<br>Time Remaining: 33:55",
          "PHI Score: 7.0<br>LAC Score: 7.0<br>Win Probability: 64.95%<br>Time Remaining: 33:21",
          "PHI Score: 7.0<br>LAC Score: 7.0<br>Win Probability: 66.42%<br>Time Remaining: 33:02",
          "PHI Score: 7.0<br>LAC Score: 7.0<br>Win Probability: 65.87%<br>Time Remaining: 32:25",
          "PHI Score: 7.0<br>LAC Score: 7.0<br>Win Probability: 64.14%<br>Time Remaining: 32:00",
          "PHI Score: 7.0<br>LAC Score: 7.0<br>Win Probability: 67.96%<br>Time Remaining: 31:22",
          "PHI Score: 7.0<br>LAC Score: 7.0<br>Win Probability: 69.36%<br>Time Remaining: 31:14",
          "PHI Score: 7.0<br>LAC Score: 7.0<br>Win Probability: 68.69%<br>Time Remaining: 30:28",
          "PHI Score: 7.0<br>LAC Score: 7.0<br>Win Probability: 64.03%<br>Time Remaining: 30:24",
          "PHI Score: 10.0<br>LAC Score: 7.0<br>Win Probability: 62.63%<br>Time Remaining: 30:21",
          "PHI Score: 10.0<br>LAC Score: 7.0<br>Win Probability: 66.20%<br>Time Remaining: 30:15",
          "PHI Score: 10.0<br>LAC Score: 7.0<br>Win Probability: 62.86%<br>Time Remaining: 30:00",
          "PHI Score: 10.0<br>LAC Score: 7.0<br>Win Probability: 64.35%<br>Time Remaining: 29:53",
          "PHI Score: 10.0<br>LAC Score: 7.0<br>Win Probability: 62.59%<br>Time Remaining: 29:21",
          "PHI Score: 10.0<br>LAC Score: 7.0<br>Win Probability: 63.88%<br>Time Remaining: 28:37",
          "PHI Score: 10.0<br>LAC Score: 7.0<br>Win Probability: 56.79%<br>Time Remaining: 28:00",
          "PHI Score: 10.0<br>LAC Score: 7.0<br>Win Probability: 50.50%<br>Time Remaining: 27:25",
          "PHI Score: 10.0<br>LAC Score: 7.0<br>Win Probability: 51.22%<br>Time Remaining: 26:53",
          "PHI Score: 10.0<br>LAC Score: 7.0<br>Win Probability: 50.76%<br>Time Remaining: 26:50",
          "PHI Score: 10.0<br>LAC Score: 7.0<br>Win Probability: 50.74%<br>Time Remaining: 26:17",
          "PHI Score: 10.0<br>LAC Score: 7.0<br>Win Probability: 56.60%<br>Time Remaining: 25:36",
          "PHI Score: 10.0<br>LAC Score: 10.0<br>Win Probability: 55.95%<br>Time Remaining: 25:33",
          "PHI Score: 10.0<br>LAC Score: 10.0<br>Win Probability: 55.54%<br>Time Remaining: 25:33",
          "PHI Score: 10.0<br>LAC Score: 10.0<br>Win Probability: 55.36%<br>Time Remaining: 24:53",
          "PHI Score: 10.0<br>LAC Score: 10.0<br>Win Probability: 53.86%<br>Time Remaining: 24:28",
          "PHI Score: 10.0<br>LAC Score: 10.0<br>Win Probability: 54.35%<br>Time Remaining: 23:50",
          "PHI Score: 10.0<br>LAC Score: 10.0<br>Win Probability: 52.53%<br>Time Remaining: 23:40",
          "PHI Score: 10.0<br>LAC Score: 10.0<br>Win Probability: 59.38%<br>Time Remaining: 23:00",
          "PHI Score: 10.0<br>LAC Score: 10.0<br>Win Probability: 61.86%<br>Time Remaining: 22:25",
          "PHI Score: 10.0<br>LAC Score: 10.0<br>Win Probability: 61.03%<br>Time Remaining: 21:50",
          "PHI Score: 10.0<br>LAC Score: 16.0<br>Win Probability: 72.01%<br>Time Remaining: 21:44",
          "PHI Score: 10.0<br>LAC Score: 16.0<br>Win Probability: 68.42%<br>Time Remaining: 21:44",
          "PHI Score: 10.0<br>LAC Score: 16.0<br>Win Probability: 70.47%<br>Time Remaining: 21:40",
          "PHI Score: 10.0<br>LAC Score: 16.0<br>Win Probability: 71.32%<br>Time Remaining: 21:02",
          "PHI Score: 10.0<br>LAC Score: 16.0<br>Win Probability: 67.44%<br>Time Remaining: 20:36",
          "PHI Score: 10.0<br>LAC Score: 16.0<br>Win Probability: 64.56%<br>Time Remaining: 20:11",
          "PHI Score: 10.0<br>LAC Score: 16.0<br>Win Probability: 64.19%<br>Time Remaining: 19:52",
          "PHI Score: 10.0<br>LAC Score: 16.0<br>Win Probability: 57.56%<br>Time Remaining: 19:26",
          "PHI Score: 10.0<br>LAC Score: 16.0<br>Win Probability: 58.81%<br>Time Remaining: 18:46",
          "PHI Score: 10.0<br>LAC Score: 16.0<br>Win Probability: 59.14%<br>Time Remaining: 18:43",
          "PHI Score: 10.0<br>LAC Score: 16.0<br>Win Probability: 53.92%<br>Time Remaining: 18:36",
          "PHI Score: 10.0<br>LAC Score: 16.0<br>Win Probability: 55.12%<br>Time Remaining: 18:14",
          "PHI Score: 16.0<br>LAC Score: 16.0<br>Win Probability: 54.39%<br>Time Remaining: 18:10",
          "PHI Score: 17.0<br>LAC Score: 16.0<br>Win Probability: 54.03%<br>Time Remaining: 18:10",
          "PHI Score: 17.0<br>LAC Score: 16.0<br>Win Probability: 54.17%<br>Time Remaining: 18:02",
          "PHI Score: 17.0<br>LAC Score: 16.0<br>Win Probability: 55.37%<br>Time Remaining: 17:24",
          "PHI Score: 17.0<br>LAC Score: 16.0<br>Win Probability: 55.07%<br>Time Remaining: 16:51",
          "PHI Score: 17.0<br>LAC Score: 16.0<br>Win Probability: 50.98%<br>Time Remaining: 16:46",
          "PHI Score: 17.0<br>LAC Score: 16.0<br>Win Probability: 50.98%<br>Time Remaining: 16:05",
          "PHI Score: 17.0<br>LAC Score: 16.0<br>Win Probability: 55.24%<br>Time Remaining: 15:40",
          "PHI Score: 17.0<br>LAC Score: 16.0<br>Win Probability: 55.57%<br>Time Remaining: 15:00",
          "PHI Score: 17.0<br>LAC Score: 16.0<br>Win Probability: 53.80%<br>Time Remaining: 15:00",
          "PHI Score: 17.0<br>LAC Score: 16.0<br>Win Probability: 57.82%<br>Time Remaining: 14:18",
          "PHI Score: 17.0<br>LAC Score: 16.0<br>Win Probability: 57.81%<br>Time Remaining: 13:38",
          "PHI Score: 17.0<br>LAC Score: 16.0<br>Win Probability: 57.22%<br>Time Remaining: 13:02",
          "PHI Score: 17.0<br>LAC Score: 16.0<br>Win Probability: 58.13%<br>Time Remaining: 12:51",
          "PHI Score: 17.0<br>LAC Score: 16.0<br>Win Probability: 59.25%<br>Time Remaining: 12:14",
          "PHI Score: 17.0<br>LAC Score: 16.0<br>Win Probability: 63.67%<br>Time Remaining: 11:38",
          "PHI Score: 17.0<br>LAC Score: 22.0<br>Win Probability: 75.23%<br>Time Remaining: 11:32",
          "PHI Score: 17.0<br>LAC Score: 24.0<br>Win Probability: 79.51%<br>Time Remaining: 11:32",
          "PHI Score: 17.0<br>LAC Score: 24.0<br>Win Probability: 80.11%<br>Time Remaining: 11:25",
          "PHI Score: 17.0<br>LAC Score: 24.0<br>Win Probability: 83.24%<br>Time Remaining: 10:40",
          "PHI Score: 17.0<br>LAC Score: 24.0<br>Win Probability: 77.71%<br>Time Remaining: 10:11",
          "PHI Score: 17.0<br>LAC Score: 24.0<br>Win Probability: 77.28%<br>Time Remaining: 9:48",
          "PHI Score: 17.0<br>LAC Score: 24.0<br>Win Probability: 77.89%<br>Time Remaining: 9:13",
          "PHI Score: 17.0<br>LAC Score: 24.0<br>Win Probability: 78.59%<br>Time Remaining: 8:37",
          "PHI Score: 17.0<br>LAC Score: 24.0<br>Win Probability: 76.06%<br>Time Remaining: 7:53",
          "PHI Score: 17.0<br>LAC Score: 24.0<br>Win Probability: 76.45%<br>Time Remaining: 7:30",
          "PHI Score: 17.0<br>LAC Score: 24.0<br>Win Probability: 77.22%<br>Time Remaining: 6:55",
          "PHI Score: 17.0<br>LAC Score: 24.0<br>Win Probability: 69.77%<br>Time Remaining: 6:16",
          "PHI Score: 23.0<br>LAC Score: 24.0<br>Win Probability: 51.36%<br>Time Remaining: 6:07",
          "PHI Score: 24.0<br>LAC Score: 24.0<br>Win Probability: 51.98%<br>Time Remaining: 6:07",
          "PHI Score: 24.0<br>LAC Score: 24.0<br>Win Probability: 52.94%<br>Time Remaining: 6:07",
          "PHI Score: 24.0<br>LAC Score: 24.0<br>Win Probability: 54.44%<br>Time Remaining: 5:31",
          "PHI Score: 24.0<br>LAC Score: 24.0<br>Win Probability: 50.07%<br>Time Remaining: 4:47",
          "PHI Score: 24.0<br>LAC Score: 24.0<br>Win Probability: 55.62%<br>Time Remaining: 4:09",
          "PHI Score: 24.0<br>LAC Score: 24.0<br>Win Probability: 53.03%<br>Time Remaining: 3:30",
          "PHI Score: 24.0<br>LAC Score: 24.0<br>Win Probability: 50.68%<br>Time Remaining: 3:27",
          "PHI Score: 24.0<br>LAC Score: 24.0<br>Win Probability: 52.99%<br>Time Remaining: 2:48",
          "PHI Score: 24.0<br>LAC Score: 24.0<br>Win Probability: 63.36%<br>Time Remaining: 2:00",
          "PHI Score: 24.0<br>LAC Score: 24.0<br>Win Probability: 59.67%<br>Time Remaining: 2:00",
          "PHI Score: 24.0<br>LAC Score: 24.0<br>Win Probability: 69.55%<br>Time Remaining: 1:53",
          "PHI Score: 24.0<br>LAC Score: 24.0<br>Win Probability: 65.98%<br>Time Remaining: 1:48",
          "PHI Score: 24.0<br>LAC Score: 24.0<br>Win Probability: 61.70%<br>Time Remaining: 1:45",
          "PHI Score: 24.0<br>LAC Score: 24.0<br>Win Probability: 75.00%<br>Time Remaining: 1:04",
          "PHI Score: 24.0<br>LAC Score: 24.0<br>Win Probability: 75.23%<br>Time Remaining: 0:21",
          "PHI Score: 24.0<br>LAC Score: 24.0<br>Win Probability: 79.22%<br>Time Remaining: 0:06",
          "PHI Score: 24.0<br>LAC Score: 24.0<br>Win Probability: 79.36%<br>Time Remaining: 0:05",
          "PHI Score: 24.0<br>LAC Score: 27.0<br>Win Probability: 87.44%<br>Time Remaining: 0:02"
         ],
         "line": {
          "color": "firebrick",
          "width": 3
         },
         "mode": "lines",
         "name": "Model WP",
         "type": "scatter",
         "x": [
          3593,
          3559,
          3518,
          3482,
          3477,
          3472,
          3472,
          3467,
          3459,
          3427,
          3421,
          3381,
          3366,
          3324,
          3287,
          3246,
          3205,
          3167,
          3130,
          3087,
          3084,
          3051,
          3046,
          3043,
          3038,
          2995,
          2959,
          2949,
          2909,
          2868,
          2833,
          2785,
          2754,
          2750,
          2750,
          2750,
          2723,
          2700,
          2700,
          2666,
          2644,
          2607,
          2568,
          2544,
          2524,
          2485,
          2480,
          2480,
          2474,
          2453,
          2414,
          2385,
          2344,
          2305,
          2276,
          2250,
          2245,
          2211,
          2184,
          2150,
          2118,
          2090,
          2064,
          2035,
          2001,
          1982,
          1945,
          1920,
          1882,
          1874,
          1828,
          1824,
          1821,
          1815,
          1800,
          1793,
          1761,
          1717,
          1680,
          1645,
          1613,
          1610,
          1577,
          1536,
          1533,
          1533,
          1493,
          1468,
          1430,
          1420,
          1380,
          1345,
          1310,
          1304,
          1304,
          1300,
          1262,
          1236,
          1211,
          1192,
          1166,
          1126,
          1123,
          1116,
          1094,
          1090,
          1090,
          1082,
          1044,
          1011,
          1006,
          965,
          940,
          900,
          900,
          858,
          818,
          782,
          771,
          734,
          698,
          692,
          692,
          685,
          640,
          611,
          588,
          553,
          517,
          473,
          450,
          415,
          376,
          367,
          367,
          367,
          331,
          287,
          249,
          210,
          207,
          168,
          120,
          120,
          113,
          108,
          105,
          64,
          21,
          6,
          5,
          2
         ],
         "y": [
          54.632390120981874,
          54.049840916065264,
          53.96854137834784,
          59.11737841373866,
          57.723873696279824,
          52.75503081857631,
          55.42479012792564,
          50.69549159506217,
          46.46619150487837,
          45.42900156688325,
          41.00578369074465,
          47.215842878104844,
          49.973226212960064,
          48.47075624212956,
          51.13894221600322,
          50.21658566714551,
          52.225344843657815,
          58.32282877658669,
          57.65359243208674,
          63.587591909053586,
          62.97537999916262,
          61.57285885313982,
          58.16957220176741,
          54.033866754536156,
          53.676378858114184,
          50.3502648441772,
          46.42283522814149,
          58.41851625893557,
          58.181161258918316,
          58.27132345105501,
          57.97646017128083,
          63.93211664957118,
          63.19049725094696,
          66.27549726528534,
          35.251242643808,
          35.85623755368906,
          36.325022617535566,
          37.14859111939398,
          39.39531022922472,
          38.61681807644867,
          43.49225114068701,
          42.63955238226592,
          44.058006558622765,
          46.49272225407496,
          46.669448657511765,
          45.24663873441557,
          53.58079282894781,
          45.08259140471241,
          45.57087600082979,
          51.38036419586191,
          52.526466989098694,
          50.49963049268684,
          55.138926923397214,
          56.010732692186075,
          53.84514746438067,
          53.701869467225585,
          55.77408581640137,
          56.72894970710154,
          59.21933710121494,
          58.0557362100504,
          58.2517943580249,
          59.37712016463427,
          62.30611106983791,
          65.04047137678722,
          64.9471813878734,
          66.41976260751531,
          65.86814022395124,
          64.13744748693553,
          67.95921938194832,
          69.36473664913117,
          68.68928037206089,
          64.0273354758819,
          37.37102207847192,
          33.79545376996928,
          37.13536879551164,
          35.64730687611298,
          37.40812459908624,
          36.11788791828923,
          43.20781790081901,
          49.495116655930936,
          51.219703027202755,
          50.76063539044807,
          49.25917152899797,
          43.397593394263,
          55.94791688822467,
          55.541946447730574,
          55.36127295062955,
          53.857533538319025,
          45.65303786959846,
          47.47331725419298,
          59.37801916977794,
          61.85687126245129,
          61.02718912084679,
          72.01423016339271,
          31.577958735065625,
          29.53308852511268,
          28.677089347838734,
          32.56108363317264,
          35.43800190076124,
          35.806184345890514,
          42.4423260287964,
          41.19393847309135,
          40.85956630035617,
          46.07842327503924,
          44.88478872898644,
          54.392356984814015,
          45.973440609752835,
          45.83177290022893,
          44.63010660489786,
          44.92643383564807,
          50.98195947792872,
          50.98157403906377,
          44.75707491889431,
          44.43134443851615,
          46.200535557889495,
          57.81815156536949,
          57.81306184065361,
          57.221215145909234,
          58.1294209868407,
          59.252937739953296,
          63.67247118694227,
          75.23002177831673,
          20.493332353432038,
          19.894544018148903,
          16.761457007209366,
          22.288835981671873,
          22.723138498133846,
          22.109808565047075,
          21.41215879625787,
          23.94483124789103,
          23.5489415365336,
          22.784114225008704,
          30.2343777487084,
          51.363580198089274,
          48.015549402917095,
          47.05627446480652,
          45.5646304151658,
          49.92938044198248,
          55.61739875213013,
          53.028424108363346,
          49.32253739075201,
          47.010386379632884,
          63.35720149730126,
          59.67231996004563,
          69.54665341519315,
          65.9820886330669,
          61.698556371688404,
          74.99593144637637,
          75.22924142632604,
          79.21528790751474,
          79.3550894944746,
          12.561735761662323
         ]
        },
        {
         "line": {
          "color": "green",
          "dash": "dash",
          "width": 1
         },
         "mode": "lines",
         "name": "Possession Change",
         "showlegend": true,
         "type": "scatter",
         "x": [
          3593,
          3593,
          null,
          3459,
          3459,
          null,
          3043,
          3043,
          null,
          2949,
          2949,
          null,
          2750,
          2750,
          null,
          2480,
          2480,
          null,
          2245,
          2245,
          null,
          1821,
          1821,
          null,
          1533,
          1533,
          null,
          1420,
          1420,
          null,
          1304,
          1304,
          null,
          1090,
          1090,
          null,
          692,
          692,
          null,
          367,
          367,
          null,
          2,
          2,
          null
         ],
         "y": [
          0,
          100,
          null,
          0,
          100,
          null,
          0,
          100,
          null,
          0,
          100,
          null,
          0,
          100,
          null,
          0,
          100,
          null,
          0,
          100,
          null,
          0,
          100,
          null,
          0,
          100,
          null,
          0,
          100,
          null,
          0,
          100,
          null,
          0,
          100,
          null,
          0,
          100,
          null,
          0,
          100,
          null,
          0,
          100,
          null
         ]
        }
       ],
       "layout": {
        "autosize": true,
        "hovermode": "closest",
        "showlegend": true,
        "template": {
         "data": {
          "bar": [
           {
            "error_x": {
             "color": "#2a3f5f"
            },
            "error_y": {
             "color": "#2a3f5f"
            },
            "marker": {
             "line": {
              "color": "#E5ECF6",
              "width": 0.5
             },
             "pattern": {
              "fillmode": "overlay",
              "size": 10,
              "solidity": 0.2
             }
            },
            "type": "bar"
           }
          ],
          "barpolar": [
           {
            "marker": {
             "line": {
              "color": "#E5ECF6",
              "width": 0.5
             },
             "pattern": {
              "fillmode": "overlay",
              "size": 10,
              "solidity": 0.2
             }
            },
            "type": "barpolar"
           }
          ],
          "carpet": [
           {
            "aaxis": {
             "endlinecolor": "#2a3f5f",
             "gridcolor": "white",
             "linecolor": "white",
             "minorgridcolor": "white",
             "startlinecolor": "#2a3f5f"
            },
            "baxis": {
             "endlinecolor": "#2a3f5f",
             "gridcolor": "white",
             "linecolor": "white",
             "minorgridcolor": "white",
             "startlinecolor": "#2a3f5f"
            },
            "type": "carpet"
           }
          ],
          "choropleth": [
           {
            "colorbar": {
             "outlinewidth": 0,
             "ticks": ""
            },
            "type": "choropleth"
           }
          ],
          "contour": [
           {
            "colorbar": {
             "outlinewidth": 0,
             "ticks": ""
            },
            "colorscale": [
             [
              0,
              "#0d0887"
             ],
             [
              0.1111111111111111,
              "#46039f"
             ],
             [
              0.2222222222222222,
              "#7201a8"
             ],
             [
              0.3333333333333333,
              "#9c179e"
             ],
             [
              0.4444444444444444,
              "#bd3786"
             ],
             [
              0.5555555555555556,
              "#d8576b"
             ],
             [
              0.6666666666666666,
              "#ed7953"
             ],
             [
              0.7777777777777778,
              "#fb9f3a"
             ],
             [
              0.8888888888888888,
              "#fdca26"
             ],
             [
              1,
              "#f0f921"
             ]
            ],
            "type": "contour"
           }
          ],
          "contourcarpet": [
           {
            "colorbar": {
             "outlinewidth": 0,
             "ticks": ""
            },
            "type": "contourcarpet"
           }
          ],
          "heatmap": [
           {
            "colorbar": {
             "outlinewidth": 0,
             "ticks": ""
            },
            "colorscale": [
             [
              0,
              "#0d0887"
             ],
             [
              0.1111111111111111,
              "#46039f"
             ],
             [
              0.2222222222222222,
              "#7201a8"
             ],
             [
              0.3333333333333333,
              "#9c179e"
             ],
             [
              0.4444444444444444,
              "#bd3786"
             ],
             [
              0.5555555555555556,
              "#d8576b"
             ],
             [
              0.6666666666666666,
              "#ed7953"
             ],
             [
              0.7777777777777778,
              "#fb9f3a"
             ],
             [
              0.8888888888888888,
              "#fdca26"
             ],
             [
              1,
              "#f0f921"
             ]
            ],
            "type": "heatmap"
           }
          ],
          "heatmapgl": [
           {
            "colorbar": {
             "outlinewidth": 0,
             "ticks": ""
            },
            "colorscale": [
             [
              0,
              "#0d0887"
             ],
             [
              0.1111111111111111,
              "#46039f"
             ],
             [
              0.2222222222222222,
              "#7201a8"
             ],
             [
              0.3333333333333333,
              "#9c179e"
             ],
             [
              0.4444444444444444,
              "#bd3786"
             ],
             [
              0.5555555555555556,
              "#d8576b"
             ],
             [
              0.6666666666666666,
              "#ed7953"
             ],
             [
              0.7777777777777778,
              "#fb9f3a"
             ],
             [
              0.8888888888888888,
              "#fdca26"
             ],
             [
              1,
              "#f0f921"
             ]
            ],
            "type": "heatmapgl"
           }
          ],
          "histogram": [
           {
            "marker": {
             "pattern": {
              "fillmode": "overlay",
              "size": 10,
              "solidity": 0.2
             }
            },
            "type": "histogram"
           }
          ],
          "histogram2d": [
           {
            "colorbar": {
             "outlinewidth": 0,
             "ticks": ""
            },
            "colorscale": [
             [
              0,
              "#0d0887"
             ],
             [
              0.1111111111111111,
              "#46039f"
             ],
             [
              0.2222222222222222,
              "#7201a8"
             ],
             [
              0.3333333333333333,
              "#9c179e"
             ],
             [
              0.4444444444444444,
              "#bd3786"
             ],
             [
              0.5555555555555556,
              "#d8576b"
             ],
             [
              0.6666666666666666,
              "#ed7953"
             ],
             [
              0.7777777777777778,
              "#fb9f3a"
             ],
             [
              0.8888888888888888,
              "#fdca26"
             ],
             [
              1,
              "#f0f921"
             ]
            ],
            "type": "histogram2d"
           }
          ],
          "histogram2dcontour": [
           {
            "colorbar": {
             "outlinewidth": 0,
             "ticks": ""
            },
            "colorscale": [
             [
              0,
              "#0d0887"
             ],
             [
              0.1111111111111111,
              "#46039f"
             ],
             [
              0.2222222222222222,
              "#7201a8"
             ],
             [
              0.3333333333333333,
              "#9c179e"
             ],
             [
              0.4444444444444444,
              "#bd3786"
             ],
             [
              0.5555555555555556,
              "#d8576b"
             ],
             [
              0.6666666666666666,
              "#ed7953"
             ],
             [
              0.7777777777777778,
              "#fb9f3a"
             ],
             [
              0.8888888888888888,
              "#fdca26"
             ],
             [
              1,
              "#f0f921"
             ]
            ],
            "type": "histogram2dcontour"
           }
          ],
          "mesh3d": [
           {
            "colorbar": {
             "outlinewidth": 0,
             "ticks": ""
            },
            "type": "mesh3d"
           }
          ],
          "parcoords": [
           {
            "line": {
             "colorbar": {
              "outlinewidth": 0,
              "ticks": ""
             }
            },
            "type": "parcoords"
           }
          ],
          "pie": [
           {
            "automargin": true,
            "type": "pie"
           }
          ],
          "scatter": [
           {
            "fillpattern": {
             "fillmode": "overlay",
             "size": 10,
             "solidity": 0.2
            },
            "type": "scatter"
           }
          ],
          "scatter3d": [
           {
            "line": {
             "colorbar": {
              "outlinewidth": 0,
              "ticks": ""
             }
            },
            "marker": {
             "colorbar": {
              "outlinewidth": 0,
              "ticks": ""
             }
            },
            "type": "scatter3d"
           }
          ],
          "scattercarpet": [
           {
            "marker": {
             "colorbar": {
              "outlinewidth": 0,
              "ticks": ""
             }
            },
            "type": "scattercarpet"
           }
          ],
          "scattergeo": [
           {
            "marker": {
             "colorbar": {
              "outlinewidth": 0,
              "ticks": ""
             }
            },
            "type": "scattergeo"
           }
          ],
          "scattergl": [
           {
            "marker": {
             "colorbar": {
              "outlinewidth": 0,
              "ticks": ""
             }
            },
            "type": "scattergl"
           }
          ],
          "scattermapbox": [
           {
            "marker": {
             "colorbar": {
              "outlinewidth": 0,
              "ticks": ""
             }
            },
            "type": "scattermapbox"
           }
          ],
          "scatterpolar": [
           {
            "marker": {
             "colorbar": {
              "outlinewidth": 0,
              "ticks": ""
             }
            },
            "type": "scatterpolar"
           }
          ],
          "scatterpolargl": [
           {
            "marker": {
             "colorbar": {
              "outlinewidth": 0,
              "ticks": ""
             }
            },
            "type": "scatterpolargl"
           }
          ],
          "scatterternary": [
           {
            "marker": {
             "colorbar": {
              "outlinewidth": 0,
              "ticks": ""
             }
            },
            "type": "scatterternary"
           }
          ],
          "surface": [
           {
            "colorbar": {
             "outlinewidth": 0,
             "ticks": ""
            },
            "colorscale": [
             [
              0,
              "#0d0887"
             ],
             [
              0.1111111111111111,
              "#46039f"
             ],
             [
              0.2222222222222222,
              "#7201a8"
             ],
             [
              0.3333333333333333,
              "#9c179e"
             ],
             [
              0.4444444444444444,
              "#bd3786"
             ],
             [
              0.5555555555555556,
              "#d8576b"
             ],
             [
              0.6666666666666666,
              "#ed7953"
             ],
             [
              0.7777777777777778,
              "#fb9f3a"
             ],
             [
              0.8888888888888888,
              "#fdca26"
             ],
             [
              1,
              "#f0f921"
             ]
            ],
            "type": "surface"
           }
          ],
          "table": [
           {
            "cells": {
             "fill": {
              "color": "#EBF0F8"
             },
             "line": {
              "color": "white"
             }
            },
            "header": {
             "fill": {
              "color": "#C8D4E3"
             },
             "line": {
              "color": "white"
             }
            },
            "type": "table"
           }
          ]
         },
         "layout": {
          "annotationdefaults": {
           "arrowcolor": "#2a3f5f",
           "arrowhead": 0,
           "arrowwidth": 1
          },
          "autotypenumbers": "strict",
          "coloraxis": {
           "colorbar": {
            "outlinewidth": 0,
            "ticks": ""
           }
          },
          "colorscale": {
           "diverging": [
            [
             0,
             "#8e0152"
            ],
            [
             0.1,
             "#c51b7d"
            ],
            [
             0.2,
             "#de77ae"
            ],
            [
             0.3,
             "#f1b6da"
            ],
            [
             0.4,
             "#fde0ef"
            ],
            [
             0.5,
             "#f7f7f7"
            ],
            [
             0.6,
             "#e6f5d0"
            ],
            [
             0.7,
             "#b8e186"
            ],
            [
             0.8,
             "#7fbc41"
            ],
            [
             0.9,
             "#4d9221"
            ],
            [
             1,
             "#276419"
            ]
           ],
           "sequential": [
            [
             0,
             "#0d0887"
            ],
            [
             0.1111111111111111,
             "#46039f"
            ],
            [
             0.2222222222222222,
             "#7201a8"
            ],
            [
             0.3333333333333333,
             "#9c179e"
            ],
            [
             0.4444444444444444,
             "#bd3786"
            ],
            [
             0.5555555555555556,
             "#d8576b"
            ],
            [
             0.6666666666666666,
             "#ed7953"
            ],
            [
             0.7777777777777778,
             "#fb9f3a"
            ],
            [
             0.8888888888888888,
             "#fdca26"
            ],
            [
             1,
             "#f0f921"
            ]
           ],
           "sequentialminus": [
            [
             0,
             "#0d0887"
            ],
            [
             0.1111111111111111,
             "#46039f"
            ],
            [
             0.2222222222222222,
             "#7201a8"
            ],
            [
             0.3333333333333333,
             "#9c179e"
            ],
            [
             0.4444444444444444,
             "#bd3786"
            ],
            [
             0.5555555555555556,
             "#d8576b"
            ],
            [
             0.6666666666666666,
             "#ed7953"
            ],
            [
             0.7777777777777778,
             "#fb9f3a"
            ],
            [
             0.8888888888888888,
             "#fdca26"
            ],
            [
             1,
             "#f0f921"
            ]
           ]
          },
          "colorway": [
           "#636efa",
           "#EF553B",
           "#00cc96",
           "#ab63fa",
           "#FFA15A",
           "#19d3f3",
           "#FF6692",
           "#B6E880",
           "#FF97FF",
           "#FECB52"
          ],
          "font": {
           "color": "#2a3f5f"
          },
          "geo": {
           "bgcolor": "white",
           "lakecolor": "white",
           "landcolor": "#E5ECF6",
           "showlakes": true,
           "showland": true,
           "subunitcolor": "white"
          },
          "hoverlabel": {
           "align": "left"
          },
          "hovermode": "closest",
          "mapbox": {
           "style": "light"
          },
          "paper_bgcolor": "white",
          "plot_bgcolor": "#E5ECF6",
          "polar": {
           "angularaxis": {
            "gridcolor": "white",
            "linecolor": "white",
            "ticks": ""
           },
           "bgcolor": "#E5ECF6",
           "radialaxis": {
            "gridcolor": "white",
            "linecolor": "white",
            "ticks": ""
           }
          },
          "scene": {
           "xaxis": {
            "backgroundcolor": "#E5ECF6",
            "gridcolor": "white",
            "gridwidth": 2,
            "linecolor": "white",
            "showbackground": true,
            "ticks": "",
            "zerolinecolor": "white"
           },
           "yaxis": {
            "backgroundcolor": "#E5ECF6",
            "gridcolor": "white",
            "gridwidth": 2,
            "linecolor": "white",
            "showbackground": true,
            "ticks": "",
            "zerolinecolor": "white"
           },
           "zaxis": {
            "backgroundcolor": "#E5ECF6",
            "gridcolor": "white",
            "gridwidth": 2,
            "linecolor": "white",
            "showbackground": true,
            "ticks": "",
            "zerolinecolor": "white"
           }
          },
          "shapedefaults": {
           "line": {
            "color": "#2a3f5f"
           }
          },
          "ternary": {
           "aaxis": {
            "gridcolor": "white",
            "linecolor": "white",
            "ticks": ""
           },
           "baxis": {
            "gridcolor": "white",
            "linecolor": "white",
            "ticks": ""
           },
           "bgcolor": "#E5ECF6",
           "caxis": {
            "gridcolor": "white",
            "linecolor": "white",
            "ticks": ""
           }
          },
          "title": {
           "x": 0.05
          },
          "xaxis": {
           "automargin": true,
           "gridcolor": "white",
           "linecolor": "white",
           "ticks": "",
           "title": {
            "standoff": 15
           },
           "zerolinecolor": "white",
           "zerolinewidth": 2
          },
          "yaxis": {
           "automargin": true,
           "gridcolor": "white",
           "linecolor": "white",
           "ticks": "",
           "title": {
            "standoff": 15
           },
           "zerolinecolor": "white",
           "zerolinewidth": 2
          }
         }
        },
        "title": {
         "text": "Model Win Probability for PHI vs LAC on 2021-11-07"
        },
        "xaxis": {
         "autorange": true,
         "range": [
          3593,
          2
         ],
         "ticktext": [
          "0:00",
          "5:00",
          "10:00",
          "15:00",
          "20:00",
          "25:00",
          "30:00",
          "35:00",
          "40:00",
          "45:00",
          "50:00",
          "55:00"
         ],
         "tickvals": [
          0,
          300,
          600,
          900,
          1200,
          1500,
          1800,
          2100,
          2400,
          2700,
          3000,
          3300
         ],
         "title": {
          "text": "Time Remaining (mm:ss)"
         },
         "type": "linear"
        },
        "yaxis": {
         "autorange": false,
         "range": [
          0,
          100
         ],
         "ticktext": [
          "LAC 100%",
          "75%",
          "50%",
          "75%",
          "PHI 100%"
         ],
         "tickvals": [
          0,
          25,
          50,
          75,
          100
         ],
         "title": {
          "text": "Win Probability"
         },
         "type": "linear"
        }
       }
      },
      "image/png": "[encoded data removed]",
      "text/html": [
       "<div>                            <div id=\"854670fd-3054-4542-b927-80f65078da57\" class=\"plotly-graph-div\" style=\"height:525px; width:1000px;\"></div>            <script type=\"text/javascript\">                require([\"plotly\"], function(Plotly) {                    window.PLOTLYENV=window.PLOTLYENV || {};                                    if (document.getElementById(\"854670fd-3054-4542-b927-80f65078da57\")) {                    Plotly.newPlot(                        \"854670fd-3054-4542-b927-80f65078da57\",                        [{\"hoverinfo\":\"text\",\"hovertext\":[\"PHI Score: 0.0<br>LAC Score: 0.0<br>Win Probability: 54.63%<br>Time Remaining: 59:53\",\"PHI Score: 0.0<br>LAC Score: 0.0<br>Win Probability: 54.05%<br>Time Remaining: 59:19\",\"PHI Score: 0.0<br>LAC Score: 0.0<br>Win Probability: 53.97%<br>Time Remaining: 58:38\",\"PHI Score: 0.0<br>LAC Score: 0.0<br>Win Probability: 59.12%<br>Time Remaining: 58:02\",\"PHI Score: 0.0<br>LAC Score: 0.0<br>Win Probability: 57.72%<br>Time Remaining: 57:57\",\"PHI Score: 0.0<br>LAC Score: 0.0<br>Win Probability: 52.76%<br>Time Remaining: 57:52\",\"PHI Score: 0.0<br>LAC Score: 0.0<br>Win Probability: 55.42%<br>Time Remaining: 57:52\",\"PHI Score: 0.0<br>LAC Score: 0.0<br>Win Probability: 50.70%<br>Time Remaining: 57:47\",\"PHI Score: 0.0<br>LAC Score: 0.0<br>Win Probability: 53.53%<br>Time Remaining: 57:39\",\"PHI Score: 0.0<br>LAC Score: 0.0<br>Win Probability: 54.57%<br>Time Remaining: 57:07\",\"PHI Score: 0.0<br>LAC Score: 0.0<br>Win Probability: 58.99%<br>Time Remaining: 57:01\",\"PHI Score: 0.0<br>LAC Score: 0.0<br>Win Probability: 52.78%<br>Time Remaining: 56:21\",\"PHI Score: 0.0<br>LAC Score: 0.0<br>Win Probability: 50.03%<br>Time Remaining: 56:06\",\"PHI Score: 0.0<br>LAC Score: 0.0<br>Win Probability: 51.53%<br>Time Remaining: 55:24\",\"PHI Score: 0.0<br>LAC Score: 0.0<br>Win Probability: 51.14%<br>Time Remaining: 54:47\",\"PHI Score: 0.0<br>LAC Score: 0.0<br>Win Probability: 50.22%<br>Time Remaining: 54:06\",\"PHI Score: 0.0<br>LAC Score: 0.0<br>Win Probability: 52.23%<br>Time Remaining: 53:25\",\"PHI Score: 0.0<br>LAC Score: 0.0<br>Win Probability: 58.32%<br>Time Remaining: 52:47\",\"PHI Score: 0.0<br>LAC Score: 0.0<br>Win Probability: 57.65%<br>Time Remaining: 52:10\",\"PHI Score: 0.0<br>LAC Score: 0.0<br>Win Probability: 63.59%<br>Time Remaining: 51:27\",\"PHI Score: 0.0<br>LAC Score: 0.0<br>Win Probability: 62.98%<br>Time Remaining: 51:24\",\"PHI Score: 0.0<br>LAC Score: 0.0<br>Win Probability: 61.57%<br>Time Remaining: 50:51\",\"PHI Score: 0.0<br>LAC Score: 0.0<br>Win Probability: 58.17%<br>Time Remaining: 50:46\",\"PHI Score: 0.0<br>LAC Score: 0.0<br>Win Probability: 54.03%<br>Time Remaining: 50:43\",\"PHI Score: 0.0<br>LAC Score: 0.0<br>Win Probability: 53.68%<br>Time Remaining: 50:38\",\"PHI Score: 0.0<br>LAC Score: 0.0<br>Win Probability: 50.35%<br>Time Remaining: 49:55\",\"PHI Score: 0.0<br>LAC Score: 0.0<br>Win Probability: 53.58%<br>Time Remaining: 49:19\",\"PHI Score: 0.0<br>LAC Score: 0.0<br>Win Probability: 58.42%<br>Time Remaining: 49:09\",\"PHI Score: 0.0<br>LAC Score: 0.0<br>Win Probability: 58.18%<br>Time Remaining: 48:29\",\"PHI Score: 0.0<br>LAC Score: 0.0<br>Win Probability: 58.27%<br>Time Remaining: 47:48\",\"PHI Score: 0.0<br>LAC Score: 0.0<br>Win Probability: 57.98%<br>Time Remaining: 47:13\",\"PHI Score: 0.0<br>LAC Score: 0.0<br>Win Probability: 63.93%<br>Time Remaining: 46:25\",\"PHI Score: 0.0<br>LAC Score: 0.0<br>Win Probability: 63.19%<br>Time Remaining: 45:54\",\"PHI Score: 0.0<br>LAC Score: 6.0<br>Win Probability: 66.28%<br>Time Remaining: 45:50\",\"PHI Score: 0.0<br>LAC Score: 7.0<br>Win Probability: 64.75%<br>Time Remaining: 45:50\",\"PHI Score: 0.0<br>LAC Score: 7.0<br>Win Probability: 64.14%<br>Time Remaining: 45:50\",\"PHI Score: 0.0<br>LAC Score: 7.0<br>Win Probability: 63.67%<br>Time Remaining: 45:23\",\"PHI Score: 0.0<br>LAC Score: 7.0<br>Win Probability: 62.85%<br>Time Remaining: 45:00\",\"PHI Score: 0.0<br>LAC Score: 7.0<br>Win Probability: 60.60%<br>Time Remaining: 45:00\",\"PHI Score: 0.0<br>LAC Score: 7.0<br>Win Probability: 61.38%<br>Time Remaining: 44:26\",\"PHI Score: 0.0<br>LAC Score: 7.0<br>Win Probability: 56.51%<br>Time Remaining: 44:04\",\"PHI Score: 0.0<br>LAC Score: 7.0<br>Win Probability: 57.36%<br>Time Remaining: 43:27\",\"PHI Score: 0.0<br>LAC Score: 7.0<br>Win Probability: 55.94%<br>Time Remaining: 42:48\",\"PHI Score: 0.0<br>LAC Score: 7.0<br>Win Probability: 53.51%<br>Time Remaining: 42:24\",\"PHI Score: 0.0<br>LAC Score: 7.0<br>Win Probability: 53.33%<br>Time Remaining: 42:04\",\"PHI Score: 0.0<br>LAC Score: 7.0<br>Win Probability: 54.75%<br>Time Remaining: 41:25\",\"PHI Score: 6.0<br>LAC Score: 7.0<br>Win Probability: 53.58%<br>Time Remaining: 41:20\",\"PHI Score: 7.0<br>LAC Score: 7.0<br>Win Probability: 54.92%<br>Time Remaining: 41:20\",\"PHI Score: 7.0<br>LAC Score: 7.0<br>Win Probability: 54.43%<br>Time Remaining: 41:14\",\"PHI Score: 7.0<br>LAC Score: 7.0<br>Win Probability: 51.38%<br>Time Remaining: 40:53\",\"PHI Score: 7.0<br>LAC Score: 7.0<br>Win Probability: 52.53%<br>Time Remaining: 40:14\",\"PHI Score: 7.0<br>LAC Score: 7.0<br>Win Probability: 50.50%<br>Time Remaining: 39:45\",\"PHI Score: 7.0<br>LAC Score: 7.0<br>Win Probability: 55.14%<br>Time Remaining: 39:04\",\"PHI Score: 7.0<br>LAC Score: 7.0<br>Win Probability: 56.01%<br>Time Remaining: 38:25\",\"PHI Score: 7.0<br>LAC Score: 7.0<br>Win Probability: 53.85%<br>Time Remaining: 37:56\",\"PHI Score: 7.0<br>LAC Score: 7.0<br>Win Probability: 53.70%<br>Time Remaining: 37:30\",\"PHI Score: 7.0<br>LAC Score: 7.0<br>Win Probability: 55.77%<br>Time Remaining: 37:25\",\"PHI Score: 7.0<br>LAC Score: 7.0<br>Win Probability: 56.73%<br>Time Remaining: 36:51\",\"PHI Score: 7.0<br>LAC Score: 7.0<br>Win Probability: 59.22%<br>Time Remaining: 36:24\",\"PHI Score: 7.0<br>LAC Score: 7.0<br>Win Probability: 58.06%<br>Time Remaining: 35:50\",\"PHI Score: 7.0<br>LAC Score: 7.0<br>Win Probability: 58.25%<br>Time Remaining: 35:18\",\"PHI Score: 7.0<br>LAC Score: 7.0<br>Win Probability: 59.38%<br>Time Remaining: 34:50\",\"PHI Score: 7.0<br>LAC Score: 7.0<br>Win Probability: 62.31%<br>Time Remaining: 34:24\",\"PHI Score: 7.0<br>LAC Score: 7.0<br>Win Probability: 65.04%<br>Time Remaining: 33:55\",\"PHI Score: 7.0<br>LAC Score: 7.0<br>Win Probability: 64.95%<br>Time Remaining: 33:21\",\"PHI Score: 7.0<br>LAC Score: 7.0<br>Win Probability: 66.42%<br>Time Remaining: 33:02\",\"PHI Score: 7.0<br>LAC Score: 7.0<br>Win Probability: 65.87%<br>Time Remaining: 32:25\",\"PHI Score: 7.0<br>LAC Score: 7.0<br>Win Probability: 64.14%<br>Time Remaining: 32:00\",\"PHI Score: 7.0<br>LAC Score: 7.0<br>Win Probability: 67.96%<br>Time Remaining: 31:22\",\"PHI Score: 7.0<br>LAC Score: 7.0<br>Win Probability: 69.36%<br>Time Remaining: 31:14\",\"PHI Score: 7.0<br>LAC Score: 7.0<br>Win Probability: 68.69%<br>Time Remaining: 30:28\",\"PHI Score: 7.0<br>LAC Score: 7.0<br>Win Probability: 64.03%<br>Time Remaining: 30:24\",\"PHI Score: 10.0<br>LAC Score: 7.0<br>Win Probability: 62.63%<br>Time Remaining: 30:21\",\"PHI Score: 10.0<br>LAC Score: 7.0<br>Win Probability: 66.20%<br>Time Remaining: 30:15\",\"PHI Score: 10.0<br>LAC Score: 7.0<br>Win Probability: 62.86%<br>Time Remaining: 30:00\",\"PHI Score: 10.0<br>LAC Score: 7.0<br>Win Probability: 64.35%<br>Time Remaining: 29:53\",\"PHI Score: 10.0<br>LAC Score: 7.0<br>Win Probability: 62.59%<br>Time Remaining: 29:21\",\"PHI Score: 10.0<br>LAC Score: 7.0<br>Win Probability: 63.88%<br>Time Remaining: 28:37\",\"PHI Score: 10.0<br>LAC Score: 7.0<br>Win Probability: 56.79%<br>Time Remaining: 28:00\",\"PHI Score: 10.0<br>LAC Score: 7.0<br>Win Probability: 50.50%<br>Time Remaining: 27:25\",\"PHI Score: 10.0<br>LAC Score: 7.0<br>Win Probability: 51.22%<br>Time Remaining: 26:53\",\"PHI Score: 10.0<br>LAC Score: 7.0<br>Win Probability: 50.76%<br>Time Remaining: 26:50\",\"PHI Score: 10.0<br>LAC Score: 7.0<br>Win Probability: 50.74%<br>Time Remaining: 26:17\",\"PHI Score: 10.0<br>LAC Score: 7.0<br>Win Probability: 56.60%<br>Time Remaining: 25:36\",\"PHI Score: 10.0<br>LAC Score: 10.0<br>Win Probability: 55.95%<br>Time Remaining: 25:33\",\"PHI Score: 10.0<br>LAC Score: 10.0<br>Win Probability: 55.54%<br>Time Remaining: 25:33\",\"PHI Score: 10.0<br>LAC Score: 10.0<br>Win Probability: 55.36%<br>Time Remaining: 24:53\",\"PHI Score: 10.0<br>LAC Score: 10.0<br>Win Probability: 53.86%<br>Time Remaining: 24:28\",\"PHI Score: 10.0<br>LAC Score: 10.0<br>Win Probability: 54.35%<br>Time Remaining: 23:50\",\"PHI Score: 10.0<br>LAC Score: 10.0<br>Win Probability: 52.53%<br>Time Remaining: 23:40\",\"PHI Score: 10.0<br>LAC Score: 10.0<br>Win Probability: 59.38%<br>Time Remaining: 23:00\",\"PHI Score: 10.0<br>LAC Score: 10.0<br>Win Probability: 61.86%<br>Time Remaining: 22:25\",\"PHI Score: 10.0<br>LAC Score: 10.0<br>Win Probability: 61.03%<br>Time Remaining: 21:50\",\"PHI Score: 10.0<br>LAC Score: 16.0<br>Win Probability: 72.01%<br>Time Remaining: 21:44\",\"PHI Score: 10.0<br>LAC Score: 16.0<br>Win Probability: 68.42%<br>Time Remaining: 21:44\",\"PHI Score: 10.0<br>LAC Score: 16.0<br>Win Probability: 70.47%<br>Time Remaining: 21:40\",\"PHI Score: 10.0<br>LAC Score: 16.0<br>Win Probability: 71.32%<br>Time Remaining: 21:02\",\"PHI Score: 10.0<br>LAC Score: 16.0<br>Win Probability: 67.44%<br>Time Remaining: 20:36\",\"PHI Score: 10.0<br>LAC Score: 16.0<br>Win Probability: 64.56%<br>Time Remaining: 20:11\",\"PHI Score: 10.0<br>LAC Score: 16.0<br>Win Probability: 64.19%<br>Time Remaining: 19:52\",\"PHI Score: 10.0<br>LAC Score: 16.0<br>Win Probability: 57.56%<br>Time Remaining: 19:26\",\"PHI Score: 10.0<br>LAC Score: 16.0<br>Win Probability: 58.81%<br>Time Remaining: 18:46\",\"PHI Score: 10.0<br>LAC Score: 16.0<br>Win Probability: 59.14%<br>Time Remaining: 18:43\",\"PHI Score: 10.0<br>LAC Score: 16.0<br>Win Probability: 53.92%<br>Time Remaining: 18:36\",\"PHI Score: 10.0<br>LAC Score: 16.0<br>Win Probability: 55.12%<br>Time Remaining: 18:14\",\"PHI Score: 16.0<br>LAC Score: 16.0<br>Win Probability: 54.39%<br>Time Remaining: 18:10\",\"PHI Score: 17.0<br>LAC Score: 16.0<br>Win Probability: 54.03%<br>Time Remaining: 18:10\",\"PHI Score: 17.0<br>LAC Score: 16.0<br>Win Probability: 54.17%<br>Time Remaining: 18:02\",\"PHI Score: 17.0<br>LAC Score: 16.0<br>Win Probability: 55.37%<br>Time Remaining: 17:24\",\"PHI Score: 17.0<br>LAC Score: 16.0<br>Win Probability: 55.07%<br>Time Remaining: 16:51\",\"PHI Score: 17.0<br>LAC Score: 16.0<br>Win Probability: 50.98%<br>Time Remaining: 16:46\",\"PHI Score: 17.0<br>LAC Score: 16.0<br>Win Probability: 50.98%<br>Time Remaining: 16:05\",\"PHI Score: 17.0<br>LAC Score: 16.0<br>Win Probability: 55.24%<br>Time Remaining: 15:40\",\"PHI Score: 17.0<br>LAC Score: 16.0<br>Win Probability: 55.57%<br>Time Remaining: 15:00\",\"PHI Score: 17.0<br>LAC Score: 16.0<br>Win Probability: 53.80%<br>Time Remaining: 15:00\",\"PHI Score: 17.0<br>LAC Score: 16.0<br>Win Probability: 57.82%<br>Time Remaining: 14:18\",\"PHI Score: 17.0<br>LAC Score: 16.0<br>Win Probability: 57.81%<br>Time Remaining: 13:38\",\"PHI Score: 17.0<br>LAC Score: 16.0<br>Win Probability: 57.22%<br>Time Remaining: 13:02\",\"PHI Score: 17.0<br>LAC Score: 16.0<br>Win Probability: 58.13%<br>Time Remaining: 12:51\",\"PHI Score: 17.0<br>LAC Score: 16.0<br>Win Probability: 59.25%<br>Time Remaining: 12:14\",\"PHI Score: 17.0<br>LAC Score: 16.0<br>Win Probability: 63.67%<br>Time Remaining: 11:38\",\"PHI Score: 17.0<br>LAC Score: 22.0<br>Win Probability: 75.23%<br>Time Remaining: 11:32\",\"PHI Score: 17.0<br>LAC Score: 24.0<br>Win Probability: 79.51%<br>Time Remaining: 11:32\",\"PHI Score: 17.0<br>LAC Score: 24.0<br>Win Probability: 80.11%<br>Time Remaining: 11:25\",\"PHI Score: 17.0<br>LAC Score: 24.0<br>Win Probability: 83.24%<br>Time Remaining: 10:40\",\"PHI Score: 17.0<br>LAC Score: 24.0<br>Win Probability: 77.71%<br>Time Remaining: 10:11\",\"PHI Score: 17.0<br>LAC Score: 24.0<br>Win Probability: 77.28%<br>Time Remaining: 9:48\",\"PHI Score: 17.0<br>LAC Score: 24.0<br>Win Probability: 77.89%<br>Time Remaining: 9:13\",\"PHI Score: 17.0<br>LAC Score: 24.0<br>Win Probability: 78.59%<br>Time Remaining: 8:37\",\"PHI Score: 17.0<br>LAC Score: 24.0<br>Win Probability: 76.06%<br>Time Remaining: 7:53\",\"PHI Score: 17.0<br>LAC Score: 24.0<br>Win Probability: 76.45%<br>Time Remaining: 7:30\",\"PHI Score: 17.0<br>LAC Score: 24.0<br>Win Probability: 77.22%<br>Time Remaining: 6:55\",\"PHI Score: 17.0<br>LAC Score: 24.0<br>Win Probability: 69.77%<br>Time Remaining: 6:16\",\"PHI Score: 23.0<br>LAC Score: 24.0<br>Win Probability: 51.36%<br>Time Remaining: 6:07\",\"PHI Score: 24.0<br>LAC Score: 24.0<br>Win Probability: 51.98%<br>Time Remaining: 6:07\",\"PHI Score: 24.0<br>LAC Score: 24.0<br>Win Probability: 52.94%<br>Time Remaining: 6:07\",\"PHI Score: 24.0<br>LAC Score: 24.0<br>Win Probability: 54.44%<br>Time Remaining: 5:31\",\"PHI Score: 24.0<br>LAC Score: 24.0<br>Win Probability: 50.07%<br>Time Remaining: 4:47\",\"PHI Score: 24.0<br>LAC Score: 24.0<br>Win Probability: 55.62%<br>Time Remaining: 4:09\",\"PHI Score: 24.0<br>LAC Score: 24.0<br>Win Probability: 53.03%<br>Time Remaining: 3:30\",\"PHI Score: 24.0<br>LAC Score: 24.0<br>Win Probability: 50.68%<br>Time Remaining: 3:27\",\"PHI Score: 24.0<br>LAC Score: 24.0<br>Win Probability: 52.99%<br>Time Remaining: 2:48\",\"PHI Score: 24.0<br>LAC Score: 24.0<br>Win Probability: 63.36%<br>Time Remaining: 2:00\",\"PHI Score: 24.0<br>LAC Score: 24.0<br>Win Probability: 59.67%<br>Time Remaining: 2:00\",\"PHI Score: 24.0<br>LAC Score: 24.0<br>Win Probability: 69.55%<br>Time Remaining: 1:53\",\"PHI Score: 24.0<br>LAC Score: 24.0<br>Win Probability: 65.98%<br>Time Remaining: 1:48\",\"PHI Score: 24.0<br>LAC Score: 24.0<br>Win Probability: 61.70%<br>Time Remaining: 1:45\",\"PHI Score: 24.0<br>LAC Score: 24.0<br>Win Probability: 75.00%<br>Time Remaining: 1:04\",\"PHI Score: 24.0<br>LAC Score: 24.0<br>Win Probability: 75.23%<br>Time Remaining: 0:21\",\"PHI Score: 24.0<br>LAC Score: 24.0<br>Win Probability: 79.22%<br>Time Remaining: 0:06\",\"PHI Score: 24.0<br>LAC Score: 24.0<br>Win Probability: 79.36%<br>Time Remaining: 0:05\",\"PHI Score: 24.0<br>LAC Score: 27.0<br>Win Probability: 87.44%<br>Time Remaining: 0:02\"],\"line\":{\"color\":\"firebrick\",\"width\":3},\"mode\":\"lines\",\"name\":\"Model WP\",\"x\":[3593.0,3559.0,3518.0,3482.0,3477.0,3472.0,3472.0,3467.0,3459.0,3427.0,3421.0,3381.0,3366.0,3324.0,3287.0,3246.0,3205.0,3167.0,3130.0,3087.0,3084.0,3051.0,3046.0,3043.0,3038.0,2995.0,2959.0,2949.0,2909.0,2868.0,2833.0,2785.0,2754.0,2750.0,2750.0,2750.0,2723.0,2700.0,2700.0,2666.0,2644.0,2607.0,2568.0,2544.0,2524.0,2485.0,2480.0,2480.0,2474.0,2453.0,2414.0,2385.0,2344.0,2305.0,2276.0,2250.0,2245.0,2211.0,2184.0,2150.0,2118.0,2090.0,2064.0,2035.0,2001.0,1982.0,1945.0,1920.0,1882.0,1874.0,1828.0,1824.0,1821.0,1815.0,1800.0,1793.0,1761.0,1717.0,1680.0,1645.0,1613.0,1610.0,1577.0,1536.0,1533.0,1533.0,1493.0,1468.0,1430.0,1420.0,1380.0,1345.0,1310.0,1304.0,1304.0,1300.0,1262.0,1236.0,1211.0,1192.0,1166.0,1126.0,1123.0,1116.0,1094.0,1090.0,1090.0,1082.0,1044.0,1011.0,1006.0,965.0,940.0,900.0,900.0,858.0,818.0,782.0,771.0,734.0,698.0,692.0,692.0,685.0,640.0,611.0,588.0,553.0,517.0,473.0,450.0,415.0,376.0,367.0,367.0,367.0,331.0,287.0,249.0,210.0,207.0,168.0,120.0,120.0,113.0,108.0,105.0,64.0,21.0,6.0,5.0,2.0],\"y\":[54.632390120981874,54.049840916065264,53.96854137834784,59.11737841373866,57.723873696279824,52.75503081857631,55.42479012792564,50.69549159506217,46.46619150487837,45.42900156688325,41.00578369074465,47.215842878104844,49.973226212960064,48.47075624212956,51.13894221600322,50.21658566714551,52.225344843657815,58.32282877658669,57.65359243208674,63.587591909053586,62.97537999916262,61.57285885313982,58.16957220176741,54.033866754536156,53.676378858114184,50.3502648441772,46.42283522814149,58.41851625893557,58.181161258918316,58.27132345105501,57.97646017128083,63.93211664957118,63.19049725094696,66.27549726528534,35.251242643808,35.85623755368906,36.325022617535566,37.14859111939398,39.39531022922472,38.61681807644867,43.49225114068701,42.63955238226592,44.058006558622765,46.49272225407496,46.669448657511765,45.24663873441557,53.58079282894781,45.08259140471241,45.57087600082979,51.38036419586191,52.526466989098694,50.49963049268684,55.138926923397214,56.010732692186075,53.84514746438067,53.701869467225585,55.77408581640137,56.72894970710154,59.21933710121494,58.0557362100504,58.2517943580249,59.37712016463427,62.30611106983791,65.04047137678722,64.9471813878734,66.41976260751531,65.86814022395124,64.13744748693553,67.95921938194832,69.36473664913117,68.68928037206089,64.0273354758819,37.37102207847192,33.79545376996928,37.13536879551164,35.64730687611298,37.40812459908624,36.11788791828923,43.20781790081901,49.495116655930936,51.219703027202755,50.76063539044807,49.25917152899797,43.397593394263,55.94791688822467,55.541946447730574,55.36127295062955,53.857533538319025,45.65303786959846,47.47331725419298,59.37801916977794,61.85687126245129,61.02718912084679,72.01423016339271,31.577958735065625,29.53308852511268,28.677089347838734,32.56108363317264,35.43800190076124,35.806184345890514,42.4423260287964,41.19393847309135,40.85956630035617,46.07842327503924,44.88478872898644,54.392356984814015,45.973440609752835,45.83177290022893,44.63010660489786,44.92643383564807,50.98195947792872,50.98157403906377,44.75707491889431,44.43134443851615,46.200535557889495,57.81815156536949,57.81306184065361,57.221215145909234,58.1294209868407,59.252937739953296,63.67247118694227,75.23002177831673,20.493332353432038,19.894544018148903,16.761457007209366,22.288835981671873,22.723138498133846,22.109808565047075,21.41215879625787,23.94483124789103,23.5489415365336,22.784114225008704,30.2343777487084,51.363580198089274,48.015549402917095,47.05627446480652,45.5646304151658,49.92938044198248,55.61739875213013,53.028424108363346,49.32253739075201,47.010386379632884,63.35720149730126,59.67231996004563,69.54665341519315,65.9820886330669,61.698556371688404,74.99593144637637,75.22924142632604,79.21528790751474,79.3550894944746,12.561735761662323],\"type\":\"scatter\"},{\"line\":{\"color\":\"green\",\"dash\":\"dash\",\"width\":1},\"mode\":\"lines\",\"name\":\"Possession Change\",\"showlegend\":true,\"x\":[3593.0,3593.0,null,3459.0,3459.0,null,3043.0,3043.0,null,2949.0,2949.0,null,2750.0,2750.0,null,2480.0,2480.0,null,2245.0,2245.0,null,1821.0,1821.0,null,1533.0,1533.0,null,1420.0,1420.0,null,1304.0,1304.0,null,1090.0,1090.0,null,692.0,692.0,null,367.0,367.0,null,2.0,2.0,null],\"y\":[0,100,null,0,100,null,0,100,null,0,100,null,0,100,null,0,100,null,0,100,null,0,100,null,0,100,null,0,100,null,0,100,null,0,100,null,0,100,null,0,100,null,0,100,null],\"type\":\"scatter\"}],                        {\"template\":{\"data\":{\"histogram2dcontour\":[{\"type\":\"histogram2dcontour\",\"colorbar\":{\"outlinewidth\":0,\"ticks\":\"\"},\"colorscale\":[[0.0,\"#0d0887\"],[0.1111111111111111,\"#46039f\"],[0.2222222222222222,\"#7201a8\"],[0.3333333333333333,\"#9c179e\"],[0.4444444444444444,\"#bd3786\"],[0.5555555555555556,\"#d8576b\"],[0.6666666666666666,\"#ed7953\"],[0.7777777777777778,\"#fb9f3a\"],[0.8888888888888888,\"#fdca26\"],[1.0,\"#f0f921\"]]}],\"choropleth\":[{\"type\":\"choropleth\",\"colorbar\":{\"outlinewidth\":0,\"ticks\":\"\"}}],\"histogram2d\":[{\"type\":\"histogram2d\",\"colorbar\":{\"outlinewidth\":0,\"ticks\":\"\"},\"colorscale\":[[0.0,\"#0d0887\"],[0.1111111111111111,\"#46039f\"],[0.2222222222222222,\"#7201a8\"],[0.3333333333333333,\"#9c179e\"],[0.4444444444444444,\"#bd3786\"],[0.5555555555555556,\"#d8576b\"],[0.6666666666666666,\"#ed7953\"],[0.7777777777777778,\"#fb9f3a\"],[0.8888888888888888,\"#fdca26\"],[1.0,\"#f0f921\"]]}],\"heatmap\":[{\"type\":\"heatmap\",\"colorbar\":{\"outlinewidth\":0,\"ticks\":\"\"},\"colorscale\":[[0.0,\"#0d0887\"],[0.1111111111111111,\"#46039f\"],[0.2222222222222222,\"#7201a8\"],[0.3333333333333333,\"#9c179e\"],[0.4444444444444444,\"#bd3786\"],[0.5555555555555556,\"#d8576b\"],[0.6666666666666666,\"#ed7953\"],[0.7777777777777778,\"#fb9f3a\"],[0.8888888888888888,\"#fdca26\"],[1.0,\"#f0f921\"]]}],\"heatmapgl\":[{\"type\":\"heatmapgl\",\"colorbar\":{\"outlinewidth\":0,\"ticks\":\"\"},\"colorscale\":[[0.0,\"#0d0887\"],[0.1111111111111111,\"#46039f\"],[0.2222222222222222,\"#7201a8\"],[0.3333333333333333,\"#9c179e\"],[0.4444444444444444,\"#bd3786\"],[0.5555555555555556,\"#d8576b\"],[0.6666666666666666,\"#ed7953\"],[0.7777777777777778,\"#fb9f3a\"],[0.8888888888888888,\"#fdca26\"],[1.0,\"#f0f921\"]]}],\"contourcarpet\":[{\"type\":\"contourcarpet\",\"colorbar\":{\"outlinewidth\":0,\"ticks\":\"\"}}],\"contour\":[{\"type\":\"contour\",\"colorbar\":{\"outlinewidth\":0,\"ticks\":\"\"},\"colorscale\":[[0.0,\"#0d0887\"],[0.1111111111111111,\"#46039f\"],[0.2222222222222222,\"#7201a8\"],[0.3333333333333333,\"#9c179e\"],[0.4444444444444444,\"#bd3786\"],[0.5555555555555556,\"#d8576b\"],[0.6666666666666666,\"#ed7953\"],[0.7777777777777778,\"#fb9f3a\"],[0.8888888888888888,\"#fdca26\"],[1.0,\"#f0f921\"]]}],\"surface\":[{\"type\":\"surface\",\"colorbar\":{\"outlinewidth\":0,\"ticks\":\"\"},\"colorscale\":[[0.0,\"#0d0887\"],[0.1111111111111111,\"#46039f\"],[0.2222222222222222,\"#7201a8\"],[0.3333333333333333,\"#9c179e\"],[0.4444444444444444,\"#bd3786\"],[0.5555555555555556,\"#d8576b\"],[0.6666666666666666,\"#ed7953\"],[0.7777777777777778,\"#fb9f3a\"],[0.8888888888888888,\"#fdca26\"],[1.0,\"#f0f921\"]]}],\"mesh3d\":[{\"type\":\"mesh3d\",\"colorbar\":{\"outlinewidth\":0,\"ticks\":\"\"}}],\"scatter\":[{\"fillpattern\":{\"fillmode\":\"overlay\",\"size\":10,\"solidity\":0.2},\"type\":\"scatter\"}],\"parcoords\":[{\"type\":\"parcoords\",\"line\":{\"colorbar\":{\"outlinewidth\":0,\"ticks\":\"\"}}}],\"scatterpolargl\":[{\"type\":\"scatterpolargl\",\"marker\":{\"colorbar\":{\"outlinewidth\":0,\"ticks\":\"\"}}}],\"bar\":[{\"error_x\":{\"color\":\"#2a3f5f\"},\"error_y\":{\"color\":\"#2a3f5f\"},\"marker\":{\"line\":{\"color\":\"#E5ECF6\",\"width\":0.5},\"pattern\":{\"fillmode\":\"overlay\",\"size\":10,\"solidity\":0.2}},\"type\":\"bar\"}],\"scattergeo\":[{\"type\":\"scattergeo\",\"marker\":{\"colorbar\":{\"outlinewidth\":0,\"ticks\":\"\"}}}],\"scatterpolar\":[{\"type\":\"scatterpolar\",\"marker\":{\"colorbar\":{\"outlinewidth\":0,\"ticks\":\"\"}}}],\"histogram\":[{\"marker\":{\"pattern\":{\"fillmode\":\"overlay\",\"size\":10,\"solidity\":0.2}},\"type\":\"histogram\"}],\"scattergl\":[{\"type\":\"scattergl\",\"marker\":{\"colorbar\":{\"outlinewidth\":0,\"ticks\":\"\"}}}],\"scatter3d\":[{\"type\":\"scatter3d\",\"line\":{\"colorbar\":{\"outlinewidth\":0,\"ticks\":\"\"}},\"marker\":{\"colorbar\":{\"outlinewidth\":0,\"ticks\":\"\"}}}],\"scattermapbox\":[{\"type\":\"scattermapbox\",\"marker\":{\"colorbar\":{\"outlinewidth\":0,\"ticks\":\"\"}}}],\"scatterternary\":[{\"type\":\"scatterternary\",\"marker\":{\"colorbar\":{\"outlinewidth\":0,\"ticks\":\"\"}}}],\"scattercarpet\":[{\"type\":\"scattercarpet\",\"marker\":{\"colorbar\":{\"outlinewidth\":0,\"ticks\":\"\"}}}],\"carpet\":[{\"aaxis\":{\"endlinecolor\":\"#2a3f5f\",\"gridcolor\":\"white\",\"linecolor\":\"white\",\"minorgridcolor\":\"white\",\"startlinecolor\":\"#2a3f5f\"},\"baxis\":{\"endlinecolor\":\"#2a3f5f\",\"gridcolor\":\"white\",\"linecolor\":\"white\",\"minorgridcolor\":\"white\",\"startlinecolor\":\"#2a3f5f\"},\"type\":\"carpet\"}],\"table\":[{\"cells\":{\"fill\":{\"color\":\"#EBF0F8\"},\"line\":{\"color\":\"white\"}},\"header\":{\"fill\":{\"color\":\"#C8D4E3\"},\"line\":{\"color\":\"white\"}},\"type\":\"table\"}],\"barpolar\":[{\"marker\":{\"line\":{\"color\":\"#E5ECF6\",\"width\":0.5},\"pattern\":{\"fillmode\":\"overlay\",\"size\":10,\"solidity\":0.2}},\"type\":\"barpolar\"}],\"pie\":[{\"automargin\":true,\"type\":\"pie\"}]},\"layout\":{\"autotypenumbers\":\"strict\",\"colorway\":[\"#636efa\",\"#EF553B\",\"#00cc96\",\"#ab63fa\",\"#FFA15A\",\"#19d3f3\",\"#FF6692\",\"#B6E880\",\"#FF97FF\",\"#FECB52\"],\"font\":{\"color\":\"#2a3f5f\"},\"hovermode\":\"closest\",\"hoverlabel\":{\"align\":\"left\"},\"paper_bgcolor\":\"white\",\"plot_bgcolor\":\"#E5ECF6\",\"polar\":{\"bgcolor\":\"#E5ECF6\",\"angularaxis\":{\"gridcolor\":\"white\",\"linecolor\":\"white\",\"ticks\":\"\"},\"radialaxis\":{\"gridcolor\":\"white\",\"linecolor\":\"white\",\"ticks\":\"\"}},\"ternary\":{\"bgcolor\":\"#E5ECF6\",\"aaxis\":{\"gridcolor\":\"white\",\"linecolor\":\"white\",\"ticks\":\"\"},\"baxis\":{\"gridcolor\":\"white\",\"linecolor\":\"white\",\"ticks\":\"\"},\"caxis\":{\"gridcolor\":\"white\",\"linecolor\":\"white\",\"ticks\":\"\"}},\"coloraxis\":{\"colorbar\":{\"outlinewidth\":0,\"ticks\":\"\"}},\"colorscale\":{\"sequential\":[[0.0,\"#0d0887\"],[0.1111111111111111,\"#46039f\"],[0.2222222222222222,\"#7201a8\"],[0.3333333333333333,\"#9c179e\"],[0.4444444444444444,\"#bd3786\"],[0.5555555555555556,\"#d8576b\"],[0.6666666666666666,\"#ed7953\"],[0.7777777777777778,\"#fb9f3a\"],[0.8888888888888888,\"#fdca26\"],[1.0,\"#f0f921\"]],\"sequentialminus\":[[0.0,\"#0d0887\"],[0.1111111111111111,\"#46039f\"],[0.2222222222222222,\"#7201a8\"],[0.3333333333333333,\"#9c179e\"],[0.4444444444444444,\"#bd3786\"],[0.5555555555555556,\"#d8576b\"],[0.6666666666666666,\"#ed7953\"],[0.7777777777777778,\"#fb9f3a\"],[0.8888888888888888,\"#fdca26\"],[1.0,\"#f0f921\"]],\"diverging\":[[0,\"#8e0152\"],[0.1,\"#c51b7d\"],[0.2,\"#de77ae\"],[0.3,\"#f1b6da\"],[0.4,\"#fde0ef\"],[0.5,\"#f7f7f7\"],[0.6,\"#e6f5d0\"],[0.7,\"#b8e186\"],[0.8,\"#7fbc41\"],[0.9,\"#4d9221\"],[1,\"#276419\"]]},\"xaxis\":{\"gridcolor\":\"white\",\"linecolor\":\"white\",\"ticks\":\"\",\"title\":{\"standoff\":15},\"zerolinecolor\":\"white\",\"automargin\":true,\"zerolinewidth\":2},\"yaxis\":{\"gridcolor\":\"white\",\"linecolor\":\"white\",\"ticks\":\"\",\"title\":{\"standoff\":15},\"zerolinecolor\":\"white\",\"automargin\":true,\"zerolinewidth\":2},\"scene\":{\"xaxis\":{\"backgroundcolor\":\"#E5ECF6\",\"gridcolor\":\"white\",\"linecolor\":\"white\",\"showbackground\":true,\"ticks\":\"\",\"zerolinecolor\":\"white\",\"gridwidth\":2},\"yaxis\":{\"backgroundcolor\":\"#E5ECF6\",\"gridcolor\":\"white\",\"linecolor\":\"white\",\"showbackground\":true,\"ticks\":\"\",\"zerolinecolor\":\"white\",\"gridwidth\":2},\"zaxis\":{\"backgroundcolor\":\"#E5ECF6\",\"gridcolor\":\"white\",\"linecolor\":\"white\",\"showbackground\":true,\"ticks\":\"\",\"zerolinecolor\":\"white\",\"gridwidth\":2}},\"shapedefaults\":{\"line\":{\"color\":\"#2a3f5f\"}},\"annotationdefaults\":{\"arrowcolor\":\"#2a3f5f\",\"arrowhead\":0,\"arrowwidth\":1},\"geo\":{\"bgcolor\":\"white\",\"landcolor\":\"#E5ECF6\",\"subunitcolor\":\"white\",\"showland\":true,\"showlakes\":true,\"lakecolor\":\"white\"},\"title\":{\"x\":0.05},\"mapbox\":{\"style\":\"light\"}}},\"yaxis\":{\"title\":{\"text\":\"Win Probability\"},\"range\":[0,100],\"tickvals\":[0,25,50,75,100],\"ticktext\":[\"LAC 100%\",\"75%\",\"50%\",\"75%\",\"PHI 100%\"]},\"xaxis\":{\"title\":{\"text\":\"Time Remaining (mm:ss)\"},\"tickvals\":[0,300,600,900,1200,1500,1800,2100,2400,2700,3000,3300],\"ticktext\":[\"0:00\",\"5:00\",\"10:00\",\"15:00\",\"20:00\",\"25:00\",\"30:00\",\"35:00\",\"40:00\",\"45:00\",\"50:00\",\"55:00\"],\"range\":[3593,0],\"autorange\":\"reversed\"},\"title\":{\"text\":\"Model Win Probability for PHI vs LAC on 2021-11-07\"},\"width\":1000,\"hovermode\":\"closest\",\"showlegend\":true},                        {\"responsive\": true}                    ).then(function(){\n",
       "                            \n",
       "var gd = document.getElementById('854670fd-3054-4542-b927-80f65078da57');\n",
       "var x = new MutationObserver(function (mutations, observer) {{\n",
       "        var display = window.getComputedStyle(gd).display;\n",
       "        if (!display || display === 'none') {{\n",
       "            console.log([gd, 'removed!']);\n",
       "            Plotly.purge(gd);\n",
       "            observer.disconnect();\n",
       "        }}\n",
       "}});\n",
       "\n",
       "// Listen for the removal of the full notebook cells\n",
       "var notebookContainer = gd.closest('#notebook-container');\n",
       "if (notebookContainer) {{\n",
       "    x.observe(notebookContainer, {childList: true});\n",
       "}}\n",
       "\n",
       "// Listen for the clearing of the current output cell\n",
       "var outputEl = gd.closest('.output');\n",
       "if (outputEl) {{\n",
       "    x.observe(outputEl, {childList: true});\n",
       "}}\n",
       "\n",
       "                        })                };                });            </script>        </div>"
      ]
     },
     "metadata": {},
     "output_type": "display_data"
    }
   ],
   "source": [
    "# predicted WP graph from the model\n",
    "fig_model = go.Figure()\n",
    "\n",
    "# predicted WP from the model\n",
    "fig_model.add_trace(go.Scatter(\n",
    "    x=time_remaining,\n",
    "    y=game_df['predicted_win_prob'] * 100,\n",
    "    mode='lines',\n",
    "    name=f'Model WP',\n",
    "    hovertext=[f\"{home_team} Score: {hs}<br>{away_team} Score: {as_}<br>Win Probability: {wp:.2f}%<br>Time Remaining: {format_time_remaining(tr)}\"\n",
    "               for hs, as_, wp, tr in zip(game_df['home_team_score'], game_df['away_team_score'], transform_win_prob_for_display(game_df['predicted_win_prob']), time_remaining)],\n",
    "    hoverinfo='text',\n",
    "    line=dict(color='firebrick', width=3),\n",
    "))\n",
    "\n",
    "# add possession changes to the model graph\n",
    "fig_model.add_trace(go.Scatter(\n",
    "    x=possession_change_x,\n",
    "    y=[0, 100, None] * len(possession_change_times),\n",
    "    mode='lines',\n",
    "    name='Possession Change',\n",
    "    line=dict(color=\"green\", width=1, dash=\"dash\"),\n",
    "    showlegend=True,\n",
    "))\n",
    "\n",
    "# update layout for the model graph\n",
    "fig_model.update_layout(\n",
    "    title=f\"Model Win Probability for {home_team} vs {away_team} on {game_date}\",\n",
    "    xaxis_title=\"Time Remaining (mm:ss)\",\n",
    "    yaxis_title=f\"Win Probability\",\n",
    "    yaxis=dict(\n",
    "        range=[0, 100],\n",
    "        tickvals=[0, 25, 50, 75, 100],\n",
    "        ticktext=[f\"{away_team} 100%\", \"75%\", \"50%\", \"75%\", f\"{home_team} 100%\"]\n",
    "    ),\n",
    "    xaxis=dict(\n",
    "        tickvals=tickvals,\n",
    "        ticktext=ticktext,\n",
    "        range=[total_seconds, 0],\n",
    "        autorange=\"reversed\",\n",
    "    ),\n",
    "    width=1000,\n",
    "    hovermode='closest',\n",
    "    showlegend=True,\n",
    ")\n",
    "\n",
    "fig_model.show()"
   ]
  },
  {
   "cell_type": "markdown",
   "id": "a17f5a41-7cd5-4010-b898-0d3a97dcf459",
   "metadata": {},
   "source": [
    "Wow. Qualitatively, the model's output looks incredibly similar to the baseline graph. I had to scroll up and down a few times to make sure I didn't use the wrong dataset for the graphing, but I suppose that the small `mean_squared_error` value represented our output quite well. In order to see the small differences, I decided to plot both the dataset and model datapoints on the same graph."
   ]
  },
  {
   "cell_type": "code",
   "execution_count": 73,
   "id": "fd27b203-367b-46ea-a3b6-d57948ac626b",
   "metadata": {},
   "outputs": [
    {
     "data": {
      "application/vnd.plotly.v1+json": {
       "config": {
        "plotlyServerURL": "https://plot.ly"
       },
       "data": [
        {
         "hoverinfo": "text",
         "hovertext": [
          "Dataset Win Probability: 54.63%",
          "Dataset Win Probability: 53.9%",
          "Dataset Win Probability: 52.47%",
          "Dataset Win Probability: 58.44%",
          "Dataset Win Probability: 56.65%",
          "Dataset Win Probability: 53.08%",
          "Dataset Win Probability: 54.47%",
          "Dataset Win Probability: 50.25%",
          "Dataset Win Probability: 52.85%",
          "Dataset Win Probability: 54.13%",
          "Dataset Win Probability: 56.84%",
          "Dataset Win Probability: 50.56%",
          "Dataset Win Probability: 51.61%",
          "Dataset Win Probability: 50.68%",
          "Dataset Win Probability: 53.0%",
          "Dataset Win Probability: 53.68%",
          "Dataset Win Probability: 54.76%",
          "Dataset Win Probability: 61.36%",
          "Dataset Win Probability: 60.73%",
          "Dataset Win Probability: 65.21%",
          "Dataset Win Probability: 64.1%",
          "Dataset Win Probability: 61.89%",
          "Dataset Win Probability: 59.63%",
          "Dataset Win Probability: 52.19%",
          "Dataset Win Probability: 50.16%",
          "Dataset Win Probability: 52.81%",
          "Dataset Win Probability: 56.33%",
          "Dataset Win Probability: 60.24%",
          "Dataset Win Probability: 61.86%",
          "Dataset Win Probability: 61.12%",
          "Dataset Win Probability: 60.26%",
          "Dataset Win Probability: 64.21%",
          "Dataset Win Probability: 63.08%",
          "Dataset Win Probability: 67.66%",
          "Dataset Win Probability: 67.78%",
          "Dataset Win Probability: 67.78%",
          "Dataset Win Probability: 65.21%",
          "Dataset Win Probability: 64.45%",
          "Dataset Win Probability: 64.45%",
          "Dataset Win Probability: 65.04%",
          "Dataset Win Probability: 58.73%",
          "Dataset Win Probability: 60.35%",
          "Dataset Win Probability: 56.69%",
          "Dataset Win Probability: 55.44%",
          "Dataset Win Probability: 56.52%",
          "Dataset Win Probability: 57.53%",
          "Dataset Win Probability: 53.39%",
          "Dataset Win Probability: 52.86%",
          "Dataset Win Probability: 53.39%",
          "Dataset Win Probability: 52.01%",
          "Dataset Win Probability: 55.46%",
          "Dataset Win Probability: 50.08%",
          "Dataset Win Probability: 57.0%",
          "Dataset Win Probability: 57.68%",
          "Dataset Win Probability: 56.2%",
          "Dataset Win Probability: 55.05%",
          "Dataset Win Probability: 54.3%",
          "Dataset Win Probability: 54.94%",
          "Dataset Win Probability: 56.94%",
          "Dataset Win Probability: 56.69%",
          "Dataset Win Probability: 56.3%",
          "Dataset Win Probability: 57.39%",
          "Dataset Win Probability: 61.25%",
          "Dataset Win Probability: 62.23%",
          "Dataset Win Probability: 62.51%",
          "Dataset Win Probability: 65.2%",
          "Dataset Win Probability: 64.97%",
          "Dataset Win Probability: 63.84%",
          "Dataset Win Probability: 68.94%",
          "Dataset Win Probability: 68.62%",
          "Dataset Win Probability: 67.76%",
          "Dataset Win Probability: 62.55%",
          "Dataset Win Probability: 60.51%",
          "Dataset Win Probability: 61.63%",
          "Dataset Win Probability: 62.87%",
          "Dataset Win Probability: 62.84%",
          "Dataset Win Probability: 60.09%",
          "Dataset Win Probability: 63.74%",
          "Dataset Win Probability: 56.2%",
          "Dataset Win Probability: 51.53%",
          "Dataset Win Probability: 52.41%",
          "Dataset Win Probability: 50.73%",
          "Dataset Win Probability: 52.62%",
          "Dataset Win Probability: 56.36%",
          "Dataset Win Probability: 55.93%",
          "Dataset Win Probability: 55.93%",
          "Dataset Win Probability: 55.4%",
          "Dataset Win Probability: 53.4%",
          "Dataset Win Probability: 54.34%",
          "Dataset Win Probability: 51.28%",
          "Dataset Win Probability: 60.23%",
          "Dataset Win Probability: 63.63%",
          "Dataset Win Probability: 61.6%",
          "Dataset Win Probability: 71.04%",
          "Dataset Win Probability: 69.13%",
          "Dataset Win Probability: 70.19%",
          "Dataset Win Probability: 72.26%",
          "Dataset Win Probability: 66.65%",
          "Dataset Win Probability: 63.32%",
          "Dataset Win Probability: 62.05%",
          "Dataset Win Probability: 57.02%",
          "Dataset Win Probability: 58.93%",
          "Dataset Win Probability: 61.62%",
          "Dataset Win Probability: 51.27%",
          "Dataset Win Probability: 50.86%",
          "Dataset Win Probability: 54.74%",
          "Dataset Win Probability: 54.85%",
          "Dataset Win Probability: 51.7%",
          "Dataset Win Probability: 55.38%",
          "Dataset Win Probability: 55.59%",
          "Dataset Win Probability: 51.37%",
          "Dataset Win Probability: 51.45%",
          "Dataset Win Probability: 55.7%",
          "Dataset Win Probability: 55.8%",
          "Dataset Win Probability: 55.8%",
          "Dataset Win Probability: 57.33%",
          "Dataset Win Probability: 57.64%",
          "Dataset Win Probability: 53.99%",
          "Dataset Win Probability: 59.26%",
          "Dataset Win Probability: 61.17%",
          "Dataset Win Probability: 63.72%",
          "Dataset Win Probability: 73.54%",
          "Dataset Win Probability: 80.59%",
          "Dataset Win Probability: 80.72%",
          "Dataset Win Probability: 83.66%",
          "Dataset Win Probability: 77.71%",
          "Dataset Win Probability: 76.63%",
          "Dataset Win Probability: 79.08%",
          "Dataset Win Probability: 80.29%",
          "Dataset Win Probability: 75.29%",
          "Dataset Win Probability: 75.35%",
          "Dataset Win Probability: 77.23%",
          "Dataset Win Probability: 70.16%",
          "Dataset Win Probability: 52.86%",
          "Dataset Win Probability: 51.83%",
          "Dataset Win Probability: 52.86%",
          "Dataset Win Probability: 54.55%",
          "Dataset Win Probability: 50.1%",
          "Dataset Win Probability: 53.88%",
          "Dataset Win Probability: 52.8%",
          "Dataset Win Probability: 51.47%",
          "Dataset Win Probability: 52.8%",
          "Dataset Win Probability: 62.68%",
          "Dataset Win Probability: 68.8%",
          "Dataset Win Probability: 69.05%",
          "Dataset Win Probability: 65.8%",
          "Dataset Win Probability: 60.35%",
          "Dataset Win Probability: 76.59%",
          "Dataset Win Probability: 75.8%",
          "Dataset Win Probability: 85.45%",
          "Dataset Win Probability: 84.25%",
          "Dataset Win Probability: 91.26%"
         ],
         "line": {
          "color": "blue",
          "dash": "dash",
          "width": 4
         },
         "mode": "lines",
         "name": "Real Dataset WP",
         "type": "scatter",
         "x": [
          3593,
          3559,
          3518,
          3482,
          3477,
          3472,
          3472,
          3467,
          3459,
          3427,
          3421,
          3381,
          3366,
          3324,
          3287,
          3246,
          3205,
          3167,
          3130,
          3087,
          3084,
          3051,
          3046,
          3043,
          3038,
          2995,
          2959,
          2949,
          2909,
          2868,
          2833,
          2785,
          2754,
          2750,
          2750,
          2750,
          2723,
          2700,
          2700,
          2666,
          2644,
          2607,
          2568,
          2544,
          2524,
          2485,
          2480,
          2480,
          2474,
          2453,
          2414,
          2385,
          2344,
          2305,
          2276,
          2250,
          2245,
          2211,
          2184,
          2150,
          2118,
          2090,
          2064,
          2035,
          2001,
          1982,
          1945,
          1920,
          1882,
          1874,
          1828,
          1824,
          1821,
          1815,
          1800,
          1793,
          1761,
          1717,
          1680,
          1645,
          1613,
          1610,
          1577,
          1536,
          1533,
          1533,
          1493,
          1468,
          1430,
          1420,
          1380,
          1345,
          1310,
          1304,
          1304,
          1300,
          1262,
          1236,
          1211,
          1192,
          1166,
          1126,
          1123,
          1116,
          1094,
          1090,
          1090,
          1082,
          1044,
          1011,
          1006,
          965,
          940,
          900,
          900,
          858,
          818,
          782,
          771,
          734,
          698,
          692,
          692,
          685,
          640,
          611,
          588,
          553,
          517,
          473,
          450,
          415,
          376,
          367,
          367,
          367,
          331,
          287,
          249,
          210,
          207,
          168,
          120,
          120,
          113,
          108,
          105,
          64,
          21,
          6,
          5,
          2
         ],
         "y": [
          54.62617874145508,
          53.900455474853516,
          52.473384857177734,
          58.44466781616211,
          56.65315246582031,
          53.08439636230469,
          54.47285842895508,
          49.7489013671875,
          47.14969253540039,
          45.871150970458984,
          43.160064697265625,
          49.44202423095703,
          51.6138801574707,
          50.67707443237305,
          52.999298095703125,
          53.677242279052734,
          54.76354217529297,
          61.36267852783203,
          60.733943939208984,
          65.20668029785156,
          64.09623718261719,
          61.89266586303711,
          59.627037048339844,
          52.18781280517578,
          50.164955139160156,
          47.193878173828125,
          43.66654586791992,
          60.23982620239258,
          61.86410140991211,
          61.12015151977539,
          60.259700775146484,
          64.20874786376953,
          63.08448791503906,
          67.6628646850586,
          32.21873092651367,
          32.21873092651367,
          34.79435729980469,
          35.552494049072266,
          35.552494049072266,
          34.96061706542969,
          41.266971588134766,
          39.65297317504883,
          43.309043884277344,
          44.561161041259766,
          43.48429489135742,
          42.471580505371094,
          46.61137390136719,
          52.86067199707031,
          46.61137390136719,
          52.0124626159668,
          55.46467971801758,
          49.916683197021484,
          57.001434326171875,
          57.6762809753418,
          56.197975158691406,
          55.05124282836914,
          54.304927825927734,
          54.94239807128906,
          56.94003677368164,
          56.68556213378906,
          56.297088623046875,
          57.39154815673828,
          61.25114059448242,
          62.227420806884766,
          62.50941848754883,
          65.20133972167969,
          64.97005462646484,
          63.83921432495117,
          68.93830108642578,
          68.62264251708984,
          67.76398468017578,
          62.54608154296875,
          39.488895416259766,
          38.365867614746094,
          37.12767791748047,
          37.15983200073242,
          39.9136962890625,
          36.25560760498047,
          43.79947280883789,
          48.47144317626953,
          52.40672302246094,
          50.7333869934082,
          47.3770751953125,
          43.6395263671875,
          55.932350158691406,
          55.932350158691406,
          55.39604949951172,
          53.402687072753906,
          45.6576042175293,
          48.723670959472656,
          60.23054122924805,
          63.63352584838867,
          61.60051727294922,
          71.04251098632812,
          30.866336822509766,
          29.807096481323242,
          27.743383407592773,
          33.35348892211914,
          36.67774200439453,
          37.95052719116211,
          42.97916793823242,
          41.07257080078125,
          38.381038665771484,
          48.72637939453125,
          49.142303466796875,
          54.73741912841797,
          45.145538330078125,
          48.29643249511719,
          44.620567321777344,
          44.40786361694336,
          51.37046432495117,
          51.44504165649414,
          44.295372009277344,
          44.19842529296875,
          44.19842529296875,
          57.325218200683594,
          57.6380729675293,
          53.99195098876953,
          59.261512756347656,
          61.174591064453125,
          63.71782302856445,
          73.5404052734375,
          19.41449546813965,
          19.281591415405273,
          16.341651916503906,
          22.2916316986084,
          23.37278938293457,
          20.91880989074707,
          19.71428680419922,
          24.713956832885742,
          24.652034759521484,
          22.767385482788086,
          29.84282684326172,
          47.13972854614258,
          51.8254508972168,
          47.13972854614258,
          45.448421478271484,
          49.8984375,
          53.883056640625,
          52.79595947265625,
          48.526851654052734,
          47.20024108886719,
          62.68296813964844,
          68.79874420166016,
          69.05196380615234,
          65.80413818359375,
          60.347904205322266,
          76.58684539794922,
          75.80226135253906,
          85.45008087158203,
          84.25283813476562,
          8.742579460144043
         ]
        },
        {
         "hoverinfo": "text",
         "hovertext": [
          "PHI Score: 0.0<br>LAC Score: 0.0<br>Win Probability: 54.63%<br>Time Remaining: 59:53",
          "PHI Score: 0.0<br>LAC Score: 0.0<br>Win Probability: 54.05%<br>Time Remaining: 59:19",
          "PHI Score: 0.0<br>LAC Score: 0.0<br>Win Probability: 53.97%<br>Time Remaining: 58:38",
          "PHI Score: 0.0<br>LAC Score: 0.0<br>Win Probability: 59.12%<br>Time Remaining: 58:02",
          "PHI Score: 0.0<br>LAC Score: 0.0<br>Win Probability: 57.72%<br>Time Remaining: 57:57",
          "PHI Score: 0.0<br>LAC Score: 0.0<br>Win Probability: 52.76%<br>Time Remaining: 57:52",
          "PHI Score: 0.0<br>LAC Score: 0.0<br>Win Probability: 55.42%<br>Time Remaining: 57:52",
          "PHI Score: 0.0<br>LAC Score: 0.0<br>Win Probability: 50.70%<br>Time Remaining: 57:47",
          "PHI Score: 0.0<br>LAC Score: 0.0<br>Win Probability: 46.47%<br>Time Remaining: 57:39",
          "PHI Score: 0.0<br>LAC Score: 0.0<br>Win Probability: 45.43%<br>Time Remaining: 57:07",
          "PHI Score: 0.0<br>LAC Score: 0.0<br>Win Probability: 41.01%<br>Time Remaining: 57:01",
          "PHI Score: 0.0<br>LAC Score: 0.0<br>Win Probability: 47.22%<br>Time Remaining: 56:21",
          "PHI Score: 0.0<br>LAC Score: 0.0<br>Win Probability: 49.97%<br>Time Remaining: 56:06",
          "PHI Score: 0.0<br>LAC Score: 0.0<br>Win Probability: 48.47%<br>Time Remaining: 55:24",
          "PHI Score: 0.0<br>LAC Score: 0.0<br>Win Probability: 51.14%<br>Time Remaining: 54:47",
          "PHI Score: 0.0<br>LAC Score: 0.0<br>Win Probability: 50.22%<br>Time Remaining: 54:06",
          "PHI Score: 0.0<br>LAC Score: 0.0<br>Win Probability: 52.23%<br>Time Remaining: 53:25",
          "PHI Score: 0.0<br>LAC Score: 0.0<br>Win Probability: 58.32%<br>Time Remaining: 52:47",
          "PHI Score: 0.0<br>LAC Score: 0.0<br>Win Probability: 57.65%<br>Time Remaining: 52:10",
          "PHI Score: 0.0<br>LAC Score: 0.0<br>Win Probability: 63.59%<br>Time Remaining: 51:27",
          "PHI Score: 0.0<br>LAC Score: 0.0<br>Win Probability: 62.98%<br>Time Remaining: 51:24",
          "PHI Score: 0.0<br>LAC Score: 0.0<br>Win Probability: 61.57%<br>Time Remaining: 50:51",
          "PHI Score: 0.0<br>LAC Score: 0.0<br>Win Probability: 58.17%<br>Time Remaining: 50:46",
          "PHI Score: 0.0<br>LAC Score: 0.0<br>Win Probability: 54.03%<br>Time Remaining: 50:43",
          "PHI Score: 0.0<br>LAC Score: 0.0<br>Win Probability: 53.68%<br>Time Remaining: 50:38",
          "PHI Score: 0.0<br>LAC Score: 0.0<br>Win Probability: 50.35%<br>Time Remaining: 49:55",
          "PHI Score: 0.0<br>LAC Score: 0.0<br>Win Probability: 46.42%<br>Time Remaining: 49:19",
          "PHI Score: 0.0<br>LAC Score: 0.0<br>Win Probability: 58.42%<br>Time Remaining: 49:09",
          "PHI Score: 0.0<br>LAC Score: 0.0<br>Win Probability: 58.18%<br>Time Remaining: 48:29",
          "PHI Score: 0.0<br>LAC Score: 0.0<br>Win Probability: 58.27%<br>Time Remaining: 47:48",
          "PHI Score: 0.0<br>LAC Score: 0.0<br>Win Probability: 57.98%<br>Time Remaining: 47:13",
          "PHI Score: 0.0<br>LAC Score: 0.0<br>Win Probability: 63.93%<br>Time Remaining: 46:25",
          "PHI Score: 0.0<br>LAC Score: 0.0<br>Win Probability: 63.19%<br>Time Remaining: 45:54",
          "PHI Score: 0.0<br>LAC Score: 6.0<br>Win Probability: 66.28%<br>Time Remaining: 45:50",
          "PHI Score: 0.0<br>LAC Score: 7.0<br>Win Probability: 35.25%<br>Time Remaining: 45:50",
          "PHI Score: 0.0<br>LAC Score: 7.0<br>Win Probability: 35.86%<br>Time Remaining: 45:50",
          "PHI Score: 0.0<br>LAC Score: 7.0<br>Win Probability: 36.33%<br>Time Remaining: 45:23",
          "PHI Score: 0.0<br>LAC Score: 7.0<br>Win Probability: 37.15%<br>Time Remaining: 45:00",
          "PHI Score: 0.0<br>LAC Score: 7.0<br>Win Probability: 39.40%<br>Time Remaining: 45:00",
          "PHI Score: 0.0<br>LAC Score: 7.0<br>Win Probability: 38.62%<br>Time Remaining: 44:26",
          "PHI Score: 0.0<br>LAC Score: 7.0<br>Win Probability: 43.49%<br>Time Remaining: 44:04",
          "PHI Score: 0.0<br>LAC Score: 7.0<br>Win Probability: 42.64%<br>Time Remaining: 43:27",
          "PHI Score: 0.0<br>LAC Score: 7.0<br>Win Probability: 44.06%<br>Time Remaining: 42:48",
          "PHI Score: 0.0<br>LAC Score: 7.0<br>Win Probability: 46.49%<br>Time Remaining: 42:24",
          "PHI Score: 0.0<br>LAC Score: 7.0<br>Win Probability: 46.67%<br>Time Remaining: 42:04",
          "PHI Score: 0.0<br>LAC Score: 7.0<br>Win Probability: 45.25%<br>Time Remaining: 41:25",
          "PHI Score: 6.0<br>LAC Score: 7.0<br>Win Probability: 53.58%<br>Time Remaining: 41:20",
          "PHI Score: 7.0<br>LAC Score: 7.0<br>Win Probability: 45.08%<br>Time Remaining: 41:20",
          "PHI Score: 7.0<br>LAC Score: 7.0<br>Win Probability: 45.57%<br>Time Remaining: 41:14",
          "PHI Score: 7.0<br>LAC Score: 7.0<br>Win Probability: 51.38%<br>Time Remaining: 40:53",
          "PHI Score: 7.0<br>LAC Score: 7.0<br>Win Probability: 52.53%<br>Time Remaining: 40:14",
          "PHI Score: 7.0<br>LAC Score: 7.0<br>Win Probability: 50.50%<br>Time Remaining: 39:45",
          "PHI Score: 7.0<br>LAC Score: 7.0<br>Win Probability: 55.14%<br>Time Remaining: 39:04",
          "PHI Score: 7.0<br>LAC Score: 7.0<br>Win Probability: 56.01%<br>Time Remaining: 38:25",
          "PHI Score: 7.0<br>LAC Score: 7.0<br>Win Probability: 53.85%<br>Time Remaining: 37:56",
          "PHI Score: 7.0<br>LAC Score: 7.0<br>Win Probability: 53.70%<br>Time Remaining: 37:30",
          "PHI Score: 7.0<br>LAC Score: 7.0<br>Win Probability: 55.77%<br>Time Remaining: 37:25",
          "PHI Score: 7.0<br>LAC Score: 7.0<br>Win Probability: 56.73%<br>Time Remaining: 36:51",
          "PHI Score: 7.0<br>LAC Score: 7.0<br>Win Probability: 59.22%<br>Time Remaining: 36:24",
          "PHI Score: 7.0<br>LAC Score: 7.0<br>Win Probability: 58.06%<br>Time Remaining: 35:50",
          "PHI Score: 7.0<br>LAC Score: 7.0<br>Win Probability: 58.25%<br>Time Remaining: 35:18",
          "PHI Score: 7.0<br>LAC Score: 7.0<br>Win Probability: 59.38%<br>Time Remaining: 34:50",
          "PHI Score: 7.0<br>LAC Score: 7.0<br>Win Probability: 62.31%<br>Time Remaining: 34:24",
          "PHI Score: 7.0<br>LAC Score: 7.0<br>Win Probability: 65.04%<br>Time Remaining: 33:55",
          "PHI Score: 7.0<br>LAC Score: 7.0<br>Win Probability: 64.95%<br>Time Remaining: 33:21",
          "PHI Score: 7.0<br>LAC Score: 7.0<br>Win Probability: 66.42%<br>Time Remaining: 33:02",
          "PHI Score: 7.0<br>LAC Score: 7.0<br>Win Probability: 65.87%<br>Time Remaining: 32:25",
          "PHI Score: 7.0<br>LAC Score: 7.0<br>Win Probability: 64.14%<br>Time Remaining: 32:00",
          "PHI Score: 7.0<br>LAC Score: 7.0<br>Win Probability: 67.96%<br>Time Remaining: 31:22",
          "PHI Score: 7.0<br>LAC Score: 7.0<br>Win Probability: 69.36%<br>Time Remaining: 31:14",
          "PHI Score: 7.0<br>LAC Score: 7.0<br>Win Probability: 68.69%<br>Time Remaining: 30:28",
          "PHI Score: 7.0<br>LAC Score: 7.0<br>Win Probability: 64.03%<br>Time Remaining: 30:24",
          "PHI Score: 10.0<br>LAC Score: 7.0<br>Win Probability: 37.37%<br>Time Remaining: 30:21",
          "PHI Score: 10.0<br>LAC Score: 7.0<br>Win Probability: 33.80%<br>Time Remaining: 30:15",
          "PHI Score: 10.0<br>LAC Score: 7.0<br>Win Probability: 37.14%<br>Time Remaining: 30:00",
          "PHI Score: 10.0<br>LAC Score: 7.0<br>Win Probability: 35.65%<br>Time Remaining: 29:53",
          "PHI Score: 10.0<br>LAC Score: 7.0<br>Win Probability: 37.41%<br>Time Remaining: 29:21",
          "PHI Score: 10.0<br>LAC Score: 7.0<br>Win Probability: 36.12%<br>Time Remaining: 28:37",
          "PHI Score: 10.0<br>LAC Score: 7.0<br>Win Probability: 43.21%<br>Time Remaining: 28:00",
          "PHI Score: 10.0<br>LAC Score: 7.0<br>Win Probability: 49.50%<br>Time Remaining: 27:25",
          "PHI Score: 10.0<br>LAC Score: 7.0<br>Win Probability: 51.22%<br>Time Remaining: 26:53",
          "PHI Score: 10.0<br>LAC Score: 7.0<br>Win Probability: 50.76%<br>Time Remaining: 26:50",
          "PHI Score: 10.0<br>LAC Score: 7.0<br>Win Probability: 49.26%<br>Time Remaining: 26:17",
          "PHI Score: 10.0<br>LAC Score: 7.0<br>Win Probability: 43.40%<br>Time Remaining: 25:36",
          "PHI Score: 10.0<br>LAC Score: 10.0<br>Win Probability: 55.95%<br>Time Remaining: 25:33",
          "PHI Score: 10.0<br>LAC Score: 10.0<br>Win Probability: 55.54%<br>Time Remaining: 25:33",
          "PHI Score: 10.0<br>LAC Score: 10.0<br>Win Probability: 55.36%<br>Time Remaining: 24:53",
          "PHI Score: 10.0<br>LAC Score: 10.0<br>Win Probability: 53.86%<br>Time Remaining: 24:28",
          "PHI Score: 10.0<br>LAC Score: 10.0<br>Win Probability: 45.65%<br>Time Remaining: 23:50",
          "PHI Score: 10.0<br>LAC Score: 10.0<br>Win Probability: 47.47%<br>Time Remaining: 23:40",
          "PHI Score: 10.0<br>LAC Score: 10.0<br>Win Probability: 59.38%<br>Time Remaining: 23:00",
          "PHI Score: 10.0<br>LAC Score: 10.0<br>Win Probability: 61.86%<br>Time Remaining: 22:25",
          "PHI Score: 10.0<br>LAC Score: 10.0<br>Win Probability: 61.03%<br>Time Remaining: 21:50",
          "PHI Score: 10.0<br>LAC Score: 16.0<br>Win Probability: 72.01%<br>Time Remaining: 21:44",
          "PHI Score: 10.0<br>LAC Score: 16.0<br>Win Probability: 31.58%<br>Time Remaining: 21:44",
          "PHI Score: 10.0<br>LAC Score: 16.0<br>Win Probability: 29.53%<br>Time Remaining: 21:40",
          "PHI Score: 10.0<br>LAC Score: 16.0<br>Win Probability: 28.68%<br>Time Remaining: 21:02",
          "PHI Score: 10.0<br>LAC Score: 16.0<br>Win Probability: 32.56%<br>Time Remaining: 20:36",
          "PHI Score: 10.0<br>LAC Score: 16.0<br>Win Probability: 35.44%<br>Time Remaining: 20:11",
          "PHI Score: 10.0<br>LAC Score: 16.0<br>Win Probability: 35.81%<br>Time Remaining: 19:52",
          "PHI Score: 10.0<br>LAC Score: 16.0<br>Win Probability: 42.44%<br>Time Remaining: 19:26",
          "PHI Score: 10.0<br>LAC Score: 16.0<br>Win Probability: 41.19%<br>Time Remaining: 18:46",
          "PHI Score: 10.0<br>LAC Score: 16.0<br>Win Probability: 40.86%<br>Time Remaining: 18:43",
          "PHI Score: 10.0<br>LAC Score: 16.0<br>Win Probability: 46.08%<br>Time Remaining: 18:36",
          "PHI Score: 10.0<br>LAC Score: 16.0<br>Win Probability: 44.88%<br>Time Remaining: 18:14",
          "PHI Score: 16.0<br>LAC Score: 16.0<br>Win Probability: 54.39%<br>Time Remaining: 18:10",
          "PHI Score: 17.0<br>LAC Score: 16.0<br>Win Probability: 45.97%<br>Time Remaining: 18:10",
          "PHI Score: 17.0<br>LAC Score: 16.0<br>Win Probability: 45.83%<br>Time Remaining: 18:02",
          "PHI Score: 17.0<br>LAC Score: 16.0<br>Win Probability: 44.63%<br>Time Remaining: 17:24",
          "PHI Score: 17.0<br>LAC Score: 16.0<br>Win Probability: 44.93%<br>Time Remaining: 16:51",
          "PHI Score: 17.0<br>LAC Score: 16.0<br>Win Probability: 50.98%<br>Time Remaining: 16:46",
          "PHI Score: 17.0<br>LAC Score: 16.0<br>Win Probability: 50.98%<br>Time Remaining: 16:05",
          "PHI Score: 17.0<br>LAC Score: 16.0<br>Win Probability: 44.76%<br>Time Remaining: 15:40",
          "PHI Score: 17.0<br>LAC Score: 16.0<br>Win Probability: 44.43%<br>Time Remaining: 15:00",
          "PHI Score: 17.0<br>LAC Score: 16.0<br>Win Probability: 46.20%<br>Time Remaining: 15:00",
          "PHI Score: 17.0<br>LAC Score: 16.0<br>Win Probability: 57.82%<br>Time Remaining: 14:18",
          "PHI Score: 17.0<br>LAC Score: 16.0<br>Win Probability: 57.81%<br>Time Remaining: 13:38",
          "PHI Score: 17.0<br>LAC Score: 16.0<br>Win Probability: 57.22%<br>Time Remaining: 13:02",
          "PHI Score: 17.0<br>LAC Score: 16.0<br>Win Probability: 58.13%<br>Time Remaining: 12:51",
          "PHI Score: 17.0<br>LAC Score: 16.0<br>Win Probability: 59.25%<br>Time Remaining: 12:14",
          "PHI Score: 17.0<br>LAC Score: 16.0<br>Win Probability: 63.67%<br>Time Remaining: 11:38",
          "PHI Score: 17.0<br>LAC Score: 22.0<br>Win Probability: 75.23%<br>Time Remaining: 11:32",
          "PHI Score: 17.0<br>LAC Score: 24.0<br>Win Probability: 20.49%<br>Time Remaining: 11:32",
          "PHI Score: 17.0<br>LAC Score: 24.0<br>Win Probability: 19.89%<br>Time Remaining: 11:25",
          "PHI Score: 17.0<br>LAC Score: 24.0<br>Win Probability: 16.76%<br>Time Remaining: 10:40",
          "PHI Score: 17.0<br>LAC Score: 24.0<br>Win Probability: 22.29%<br>Time Remaining: 10:11",
          "PHI Score: 17.0<br>LAC Score: 24.0<br>Win Probability: 22.72%<br>Time Remaining: 9:48",
          "PHI Score: 17.0<br>LAC Score: 24.0<br>Win Probability: 22.11%<br>Time Remaining: 9:13",
          "PHI Score: 17.0<br>LAC Score: 24.0<br>Win Probability: 21.41%<br>Time Remaining: 8:37",
          "PHI Score: 17.0<br>LAC Score: 24.0<br>Win Probability: 23.94%<br>Time Remaining: 7:53",
          "PHI Score: 17.0<br>LAC Score: 24.0<br>Win Probability: 23.55%<br>Time Remaining: 7:30",
          "PHI Score: 17.0<br>LAC Score: 24.0<br>Win Probability: 22.78%<br>Time Remaining: 6:55",
          "PHI Score: 17.0<br>LAC Score: 24.0<br>Win Probability: 30.23%<br>Time Remaining: 6:16",
          "PHI Score: 23.0<br>LAC Score: 24.0<br>Win Probability: 51.36%<br>Time Remaining: 6:07",
          "PHI Score: 24.0<br>LAC Score: 24.0<br>Win Probability: 48.02%<br>Time Remaining: 6:07",
          "PHI Score: 24.0<br>LAC Score: 24.0<br>Win Probability: 47.06%<br>Time Remaining: 6:07",
          "PHI Score: 24.0<br>LAC Score: 24.0<br>Win Probability: 45.56%<br>Time Remaining: 5:31",
          "PHI Score: 24.0<br>LAC Score: 24.0<br>Win Probability: 49.93%<br>Time Remaining: 4:47",
          "PHI Score: 24.0<br>LAC Score: 24.0<br>Win Probability: 55.62%<br>Time Remaining: 4:09",
          "PHI Score: 24.0<br>LAC Score: 24.0<br>Win Probability: 53.03%<br>Time Remaining: 3:30",
          "PHI Score: 24.0<br>LAC Score: 24.0<br>Win Probability: 49.32%<br>Time Remaining: 3:27",
          "PHI Score: 24.0<br>LAC Score: 24.0<br>Win Probability: 47.01%<br>Time Remaining: 2:48",
          "PHI Score: 24.0<br>LAC Score: 24.0<br>Win Probability: 63.36%<br>Time Remaining: 2:00",
          "PHI Score: 24.0<br>LAC Score: 24.0<br>Win Probability: 59.67%<br>Time Remaining: 2:00",
          "PHI Score: 24.0<br>LAC Score: 24.0<br>Win Probability: 69.55%<br>Time Remaining: 1:53",
          "PHI Score: 24.0<br>LAC Score: 24.0<br>Win Probability: 65.98%<br>Time Remaining: 1:48",
          "PHI Score: 24.0<br>LAC Score: 24.0<br>Win Probability: 61.70%<br>Time Remaining: 1:45",
          "PHI Score: 24.0<br>LAC Score: 24.0<br>Win Probability: 75.00%<br>Time Remaining: 1:04",
          "PHI Score: 24.0<br>LAC Score: 24.0<br>Win Probability: 75.23%<br>Time Remaining: 0:21",
          "PHI Score: 24.0<br>LAC Score: 24.0<br>Win Probability: 79.22%<br>Time Remaining: 0:06",
          "PHI Score: 24.0<br>LAC Score: 24.0<br>Win Probability: 79.36%<br>Time Remaining: 0:05",
          "PHI Score: 24.0<br>LAC Score: 27.0<br>Win Probability: 12.56%<br>Time Remaining: 0:02"
         ],
         "line": {
          "color": "firebrick",
          "width": 3
         },
         "mode": "lines",
         "name": "Model WP",
         "type": "scatter",
         "x": [
          3593,
          3559,
          3518,
          3482,
          3477,
          3472,
          3472,
          3467,
          3459,
          3427,
          3421,
          3381,
          3366,
          3324,
          3287,
          3246,
          3205,
          3167,
          3130,
          3087,
          3084,
          3051,
          3046,
          3043,
          3038,
          2995,
          2959,
          2949,
          2909,
          2868,
          2833,
          2785,
          2754,
          2750,
          2750,
          2750,
          2723,
          2700,
          2700,
          2666,
          2644,
          2607,
          2568,
          2544,
          2524,
          2485,
          2480,
          2480,
          2474,
          2453,
          2414,
          2385,
          2344,
          2305,
          2276,
          2250,
          2245,
          2211,
          2184,
          2150,
          2118,
          2090,
          2064,
          2035,
          2001,
          1982,
          1945,
          1920,
          1882,
          1874,
          1828,
          1824,
          1821,
          1815,
          1800,
          1793,
          1761,
          1717,
          1680,
          1645,
          1613,
          1610,
          1577,
          1536,
          1533,
          1533,
          1493,
          1468,
          1430,
          1420,
          1380,
          1345,
          1310,
          1304,
          1304,
          1300,
          1262,
          1236,
          1211,
          1192,
          1166,
          1126,
          1123,
          1116,
          1094,
          1090,
          1090,
          1082,
          1044,
          1011,
          1006,
          965,
          940,
          900,
          900,
          858,
          818,
          782,
          771,
          734,
          698,
          692,
          692,
          685,
          640,
          611,
          588,
          553,
          517,
          473,
          450,
          415,
          376,
          367,
          367,
          367,
          331,
          287,
          249,
          210,
          207,
          168,
          120,
          120,
          113,
          108,
          105,
          64,
          21,
          6,
          5,
          2
         ],
         "y": [
          54.632390120981874,
          54.049840916065264,
          53.96854137834784,
          59.11737841373866,
          57.723873696279824,
          52.75503081857631,
          55.42479012792564,
          50.69549159506217,
          46.46619150487837,
          45.42900156688325,
          41.00578369074465,
          47.215842878104844,
          49.973226212960064,
          48.47075624212956,
          51.13894221600322,
          50.21658566714551,
          52.225344843657815,
          58.32282877658669,
          57.65359243208674,
          63.587591909053586,
          62.97537999916262,
          61.57285885313982,
          58.16957220176741,
          54.033866754536156,
          53.676378858114184,
          50.3502648441772,
          46.42283522814149,
          58.41851625893557,
          58.181161258918316,
          58.27132345105501,
          57.97646017128083,
          63.93211664957118,
          63.19049725094696,
          66.27549726528534,
          35.251242643808,
          35.85623755368906,
          36.325022617535566,
          37.14859111939398,
          39.39531022922472,
          38.61681807644867,
          43.49225114068701,
          42.63955238226592,
          44.058006558622765,
          46.49272225407496,
          46.669448657511765,
          45.24663873441557,
          53.58079282894781,
          45.08259140471241,
          45.57087600082979,
          51.38036419586191,
          52.526466989098694,
          50.49963049268684,
          55.138926923397214,
          56.010732692186075,
          53.84514746438067,
          53.701869467225585,
          55.77408581640137,
          56.72894970710154,
          59.21933710121494,
          58.0557362100504,
          58.2517943580249,
          59.37712016463427,
          62.30611106983791,
          65.04047137678722,
          64.9471813878734,
          66.41976260751531,
          65.86814022395124,
          64.13744748693553,
          67.95921938194832,
          69.36473664913117,
          68.68928037206089,
          64.0273354758819,
          37.37102207847192,
          33.79545376996928,
          37.13536879551164,
          35.64730687611298,
          37.40812459908624,
          36.11788791828923,
          43.20781790081901,
          49.495116655930936,
          51.219703027202755,
          50.76063539044807,
          49.25917152899797,
          43.397593394263,
          55.94791688822467,
          55.541946447730574,
          55.36127295062955,
          53.857533538319025,
          45.65303786959846,
          47.47331725419298,
          59.37801916977794,
          61.85687126245129,
          61.02718912084679,
          72.01423016339271,
          31.577958735065625,
          29.53308852511268,
          28.677089347838734,
          32.56108363317264,
          35.43800190076124,
          35.806184345890514,
          42.4423260287964,
          41.19393847309135,
          40.85956630035617,
          46.07842327503924,
          44.88478872898644,
          54.392356984814015,
          45.973440609752835,
          45.83177290022893,
          44.63010660489786,
          44.92643383564807,
          50.98195947792872,
          50.98157403906377,
          44.75707491889431,
          44.43134443851615,
          46.200535557889495,
          57.81815156536949,
          57.81306184065361,
          57.221215145909234,
          58.1294209868407,
          59.252937739953296,
          63.67247118694227,
          75.23002177831673,
          20.493332353432038,
          19.894544018148903,
          16.761457007209366,
          22.288835981671873,
          22.723138498133846,
          22.109808565047075,
          21.41215879625787,
          23.94483124789103,
          23.5489415365336,
          22.784114225008704,
          30.2343777487084,
          51.363580198089274,
          48.015549402917095,
          47.05627446480652,
          45.5646304151658,
          49.92938044198248,
          55.61739875213013,
          53.028424108363346,
          49.32253739075201,
          47.010386379632884,
          63.35720149730126,
          59.67231996004563,
          69.54665341519315,
          65.9820886330669,
          61.698556371688404,
          74.99593144637637,
          75.22924142632604,
          79.21528790751474,
          79.3550894944746,
          12.561735761662323
         ]
        },
        {
         "line": {
          "color": "green",
          "dash": "dash",
          "width": 1
         },
         "mode": "lines",
         "name": "Possession Change",
         "showlegend": true,
         "type": "scatter",
         "x": [
          3593,
          3593,
          null,
          3459,
          3459,
          null,
          3043,
          3043,
          null,
          2949,
          2949,
          null,
          2750,
          2750,
          null,
          2480,
          2480,
          null,
          2245,
          2245,
          null,
          1821,
          1821,
          null,
          1533,
          1533,
          null,
          1420,
          1420,
          null,
          1304,
          1304,
          null,
          1090,
          1090,
          null,
          692,
          692,
          null,
          367,
          367,
          null,
          2,
          2,
          null
         ],
         "y": [
          0,
          100,
          null,
          0,
          100,
          null,
          0,
          100,
          null,
          0,
          100,
          null,
          0,
          100,
          null,
          0,
          100,
          null,
          0,
          100,
          null,
          0,
          100,
          null,
          0,
          100,
          null,
          0,
          100,
          null,
          0,
          100,
          null,
          0,
          100,
          null,
          0,
          100,
          null,
          0,
          100,
          null,
          0,
          100,
          null
         ]
        }
       ],
       "layout": {
        "autosize": true,
        "hovermode": "closest",
        "showlegend": true,
        "template": {
         "data": {
          "bar": [
           {
            "error_x": {
             "color": "#2a3f5f"
            },
            "error_y": {
             "color": "#2a3f5f"
            },
            "marker": {
             "line": {
              "color": "#E5ECF6",
              "width": 0.5
             },
             "pattern": {
              "fillmode": "overlay",
              "size": 10,
              "solidity": 0.2
             }
            },
            "type": "bar"
           }
          ],
          "barpolar": [
           {
            "marker": {
             "line": {
              "color": "#E5ECF6",
              "width": 0.5
             },
             "pattern": {
              "fillmode": "overlay",
              "size": 10,
              "solidity": 0.2
             }
            },
            "type": "barpolar"
           }
          ],
          "carpet": [
           {
            "aaxis": {
             "endlinecolor": "#2a3f5f",
             "gridcolor": "white",
             "linecolor": "white",
             "minorgridcolor": "white",
             "startlinecolor": "#2a3f5f"
            },
            "baxis": {
             "endlinecolor": "#2a3f5f",
             "gridcolor": "white",
             "linecolor": "white",
             "minorgridcolor": "white",
             "startlinecolor": "#2a3f5f"
            },
            "type": "carpet"
           }
          ],
          "choropleth": [
           {
            "colorbar": {
             "outlinewidth": 0,
             "ticks": ""
            },
            "type": "choropleth"
           }
          ],
          "contour": [
           {
            "colorbar": {
             "outlinewidth": 0,
             "ticks": ""
            },
            "colorscale": [
             [
              0,
              "#0d0887"
             ],
             [
              0.1111111111111111,
              "#46039f"
             ],
             [
              0.2222222222222222,
              "#7201a8"
             ],
             [
              0.3333333333333333,
              "#9c179e"
             ],
             [
              0.4444444444444444,
              "#bd3786"
             ],
             [
              0.5555555555555556,
              "#d8576b"
             ],
             [
              0.6666666666666666,
              "#ed7953"
             ],
             [
              0.7777777777777778,
              "#fb9f3a"
             ],
             [
              0.8888888888888888,
              "#fdca26"
             ],
             [
              1,
              "#f0f921"
             ]
            ],
            "type": "contour"
           }
          ],
          "contourcarpet": [
           {
            "colorbar": {
             "outlinewidth": 0,
             "ticks": ""
            },
            "type": "contourcarpet"
           }
          ],
          "heatmap": [
           {
            "colorbar": {
             "outlinewidth": 0,
             "ticks": ""
            },
            "colorscale": [
             [
              0,
              "#0d0887"
             ],
             [
              0.1111111111111111,
              "#46039f"
             ],
             [
              0.2222222222222222,
              "#7201a8"
             ],
             [
              0.3333333333333333,
              "#9c179e"
             ],
             [
              0.4444444444444444,
              "#bd3786"
             ],
             [
              0.5555555555555556,
              "#d8576b"
             ],
             [
              0.6666666666666666,
              "#ed7953"
             ],
             [
              0.7777777777777778,
              "#fb9f3a"
             ],
             [
              0.8888888888888888,
              "#fdca26"
             ],
             [
              1,
              "#f0f921"
             ]
            ],
            "type": "heatmap"
           }
          ],
          "heatmapgl": [
           {
            "colorbar": {
             "outlinewidth": 0,
             "ticks": ""
            },
            "colorscale": [
             [
              0,
              "#0d0887"
             ],
             [
              0.1111111111111111,
              "#46039f"
             ],
             [
              0.2222222222222222,
              "#7201a8"
             ],
             [
              0.3333333333333333,
              "#9c179e"
             ],
             [
              0.4444444444444444,
              "#bd3786"
             ],
             [
              0.5555555555555556,
              "#d8576b"
             ],
             [
              0.6666666666666666,
              "#ed7953"
             ],
             [
              0.7777777777777778,
              "#fb9f3a"
             ],
             [
              0.8888888888888888,
              "#fdca26"
             ],
             [
              1,
              "#f0f921"
             ]
            ],
            "type": "heatmapgl"
           }
          ],
          "histogram": [
           {
            "marker": {
             "pattern": {
              "fillmode": "overlay",
              "size": 10,
              "solidity": 0.2
             }
            },
            "type": "histogram"
           }
          ],
          "histogram2d": [
           {
            "colorbar": {
             "outlinewidth": 0,
             "ticks": ""
            },
            "colorscale": [
             [
              0,
              "#0d0887"
             ],
             [
              0.1111111111111111,
              "#46039f"
             ],
             [
              0.2222222222222222,
              "#7201a8"
             ],
             [
              0.3333333333333333,
              "#9c179e"
             ],
             [
              0.4444444444444444,
              "#bd3786"
             ],
             [
              0.5555555555555556,
              "#d8576b"
             ],
             [
              0.6666666666666666,
              "#ed7953"
             ],
             [
              0.7777777777777778,
              "#fb9f3a"
             ],
             [
              0.8888888888888888,
              "#fdca26"
             ],
             [
              1,
              "#f0f921"
             ]
            ],
            "type": "histogram2d"
           }
          ],
          "histogram2dcontour": [
           {
            "colorbar": {
             "outlinewidth": 0,
             "ticks": ""
            },
            "colorscale": [
             [
              0,
              "#0d0887"
             ],
             [
              0.1111111111111111,
              "#46039f"
             ],
             [
              0.2222222222222222,
              "#7201a8"
             ],
             [
              0.3333333333333333,
              "#9c179e"
             ],
             [
              0.4444444444444444,
              "#bd3786"
             ],
             [
              0.5555555555555556,
              "#d8576b"
             ],
             [
              0.6666666666666666,
              "#ed7953"
             ],
             [
              0.7777777777777778,
              "#fb9f3a"
             ],
             [
              0.8888888888888888,
              "#fdca26"
             ],
             [
              1,
              "#f0f921"
             ]
            ],
            "type": "histogram2dcontour"
           }
          ],
          "mesh3d": [
           {
            "colorbar": {
             "outlinewidth": 0,
             "ticks": ""
            },
            "type": "mesh3d"
           }
          ],
          "parcoords": [
           {
            "line": {
             "colorbar": {
              "outlinewidth": 0,
              "ticks": ""
             }
            },
            "type": "parcoords"
           }
          ],
          "pie": [
           {
            "automargin": true,
            "type": "pie"
           }
          ],
          "scatter": [
           {
            "fillpattern": {
             "fillmode": "overlay",
             "size": 10,
             "solidity": 0.2
            },
            "type": "scatter"
           }
          ],
          "scatter3d": [
           {
            "line": {
             "colorbar": {
              "outlinewidth": 0,
              "ticks": ""
             }
            },
            "marker": {
             "colorbar": {
              "outlinewidth": 0,
              "ticks": ""
             }
            },
            "type": "scatter3d"
           }
          ],
          "scattercarpet": [
           {
            "marker": {
             "colorbar": {
              "outlinewidth": 0,
              "ticks": ""
             }
            },
            "type": "scattercarpet"
           }
          ],
          "scattergeo": [
           {
            "marker": {
             "colorbar": {
              "outlinewidth": 0,
              "ticks": ""
             }
            },
            "type": "scattergeo"
           }
          ],
          "scattergl": [
           {
            "marker": {
             "colorbar": {
              "outlinewidth": 0,
              "ticks": ""
             }
            },
            "type": "scattergl"
           }
          ],
          "scattermapbox": [
           {
            "marker": {
             "colorbar": {
              "outlinewidth": 0,
              "ticks": ""
             }
            },
            "type": "scattermapbox"
           }
          ],
          "scatterpolar": [
           {
            "marker": {
             "colorbar": {
              "outlinewidth": 0,
              "ticks": ""
             }
            },
            "type": "scatterpolar"
           }
          ],
          "scatterpolargl": [
           {
            "marker": {
             "colorbar": {
              "outlinewidth": 0,
              "ticks": ""
             }
            },
            "type": "scatterpolargl"
           }
          ],
          "scatterternary": [
           {
            "marker": {
             "colorbar": {
              "outlinewidth": 0,
              "ticks": ""
             }
            },
            "type": "scatterternary"
           }
          ],
          "surface": [
           {
            "colorbar": {
             "outlinewidth": 0,
             "ticks": ""
            },
            "colorscale": [
             [
              0,
              "#0d0887"
             ],
             [
              0.1111111111111111,
              "#46039f"
             ],
             [
              0.2222222222222222,
              "#7201a8"
             ],
             [
              0.3333333333333333,
              "#9c179e"
             ],
             [
              0.4444444444444444,
              "#bd3786"
             ],
             [
              0.5555555555555556,
              "#d8576b"
             ],
             [
              0.6666666666666666,
              "#ed7953"
             ],
             [
              0.7777777777777778,
              "#fb9f3a"
             ],
             [
              0.8888888888888888,
              "#fdca26"
             ],
             [
              1,
              "#f0f921"
             ]
            ],
            "type": "surface"
           }
          ],
          "table": [
           {
            "cells": {
             "fill": {
              "color": "#EBF0F8"
             },
             "line": {
              "color": "white"
             }
            },
            "header": {
             "fill": {
              "color": "#C8D4E3"
             },
             "line": {
              "color": "white"
             }
            },
            "type": "table"
           }
          ]
         },
         "layout": {
          "annotationdefaults": {
           "arrowcolor": "#2a3f5f",
           "arrowhead": 0,
           "arrowwidth": 1
          },
          "autotypenumbers": "strict",
          "coloraxis": {
           "colorbar": {
            "outlinewidth": 0,
            "ticks": ""
           }
          },
          "colorscale": {
           "diverging": [
            [
             0,
             "#8e0152"
            ],
            [
             0.1,
             "#c51b7d"
            ],
            [
             0.2,
             "#de77ae"
            ],
            [
             0.3,
             "#f1b6da"
            ],
            [
             0.4,
             "#fde0ef"
            ],
            [
             0.5,
             "#f7f7f7"
            ],
            [
             0.6,
             "#e6f5d0"
            ],
            [
             0.7,
             "#b8e186"
            ],
            [
             0.8,
             "#7fbc41"
            ],
            [
             0.9,
             "#4d9221"
            ],
            [
             1,
             "#276419"
            ]
           ],
           "sequential": [
            [
             0,
             "#0d0887"
            ],
            [
             0.1111111111111111,
             "#46039f"
            ],
            [
             0.2222222222222222,
             "#7201a8"
            ],
            [
             0.3333333333333333,
             "#9c179e"
            ],
            [
             0.4444444444444444,
             "#bd3786"
            ],
            [
             0.5555555555555556,
             "#d8576b"
            ],
            [
             0.6666666666666666,
             "#ed7953"
            ],
            [
             0.7777777777777778,
             "#fb9f3a"
            ],
            [
             0.8888888888888888,
             "#fdca26"
            ],
            [
             1,
             "#f0f921"
            ]
           ],
           "sequentialminus": [
            [
             0,
             "#0d0887"
            ],
            [
             0.1111111111111111,
             "#46039f"
            ],
            [
             0.2222222222222222,
             "#7201a8"
            ],
            [
             0.3333333333333333,
             "#9c179e"
            ],
            [
             0.4444444444444444,
             "#bd3786"
            ],
            [
             0.5555555555555556,
             "#d8576b"
            ],
            [
             0.6666666666666666,
             "#ed7953"
            ],
            [
             0.7777777777777778,
             "#fb9f3a"
            ],
            [
             0.8888888888888888,
             "#fdca26"
            ],
            [
             1,
             "#f0f921"
            ]
           ]
          },
          "colorway": [
           "#636efa",
           "#EF553B",
           "#00cc96",
           "#ab63fa",
           "#FFA15A",
           "#19d3f3",
           "#FF6692",
           "#B6E880",
           "#FF97FF",
           "#FECB52"
          ],
          "font": {
           "color": "#2a3f5f"
          },
          "geo": {
           "bgcolor": "white",
           "lakecolor": "white",
           "landcolor": "#E5ECF6",
           "showlakes": true,
           "showland": true,
           "subunitcolor": "white"
          },
          "hoverlabel": {
           "align": "left"
          },
          "hovermode": "closest",
          "mapbox": {
           "style": "light"
          },
          "paper_bgcolor": "white",
          "plot_bgcolor": "#E5ECF6",
          "polar": {
           "angularaxis": {
            "gridcolor": "white",
            "linecolor": "white",
            "ticks": ""
           },
           "bgcolor": "#E5ECF6",
           "radialaxis": {
            "gridcolor": "white",
            "linecolor": "white",
            "ticks": ""
           }
          },
          "scene": {
           "xaxis": {
            "backgroundcolor": "#E5ECF6",
            "gridcolor": "white",
            "gridwidth": 2,
            "linecolor": "white",
            "showbackground": true,
            "ticks": "",
            "zerolinecolor": "white"
           },
           "yaxis": {
            "backgroundcolor": "#E5ECF6",
            "gridcolor": "white",
            "gridwidth": 2,
            "linecolor": "white",
            "showbackground": true,
            "ticks": "",
            "zerolinecolor": "white"
           },
           "zaxis": {
            "backgroundcolor": "#E5ECF6",
            "gridcolor": "white",
            "gridwidth": 2,
            "linecolor": "white",
            "showbackground": true,
            "ticks": "",
            "zerolinecolor": "white"
           }
          },
          "shapedefaults": {
           "line": {
            "color": "#2a3f5f"
           }
          },
          "ternary": {
           "aaxis": {
            "gridcolor": "white",
            "linecolor": "white",
            "ticks": ""
           },
           "baxis": {
            "gridcolor": "white",
            "linecolor": "white",
            "ticks": ""
           },
           "bgcolor": "#E5ECF6",
           "caxis": {
            "gridcolor": "white",
            "linecolor": "white",
            "ticks": ""
           }
          },
          "title": {
           "x": 0.05
          },
          "xaxis": {
           "automargin": true,
           "gridcolor": "white",
           "linecolor": "white",
           "ticks": "",
           "title": {
            "standoff": 15
           },
           "zerolinecolor": "white",
           "zerolinewidth": 2
          },
          "yaxis": {
           "automargin": true,
           "gridcolor": "white",
           "linecolor": "white",
           "ticks": "",
           "title": {
            "standoff": 15
           },
           "zerolinecolor": "white",
           "zerolinewidth": 2
          }
         }
        },
        "title": {
         "text": "Combined Win Probability for PHI vs LAC on 2021-11-07"
        },
        "xaxis": {
         "autorange": true,
         "range": [
          3593,
          2
         ],
         "ticktext": [
          "0:00",
          "5:00",
          "10:00",
          "15:00",
          "20:00",
          "25:00",
          "30:00",
          "35:00",
          "40:00",
          "45:00",
          "50:00",
          "55:00"
         ],
         "tickvals": [
          0,
          300,
          600,
          900,
          1200,
          1500,
          1800,
          2100,
          2400,
          2700,
          3000,
          3300
         ],
         "title": {
          "text": "Time Remaining (mm:ss)"
         },
         "type": "linear"
        },
        "yaxis": {
         "range": [
          0,
          100
         ],
         "ticktext": [
          "LAC 100%",
          "75%",
          "50%",
          "75%",
          "PHI 100%"
         ],
         "tickvals": [
          0,
          25,
          50,
          75,
          100
         ],
         "title": {
          "text": "Win Probability"
         },
         "type": "linear"
        }
       }
      },
      "image/png": "[encoded data removed]",
      "text/html": [
       "<div>                            <div id=\"16616043-6cb9-4ac1-b169-50a5bcd210d8\" class=\"plotly-graph-div\" style=\"height:525px; width:1000px;\"></div>            <script type=\"text/javascript\">                require([\"plotly\"], function(Plotly) {                    window.PLOTLYENV=window.PLOTLYENV || {};                                    if (document.getElementById(\"16616043-6cb9-4ac1-b169-50a5bcd210d8\")) {                    Plotly.newPlot(                        \"16616043-6cb9-4ac1-b169-50a5bcd210d8\",                        [{\"hoverinfo\":\"text\",\"hovertext\":[\"Dataset Win Probability: 54.63%\",\"Dataset Win Probability: 53.9%\",\"Dataset Win Probability: 52.47%\",\"Dataset Win Probability: 58.44%\",\"Dataset Win Probability: 56.65%\",\"Dataset Win Probability: 53.08%\",\"Dataset Win Probability: 54.47%\",\"Dataset Win Probability: 50.25%\",\"Dataset Win Probability: 52.85%\",\"Dataset Win Probability: 54.13%\",\"Dataset Win Probability: 56.84%\",\"Dataset Win Probability: 50.56%\",\"Dataset Win Probability: 51.61%\",\"Dataset Win Probability: 50.68%\",\"Dataset Win Probability: 53.0%\",\"Dataset Win Probability: 53.68%\",\"Dataset Win Probability: 54.76%\",\"Dataset Win Probability: 61.36%\",\"Dataset Win Probability: 60.73%\",\"Dataset Win Probability: 65.21%\",\"Dataset Win Probability: 64.1%\",\"Dataset Win Probability: 61.89%\",\"Dataset Win Probability: 59.63%\",\"Dataset Win Probability: 52.19%\",\"Dataset Win Probability: 50.16%\",\"Dataset Win Probability: 52.81%\",\"Dataset Win Probability: 56.33%\",\"Dataset Win Probability: 60.24%\",\"Dataset Win Probability: 61.86%\",\"Dataset Win Probability: 61.12%\",\"Dataset Win Probability: 60.26%\",\"Dataset Win Probability: 64.21%\",\"Dataset Win Probability: 63.08%\",\"Dataset Win Probability: 67.66%\",\"Dataset Win Probability: 67.78%\",\"Dataset Win Probability: 67.78%\",\"Dataset Win Probability: 65.21%\",\"Dataset Win Probability: 64.45%\",\"Dataset Win Probability: 64.45%\",\"Dataset Win Probability: 65.04%\",\"Dataset Win Probability: 58.73%\",\"Dataset Win Probability: 60.35%\",\"Dataset Win Probability: 56.69%\",\"Dataset Win Probability: 55.44%\",\"Dataset Win Probability: 56.52%\",\"Dataset Win Probability: 57.53%\",\"Dataset Win Probability: 53.39%\",\"Dataset Win Probability: 52.86%\",\"Dataset Win Probability: 53.39%\",\"Dataset Win Probability: 52.01%\",\"Dataset Win Probability: 55.46%\",\"Dataset Win Probability: 50.08%\",\"Dataset Win Probability: 57.0%\",\"Dataset Win Probability: 57.68%\",\"Dataset Win Probability: 56.2%\",\"Dataset Win Probability: 55.05%\",\"Dataset Win Probability: 54.3%\",\"Dataset Win Probability: 54.94%\",\"Dataset Win Probability: 56.94%\",\"Dataset Win Probability: 56.69%\",\"Dataset Win Probability: 56.3%\",\"Dataset Win Probability: 57.39%\",\"Dataset Win Probability: 61.25%\",\"Dataset Win Probability: 62.23%\",\"Dataset Win Probability: 62.51%\",\"Dataset Win Probability: 65.2%\",\"Dataset Win Probability: 64.97%\",\"Dataset Win Probability: 63.84%\",\"Dataset Win Probability: 68.94%\",\"Dataset Win Probability: 68.62%\",\"Dataset Win Probability: 67.76%\",\"Dataset Win Probability: 62.55%\",\"Dataset Win Probability: 60.51%\",\"Dataset Win Probability: 61.63%\",\"Dataset Win Probability: 62.87%\",\"Dataset Win Probability: 62.84%\",\"Dataset Win Probability: 60.09%\",\"Dataset Win Probability: 63.74%\",\"Dataset Win Probability: 56.2%\",\"Dataset Win Probability: 51.53%\",\"Dataset Win Probability: 52.41%\",\"Dataset Win Probability: 50.73%\",\"Dataset Win Probability: 52.62%\",\"Dataset Win Probability: 56.36%\",\"Dataset Win Probability: 55.93%\",\"Dataset Win Probability: 55.93%\",\"Dataset Win Probability: 55.4%\",\"Dataset Win Probability: 53.4%\",\"Dataset Win Probability: 54.34%\",\"Dataset Win Probability: 51.28%\",\"Dataset Win Probability: 60.23%\",\"Dataset Win Probability: 63.63%\",\"Dataset Win Probability: 61.6%\",\"Dataset Win Probability: 71.04%\",\"Dataset Win Probability: 69.13%\",\"Dataset Win Probability: 70.19%\",\"Dataset Win Probability: 72.26%\",\"Dataset Win Probability: 66.65%\",\"Dataset Win Probability: 63.32%\",\"Dataset Win Probability: 62.05%\",\"Dataset Win Probability: 57.02%\",\"Dataset Win Probability: 58.93%\",\"Dataset Win Probability: 61.62%\",\"Dataset Win Probability: 51.27%\",\"Dataset Win Probability: 50.86%\",\"Dataset Win Probability: 54.74%\",\"Dataset Win Probability: 54.85%\",\"Dataset Win Probability: 51.7%\",\"Dataset Win Probability: 55.38%\",\"Dataset Win Probability: 55.59%\",\"Dataset Win Probability: 51.37%\",\"Dataset Win Probability: 51.45%\",\"Dataset Win Probability: 55.7%\",\"Dataset Win Probability: 55.8%\",\"Dataset Win Probability: 55.8%\",\"Dataset Win Probability: 57.33%\",\"Dataset Win Probability: 57.64%\",\"Dataset Win Probability: 53.99%\",\"Dataset Win Probability: 59.26%\",\"Dataset Win Probability: 61.17%\",\"Dataset Win Probability: 63.72%\",\"Dataset Win Probability: 73.54%\",\"Dataset Win Probability: 80.59%\",\"Dataset Win Probability: 80.72%\",\"Dataset Win Probability: 83.66%\",\"Dataset Win Probability: 77.71%\",\"Dataset Win Probability: 76.63%\",\"Dataset Win Probability: 79.08%\",\"Dataset Win Probability: 80.29%\",\"Dataset Win Probability: 75.29%\",\"Dataset Win Probability: 75.35%\",\"Dataset Win Probability: 77.23%\",\"Dataset Win Probability: 70.16%\",\"Dataset Win Probability: 52.86%\",\"Dataset Win Probability: 51.83%\",\"Dataset Win Probability: 52.86%\",\"Dataset Win Probability: 54.55%\",\"Dataset Win Probability: 50.1%\",\"Dataset Win Probability: 53.88%\",\"Dataset Win Probability: 52.8%\",\"Dataset Win Probability: 51.47%\",\"Dataset Win Probability: 52.8%\",\"Dataset Win Probability: 62.68%\",\"Dataset Win Probability: 68.8%\",\"Dataset Win Probability: 69.05%\",\"Dataset Win Probability: 65.8%\",\"Dataset Win Probability: 60.35%\",\"Dataset Win Probability: 76.59%\",\"Dataset Win Probability: 75.8%\",\"Dataset Win Probability: 85.45%\",\"Dataset Win Probability: 84.25%\",\"Dataset Win Probability: 91.26%\"],\"line\":{\"color\":\"blue\",\"dash\":\"dash\",\"width\":4},\"mode\":\"lines\",\"name\":\"Real Dataset WP\",\"x\":[3593.0,3559.0,3518.0,3482.0,3477.0,3472.0,3472.0,3467.0,3459.0,3427.0,3421.0,3381.0,3366.0,3324.0,3287.0,3246.0,3205.0,3167.0,3130.0,3087.0,3084.0,3051.0,3046.0,3043.0,3038.0,2995.0,2959.0,2949.0,2909.0,2868.0,2833.0,2785.0,2754.0,2750.0,2750.0,2750.0,2723.0,2700.0,2700.0,2666.0,2644.0,2607.0,2568.0,2544.0,2524.0,2485.0,2480.0,2480.0,2474.0,2453.0,2414.0,2385.0,2344.0,2305.0,2276.0,2250.0,2245.0,2211.0,2184.0,2150.0,2118.0,2090.0,2064.0,2035.0,2001.0,1982.0,1945.0,1920.0,1882.0,1874.0,1828.0,1824.0,1821.0,1815.0,1800.0,1793.0,1761.0,1717.0,1680.0,1645.0,1613.0,1610.0,1577.0,1536.0,1533.0,1533.0,1493.0,1468.0,1430.0,1420.0,1380.0,1345.0,1310.0,1304.0,1304.0,1300.0,1262.0,1236.0,1211.0,1192.0,1166.0,1126.0,1123.0,1116.0,1094.0,1090.0,1090.0,1082.0,1044.0,1011.0,1006.0,965.0,940.0,900.0,900.0,858.0,818.0,782.0,771.0,734.0,698.0,692.0,692.0,685.0,640.0,611.0,588.0,553.0,517.0,473.0,450.0,415.0,376.0,367.0,367.0,367.0,331.0,287.0,249.0,210.0,207.0,168.0,120.0,120.0,113.0,108.0,105.0,64.0,21.0,6.0,5.0,2.0],\"y\":[54.62617874145508,53.900455474853516,52.473384857177734,58.44466781616211,56.65315246582031,53.08439636230469,54.47285842895508,49.7489013671875,47.14969253540039,45.871150970458984,43.160064697265625,49.44202423095703,51.6138801574707,50.67707443237305,52.999298095703125,53.677242279052734,54.76354217529297,61.36267852783203,60.733943939208984,65.20668029785156,64.09623718261719,61.89266586303711,59.627037048339844,52.18781280517578,50.164955139160156,47.193878173828125,43.66654586791992,60.23982620239258,61.86410140991211,61.12015151977539,60.259700775146484,64.20874786376953,63.08448791503906,67.6628646850586,32.21873092651367,32.21873092651367,34.79435729980469,35.552494049072266,35.552494049072266,34.96061706542969,41.266971588134766,39.65297317504883,43.309043884277344,44.561161041259766,43.48429489135742,42.471580505371094,46.61137390136719,52.86067199707031,46.61137390136719,52.0124626159668,55.46467971801758,49.916683197021484,57.001434326171875,57.6762809753418,56.197975158691406,55.05124282836914,54.304927825927734,54.94239807128906,56.94003677368164,56.68556213378906,56.297088623046875,57.39154815673828,61.25114059448242,62.227420806884766,62.50941848754883,65.20133972167969,64.97005462646484,63.83921432495117,68.93830108642578,68.62264251708984,67.76398468017578,62.54608154296875,39.488895416259766,38.365867614746094,37.12767791748047,37.15983200073242,39.9136962890625,36.25560760498047,43.79947280883789,48.47144317626953,52.40672302246094,50.7333869934082,47.3770751953125,43.6395263671875,55.932350158691406,55.932350158691406,55.39604949951172,53.402687072753906,45.6576042175293,48.723670959472656,60.23054122924805,63.63352584838867,61.60051727294922,71.04251098632812,30.866336822509766,29.807096481323242,27.743383407592773,33.35348892211914,36.67774200439453,37.95052719116211,42.97916793823242,41.07257080078125,38.381038665771484,48.72637939453125,49.142303466796875,54.73741912841797,45.145538330078125,48.29643249511719,44.620567321777344,44.40786361694336,51.37046432495117,51.44504165649414,44.295372009277344,44.19842529296875,44.19842529296875,57.325218200683594,57.6380729675293,53.99195098876953,59.261512756347656,61.174591064453125,63.71782302856445,73.5404052734375,19.41449546813965,19.281591415405273,16.341651916503906,22.2916316986084,23.37278938293457,20.91880989074707,19.71428680419922,24.713956832885742,24.652034759521484,22.767385482788086,29.84282684326172,47.13972854614258,51.8254508972168,47.13972854614258,45.448421478271484,49.8984375,53.883056640625,52.79595947265625,48.526851654052734,47.20024108886719,62.68296813964844,68.79874420166016,69.05196380615234,65.80413818359375,60.347904205322266,76.58684539794922,75.80226135253906,85.45008087158203,84.25283813476562,8.742579460144043],\"type\":\"scatter\"},{\"hoverinfo\":\"text\",\"hovertext\":[\"PHI Score: 0.0<br>LAC Score: 0.0<br>Win Probability: 54.63%<br>Time Remaining: 59:53\",\"PHI Score: 0.0<br>LAC Score: 0.0<br>Win Probability: 54.05%<br>Time Remaining: 59:19\",\"PHI Score: 0.0<br>LAC Score: 0.0<br>Win Probability: 53.97%<br>Time Remaining: 58:38\",\"PHI Score: 0.0<br>LAC Score: 0.0<br>Win Probability: 59.12%<br>Time Remaining: 58:02\",\"PHI Score: 0.0<br>LAC Score: 0.0<br>Win Probability: 57.72%<br>Time Remaining: 57:57\",\"PHI Score: 0.0<br>LAC Score: 0.0<br>Win Probability: 52.76%<br>Time Remaining: 57:52\",\"PHI Score: 0.0<br>LAC Score: 0.0<br>Win Probability: 55.42%<br>Time Remaining: 57:52\",\"PHI Score: 0.0<br>LAC Score: 0.0<br>Win Probability: 50.70%<br>Time Remaining: 57:47\",\"PHI Score: 0.0<br>LAC Score: 0.0<br>Win Probability: 46.47%<br>Time Remaining: 57:39\",\"PHI Score: 0.0<br>LAC Score: 0.0<br>Win Probability: 45.43%<br>Time Remaining: 57:07\",\"PHI Score: 0.0<br>LAC Score: 0.0<br>Win Probability: 41.01%<br>Time Remaining: 57:01\",\"PHI Score: 0.0<br>LAC Score: 0.0<br>Win Probability: 47.22%<br>Time Remaining: 56:21\",\"PHI Score: 0.0<br>LAC Score: 0.0<br>Win Probability: 49.97%<br>Time Remaining: 56:06\",\"PHI Score: 0.0<br>LAC Score: 0.0<br>Win Probability: 48.47%<br>Time Remaining: 55:24\",\"PHI Score: 0.0<br>LAC Score: 0.0<br>Win Probability: 51.14%<br>Time Remaining: 54:47\",\"PHI Score: 0.0<br>LAC Score: 0.0<br>Win Probability: 50.22%<br>Time Remaining: 54:06\",\"PHI Score: 0.0<br>LAC Score: 0.0<br>Win Probability: 52.23%<br>Time Remaining: 53:25\",\"PHI Score: 0.0<br>LAC Score: 0.0<br>Win Probability: 58.32%<br>Time Remaining: 52:47\",\"PHI Score: 0.0<br>LAC Score: 0.0<br>Win Probability: 57.65%<br>Time Remaining: 52:10\",\"PHI Score: 0.0<br>LAC Score: 0.0<br>Win Probability: 63.59%<br>Time Remaining: 51:27\",\"PHI Score: 0.0<br>LAC Score: 0.0<br>Win Probability: 62.98%<br>Time Remaining: 51:24\",\"PHI Score: 0.0<br>LAC Score: 0.0<br>Win Probability: 61.57%<br>Time Remaining: 50:51\",\"PHI Score: 0.0<br>LAC Score: 0.0<br>Win Probability: 58.17%<br>Time Remaining: 50:46\",\"PHI Score: 0.0<br>LAC Score: 0.0<br>Win Probability: 54.03%<br>Time Remaining: 50:43\",\"PHI Score: 0.0<br>LAC Score: 0.0<br>Win Probability: 53.68%<br>Time Remaining: 50:38\",\"PHI Score: 0.0<br>LAC Score: 0.0<br>Win Probability: 50.35%<br>Time Remaining: 49:55\",\"PHI Score: 0.0<br>LAC Score: 0.0<br>Win Probability: 46.42%<br>Time Remaining: 49:19\",\"PHI Score: 0.0<br>LAC Score: 0.0<br>Win Probability: 58.42%<br>Time Remaining: 49:09\",\"PHI Score: 0.0<br>LAC Score: 0.0<br>Win Probability: 58.18%<br>Time Remaining: 48:29\",\"PHI Score: 0.0<br>LAC Score: 0.0<br>Win Probability: 58.27%<br>Time Remaining: 47:48\",\"PHI Score: 0.0<br>LAC Score: 0.0<br>Win Probability: 57.98%<br>Time Remaining: 47:13\",\"PHI Score: 0.0<br>LAC Score: 0.0<br>Win Probability: 63.93%<br>Time Remaining: 46:25\",\"PHI Score: 0.0<br>LAC Score: 0.0<br>Win Probability: 63.19%<br>Time Remaining: 45:54\",\"PHI Score: 0.0<br>LAC Score: 6.0<br>Win Probability: 66.28%<br>Time Remaining: 45:50\",\"PHI Score: 0.0<br>LAC Score: 7.0<br>Win Probability: 35.25%<br>Time Remaining: 45:50\",\"PHI Score: 0.0<br>LAC Score: 7.0<br>Win Probability: 35.86%<br>Time Remaining: 45:50\",\"PHI Score: 0.0<br>LAC Score: 7.0<br>Win Probability: 36.33%<br>Time Remaining: 45:23\",\"PHI Score: 0.0<br>LAC Score: 7.0<br>Win Probability: 37.15%<br>Time Remaining: 45:00\",\"PHI Score: 0.0<br>LAC Score: 7.0<br>Win Probability: 39.40%<br>Time Remaining: 45:00\",\"PHI Score: 0.0<br>LAC Score: 7.0<br>Win Probability: 38.62%<br>Time Remaining: 44:26\",\"PHI Score: 0.0<br>LAC Score: 7.0<br>Win Probability: 43.49%<br>Time Remaining: 44:04\",\"PHI Score: 0.0<br>LAC Score: 7.0<br>Win Probability: 42.64%<br>Time Remaining: 43:27\",\"PHI Score: 0.0<br>LAC Score: 7.0<br>Win Probability: 44.06%<br>Time Remaining: 42:48\",\"PHI Score: 0.0<br>LAC Score: 7.0<br>Win Probability: 46.49%<br>Time Remaining: 42:24\",\"PHI Score: 0.0<br>LAC Score: 7.0<br>Win Probability: 46.67%<br>Time Remaining: 42:04\",\"PHI Score: 0.0<br>LAC Score: 7.0<br>Win Probability: 45.25%<br>Time Remaining: 41:25\",\"PHI Score: 6.0<br>LAC Score: 7.0<br>Win Probability: 53.58%<br>Time Remaining: 41:20\",\"PHI Score: 7.0<br>LAC Score: 7.0<br>Win Probability: 45.08%<br>Time Remaining: 41:20\",\"PHI Score: 7.0<br>LAC Score: 7.0<br>Win Probability: 45.57%<br>Time Remaining: 41:14\",\"PHI Score: 7.0<br>LAC Score: 7.0<br>Win Probability: 51.38%<br>Time Remaining: 40:53\",\"PHI Score: 7.0<br>LAC Score: 7.0<br>Win Probability: 52.53%<br>Time Remaining: 40:14\",\"PHI Score: 7.0<br>LAC Score: 7.0<br>Win Probability: 50.50%<br>Time Remaining: 39:45\",\"PHI Score: 7.0<br>LAC Score: 7.0<br>Win Probability: 55.14%<br>Time Remaining: 39:04\",\"PHI Score: 7.0<br>LAC Score: 7.0<br>Win Probability: 56.01%<br>Time Remaining: 38:25\",\"PHI Score: 7.0<br>LAC Score: 7.0<br>Win Probability: 53.85%<br>Time Remaining: 37:56\",\"PHI Score: 7.0<br>LAC Score: 7.0<br>Win Probability: 53.70%<br>Time Remaining: 37:30\",\"PHI Score: 7.0<br>LAC Score: 7.0<br>Win Probability: 55.77%<br>Time Remaining: 37:25\",\"PHI Score: 7.0<br>LAC Score: 7.0<br>Win Probability: 56.73%<br>Time Remaining: 36:51\",\"PHI Score: 7.0<br>LAC Score: 7.0<br>Win Probability: 59.22%<br>Time Remaining: 36:24\",\"PHI Score: 7.0<br>LAC Score: 7.0<br>Win Probability: 58.06%<br>Time Remaining: 35:50\",\"PHI Score: 7.0<br>LAC Score: 7.0<br>Win Probability: 58.25%<br>Time Remaining: 35:18\",\"PHI Score: 7.0<br>LAC Score: 7.0<br>Win Probability: 59.38%<br>Time Remaining: 34:50\",\"PHI Score: 7.0<br>LAC Score: 7.0<br>Win Probability: 62.31%<br>Time Remaining: 34:24\",\"PHI Score: 7.0<br>LAC Score: 7.0<br>Win Probability: 65.04%<br>Time Remaining: 33:55\",\"PHI Score: 7.0<br>LAC Score: 7.0<br>Win Probability: 64.95%<br>Time Remaining: 33:21\",\"PHI Score: 7.0<br>LAC Score: 7.0<br>Win Probability: 66.42%<br>Time Remaining: 33:02\",\"PHI Score: 7.0<br>LAC Score: 7.0<br>Win Probability: 65.87%<br>Time Remaining: 32:25\",\"PHI Score: 7.0<br>LAC Score: 7.0<br>Win Probability: 64.14%<br>Time Remaining: 32:00\",\"PHI Score: 7.0<br>LAC Score: 7.0<br>Win Probability: 67.96%<br>Time Remaining: 31:22\",\"PHI Score: 7.0<br>LAC Score: 7.0<br>Win Probability: 69.36%<br>Time Remaining: 31:14\",\"PHI Score: 7.0<br>LAC Score: 7.0<br>Win Probability: 68.69%<br>Time Remaining: 30:28\",\"PHI Score: 7.0<br>LAC Score: 7.0<br>Win Probability: 64.03%<br>Time Remaining: 30:24\",\"PHI Score: 10.0<br>LAC Score: 7.0<br>Win Probability: 37.37%<br>Time Remaining: 30:21\",\"PHI Score: 10.0<br>LAC Score: 7.0<br>Win Probability: 33.80%<br>Time Remaining: 30:15\",\"PHI Score: 10.0<br>LAC Score: 7.0<br>Win Probability: 37.14%<br>Time Remaining: 30:00\",\"PHI Score: 10.0<br>LAC Score: 7.0<br>Win Probability: 35.65%<br>Time Remaining: 29:53\",\"PHI Score: 10.0<br>LAC Score: 7.0<br>Win Probability: 37.41%<br>Time Remaining: 29:21\",\"PHI Score: 10.0<br>LAC Score: 7.0<br>Win Probability: 36.12%<br>Time Remaining: 28:37\",\"PHI Score: 10.0<br>LAC Score: 7.0<br>Win Probability: 43.21%<br>Time Remaining: 28:00\",\"PHI Score: 10.0<br>LAC Score: 7.0<br>Win Probability: 49.50%<br>Time Remaining: 27:25\",\"PHI Score: 10.0<br>LAC Score: 7.0<br>Win Probability: 51.22%<br>Time Remaining: 26:53\",\"PHI Score: 10.0<br>LAC Score: 7.0<br>Win Probability: 50.76%<br>Time Remaining: 26:50\",\"PHI Score: 10.0<br>LAC Score: 7.0<br>Win Probability: 49.26%<br>Time Remaining: 26:17\",\"PHI Score: 10.0<br>LAC Score: 7.0<br>Win Probability: 43.40%<br>Time Remaining: 25:36\",\"PHI Score: 10.0<br>LAC Score: 10.0<br>Win Probability: 55.95%<br>Time Remaining: 25:33\",\"PHI Score: 10.0<br>LAC Score: 10.0<br>Win Probability: 55.54%<br>Time Remaining: 25:33\",\"PHI Score: 10.0<br>LAC Score: 10.0<br>Win Probability: 55.36%<br>Time Remaining: 24:53\",\"PHI Score: 10.0<br>LAC Score: 10.0<br>Win Probability: 53.86%<br>Time Remaining: 24:28\",\"PHI Score: 10.0<br>LAC Score: 10.0<br>Win Probability: 45.65%<br>Time Remaining: 23:50\",\"PHI Score: 10.0<br>LAC Score: 10.0<br>Win Probability: 47.47%<br>Time Remaining: 23:40\",\"PHI Score: 10.0<br>LAC Score: 10.0<br>Win Probability: 59.38%<br>Time Remaining: 23:00\",\"PHI Score: 10.0<br>LAC Score: 10.0<br>Win Probability: 61.86%<br>Time Remaining: 22:25\",\"PHI Score: 10.0<br>LAC Score: 10.0<br>Win Probability: 61.03%<br>Time Remaining: 21:50\",\"PHI Score: 10.0<br>LAC Score: 16.0<br>Win Probability: 72.01%<br>Time Remaining: 21:44\",\"PHI Score: 10.0<br>LAC Score: 16.0<br>Win Probability: 31.58%<br>Time Remaining: 21:44\",\"PHI Score: 10.0<br>LAC Score: 16.0<br>Win Probability: 29.53%<br>Time Remaining: 21:40\",\"PHI Score: 10.0<br>LAC Score: 16.0<br>Win Probability: 28.68%<br>Time Remaining: 21:02\",\"PHI Score: 10.0<br>LAC Score: 16.0<br>Win Probability: 32.56%<br>Time Remaining: 20:36\",\"PHI Score: 10.0<br>LAC Score: 16.0<br>Win Probability: 35.44%<br>Time Remaining: 20:11\",\"PHI Score: 10.0<br>LAC Score: 16.0<br>Win Probability: 35.81%<br>Time Remaining: 19:52\",\"PHI Score: 10.0<br>LAC Score: 16.0<br>Win Probability: 42.44%<br>Time Remaining: 19:26\",\"PHI Score: 10.0<br>LAC Score: 16.0<br>Win Probability: 41.19%<br>Time Remaining: 18:46\",\"PHI Score: 10.0<br>LAC Score: 16.0<br>Win Probability: 40.86%<br>Time Remaining: 18:43\",\"PHI Score: 10.0<br>LAC Score: 16.0<br>Win Probability: 46.08%<br>Time Remaining: 18:36\",\"PHI Score: 10.0<br>LAC Score: 16.0<br>Win Probability: 44.88%<br>Time Remaining: 18:14\",\"PHI Score: 16.0<br>LAC Score: 16.0<br>Win Probability: 54.39%<br>Time Remaining: 18:10\",\"PHI Score: 17.0<br>LAC Score: 16.0<br>Win Probability: 45.97%<br>Time Remaining: 18:10\",\"PHI Score: 17.0<br>LAC Score: 16.0<br>Win Probability: 45.83%<br>Time Remaining: 18:02\",\"PHI Score: 17.0<br>LAC Score: 16.0<br>Win Probability: 44.63%<br>Time Remaining: 17:24\",\"PHI Score: 17.0<br>LAC Score: 16.0<br>Win Probability: 44.93%<br>Time Remaining: 16:51\",\"PHI Score: 17.0<br>LAC Score: 16.0<br>Win Probability: 50.98%<br>Time Remaining: 16:46\",\"PHI Score: 17.0<br>LAC Score: 16.0<br>Win Probability: 50.98%<br>Time Remaining: 16:05\",\"PHI Score: 17.0<br>LAC Score: 16.0<br>Win Probability: 44.76%<br>Time Remaining: 15:40\",\"PHI Score: 17.0<br>LAC Score: 16.0<br>Win Probability: 44.43%<br>Time Remaining: 15:00\",\"PHI Score: 17.0<br>LAC Score: 16.0<br>Win Probability: 46.20%<br>Time Remaining: 15:00\",\"PHI Score: 17.0<br>LAC Score: 16.0<br>Win Probability: 57.82%<br>Time Remaining: 14:18\",\"PHI Score: 17.0<br>LAC Score: 16.0<br>Win Probability: 57.81%<br>Time Remaining: 13:38\",\"PHI Score: 17.0<br>LAC Score: 16.0<br>Win Probability: 57.22%<br>Time Remaining: 13:02\",\"PHI Score: 17.0<br>LAC Score: 16.0<br>Win Probability: 58.13%<br>Time Remaining: 12:51\",\"PHI Score: 17.0<br>LAC Score: 16.0<br>Win Probability: 59.25%<br>Time Remaining: 12:14\",\"PHI Score: 17.0<br>LAC Score: 16.0<br>Win Probability: 63.67%<br>Time Remaining: 11:38\",\"PHI Score: 17.0<br>LAC Score: 22.0<br>Win Probability: 75.23%<br>Time Remaining: 11:32\",\"PHI Score: 17.0<br>LAC Score: 24.0<br>Win Probability: 20.49%<br>Time Remaining: 11:32\",\"PHI Score: 17.0<br>LAC Score: 24.0<br>Win Probability: 19.89%<br>Time Remaining: 11:25\",\"PHI Score: 17.0<br>LAC Score: 24.0<br>Win Probability: 16.76%<br>Time Remaining: 10:40\",\"PHI Score: 17.0<br>LAC Score: 24.0<br>Win Probability: 22.29%<br>Time Remaining: 10:11\",\"PHI Score: 17.0<br>LAC Score: 24.0<br>Win Probability: 22.72%<br>Time Remaining: 9:48\",\"PHI Score: 17.0<br>LAC Score: 24.0<br>Win Probability: 22.11%<br>Time Remaining: 9:13\",\"PHI Score: 17.0<br>LAC Score: 24.0<br>Win Probability: 21.41%<br>Time Remaining: 8:37\",\"PHI Score: 17.0<br>LAC Score: 24.0<br>Win Probability: 23.94%<br>Time Remaining: 7:53\",\"PHI Score: 17.0<br>LAC Score: 24.0<br>Win Probability: 23.55%<br>Time Remaining: 7:30\",\"PHI Score: 17.0<br>LAC Score: 24.0<br>Win Probability: 22.78%<br>Time Remaining: 6:55\",\"PHI Score: 17.0<br>LAC Score: 24.0<br>Win Probability: 30.23%<br>Time Remaining: 6:16\",\"PHI Score: 23.0<br>LAC Score: 24.0<br>Win Probability: 51.36%<br>Time Remaining: 6:07\",\"PHI Score: 24.0<br>LAC Score: 24.0<br>Win Probability: 48.02%<br>Time Remaining: 6:07\",\"PHI Score: 24.0<br>LAC Score: 24.0<br>Win Probability: 47.06%<br>Time Remaining: 6:07\",\"PHI Score: 24.0<br>LAC Score: 24.0<br>Win Probability: 45.56%<br>Time Remaining: 5:31\",\"PHI Score: 24.0<br>LAC Score: 24.0<br>Win Probability: 49.93%<br>Time Remaining: 4:47\",\"PHI Score: 24.0<br>LAC Score: 24.0<br>Win Probability: 55.62%<br>Time Remaining: 4:09\",\"PHI Score: 24.0<br>LAC Score: 24.0<br>Win Probability: 53.03%<br>Time Remaining: 3:30\",\"PHI Score: 24.0<br>LAC Score: 24.0<br>Win Probability: 49.32%<br>Time Remaining: 3:27\",\"PHI Score: 24.0<br>LAC Score: 24.0<br>Win Probability: 47.01%<br>Time Remaining: 2:48\",\"PHI Score: 24.0<br>LAC Score: 24.0<br>Win Probability: 63.36%<br>Time Remaining: 2:00\",\"PHI Score: 24.0<br>LAC Score: 24.0<br>Win Probability: 59.67%<br>Time Remaining: 2:00\",\"PHI Score: 24.0<br>LAC Score: 24.0<br>Win Probability: 69.55%<br>Time Remaining: 1:53\",\"PHI Score: 24.0<br>LAC Score: 24.0<br>Win Probability: 65.98%<br>Time Remaining: 1:48\",\"PHI Score: 24.0<br>LAC Score: 24.0<br>Win Probability: 61.70%<br>Time Remaining: 1:45\",\"PHI Score: 24.0<br>LAC Score: 24.0<br>Win Probability: 75.00%<br>Time Remaining: 1:04\",\"PHI Score: 24.0<br>LAC Score: 24.0<br>Win Probability: 75.23%<br>Time Remaining: 0:21\",\"PHI Score: 24.0<br>LAC Score: 24.0<br>Win Probability: 79.22%<br>Time Remaining: 0:06\",\"PHI Score: 24.0<br>LAC Score: 24.0<br>Win Probability: 79.36%<br>Time Remaining: 0:05\",\"PHI Score: 24.0<br>LAC Score: 27.0<br>Win Probability: 12.56%<br>Time Remaining: 0:02\"],\"line\":{\"color\":\"firebrick\",\"width\":3},\"mode\":\"lines\",\"name\":\"Model WP\",\"x\":[3593.0,3559.0,3518.0,3482.0,3477.0,3472.0,3472.0,3467.0,3459.0,3427.0,3421.0,3381.0,3366.0,3324.0,3287.0,3246.0,3205.0,3167.0,3130.0,3087.0,3084.0,3051.0,3046.0,3043.0,3038.0,2995.0,2959.0,2949.0,2909.0,2868.0,2833.0,2785.0,2754.0,2750.0,2750.0,2750.0,2723.0,2700.0,2700.0,2666.0,2644.0,2607.0,2568.0,2544.0,2524.0,2485.0,2480.0,2480.0,2474.0,2453.0,2414.0,2385.0,2344.0,2305.0,2276.0,2250.0,2245.0,2211.0,2184.0,2150.0,2118.0,2090.0,2064.0,2035.0,2001.0,1982.0,1945.0,1920.0,1882.0,1874.0,1828.0,1824.0,1821.0,1815.0,1800.0,1793.0,1761.0,1717.0,1680.0,1645.0,1613.0,1610.0,1577.0,1536.0,1533.0,1533.0,1493.0,1468.0,1430.0,1420.0,1380.0,1345.0,1310.0,1304.0,1304.0,1300.0,1262.0,1236.0,1211.0,1192.0,1166.0,1126.0,1123.0,1116.0,1094.0,1090.0,1090.0,1082.0,1044.0,1011.0,1006.0,965.0,940.0,900.0,900.0,858.0,818.0,782.0,771.0,734.0,698.0,692.0,692.0,685.0,640.0,611.0,588.0,553.0,517.0,473.0,450.0,415.0,376.0,367.0,367.0,367.0,331.0,287.0,249.0,210.0,207.0,168.0,120.0,120.0,113.0,108.0,105.0,64.0,21.0,6.0,5.0,2.0],\"y\":[54.632390120981874,54.049840916065264,53.96854137834784,59.11737841373866,57.723873696279824,52.75503081857631,55.42479012792564,50.69549159506217,46.46619150487837,45.42900156688325,41.00578369074465,47.215842878104844,49.973226212960064,48.47075624212956,51.13894221600322,50.21658566714551,52.225344843657815,58.32282877658669,57.65359243208674,63.587591909053586,62.97537999916262,61.57285885313982,58.16957220176741,54.033866754536156,53.676378858114184,50.3502648441772,46.42283522814149,58.41851625893557,58.181161258918316,58.27132345105501,57.97646017128083,63.93211664957118,63.19049725094696,66.27549726528534,35.251242643808,35.85623755368906,36.325022617535566,37.14859111939398,39.39531022922472,38.61681807644867,43.49225114068701,42.63955238226592,44.058006558622765,46.49272225407496,46.669448657511765,45.24663873441557,53.58079282894781,45.08259140471241,45.57087600082979,51.38036419586191,52.526466989098694,50.49963049268684,55.138926923397214,56.010732692186075,53.84514746438067,53.701869467225585,55.77408581640137,56.72894970710154,59.21933710121494,58.0557362100504,58.2517943580249,59.37712016463427,62.30611106983791,65.04047137678722,64.9471813878734,66.41976260751531,65.86814022395124,64.13744748693553,67.95921938194832,69.36473664913117,68.68928037206089,64.0273354758819,37.37102207847192,33.79545376996928,37.13536879551164,35.64730687611298,37.40812459908624,36.11788791828923,43.20781790081901,49.495116655930936,51.219703027202755,50.76063539044807,49.25917152899797,43.397593394263,55.94791688822467,55.541946447730574,55.36127295062955,53.857533538319025,45.65303786959846,47.47331725419298,59.37801916977794,61.85687126245129,61.02718912084679,72.01423016339271,31.577958735065625,29.53308852511268,28.677089347838734,32.56108363317264,35.43800190076124,35.806184345890514,42.4423260287964,41.19393847309135,40.85956630035617,46.07842327503924,44.88478872898644,54.392356984814015,45.973440609752835,45.83177290022893,44.63010660489786,44.92643383564807,50.98195947792872,50.98157403906377,44.75707491889431,44.43134443851615,46.200535557889495,57.81815156536949,57.81306184065361,57.221215145909234,58.1294209868407,59.252937739953296,63.67247118694227,75.23002177831673,20.493332353432038,19.894544018148903,16.761457007209366,22.288835981671873,22.723138498133846,22.109808565047075,21.41215879625787,23.94483124789103,23.5489415365336,22.784114225008704,30.2343777487084,51.363580198089274,48.015549402917095,47.05627446480652,45.5646304151658,49.92938044198248,55.61739875213013,53.028424108363346,49.32253739075201,47.010386379632884,63.35720149730126,59.67231996004563,69.54665341519315,65.9820886330669,61.698556371688404,74.99593144637637,75.22924142632604,79.21528790751474,79.3550894944746,12.561735761662323],\"type\":\"scatter\"},{\"line\":{\"color\":\"green\",\"dash\":\"dash\",\"width\":1},\"mode\":\"lines\",\"name\":\"Possession Change\",\"showlegend\":true,\"x\":[3593.0,3593.0,null,3459.0,3459.0,null,3043.0,3043.0,null,2949.0,2949.0,null,2750.0,2750.0,null,2480.0,2480.0,null,2245.0,2245.0,null,1821.0,1821.0,null,1533.0,1533.0,null,1420.0,1420.0,null,1304.0,1304.0,null,1090.0,1090.0,null,692.0,692.0,null,367.0,367.0,null,2.0,2.0,null],\"y\":[0,100,null,0,100,null,0,100,null,0,100,null,0,100,null,0,100,null,0,100,null,0,100,null,0,100,null,0,100,null,0,100,null,0,100,null,0,100,null,0,100,null,0,100,null],\"type\":\"scatter\"}],                        {\"template\":{\"data\":{\"histogram2dcontour\":[{\"type\":\"histogram2dcontour\",\"colorbar\":{\"outlinewidth\":0,\"ticks\":\"\"},\"colorscale\":[[0.0,\"#0d0887\"],[0.1111111111111111,\"#46039f\"],[0.2222222222222222,\"#7201a8\"],[0.3333333333333333,\"#9c179e\"],[0.4444444444444444,\"#bd3786\"],[0.5555555555555556,\"#d8576b\"],[0.6666666666666666,\"#ed7953\"],[0.7777777777777778,\"#fb9f3a\"],[0.8888888888888888,\"#fdca26\"],[1.0,\"#f0f921\"]]}],\"choropleth\":[{\"type\":\"choropleth\",\"colorbar\":{\"outlinewidth\":0,\"ticks\":\"\"}}],\"histogram2d\":[{\"type\":\"histogram2d\",\"colorbar\":{\"outlinewidth\":0,\"ticks\":\"\"},\"colorscale\":[[0.0,\"#0d0887\"],[0.1111111111111111,\"#46039f\"],[0.2222222222222222,\"#7201a8\"],[0.3333333333333333,\"#9c179e\"],[0.4444444444444444,\"#bd3786\"],[0.5555555555555556,\"#d8576b\"],[0.6666666666666666,\"#ed7953\"],[0.7777777777777778,\"#fb9f3a\"],[0.8888888888888888,\"#fdca26\"],[1.0,\"#f0f921\"]]}],\"heatmap\":[{\"type\":\"heatmap\",\"colorbar\":{\"outlinewidth\":0,\"ticks\":\"\"},\"colorscale\":[[0.0,\"#0d0887\"],[0.1111111111111111,\"#46039f\"],[0.2222222222222222,\"#7201a8\"],[0.3333333333333333,\"#9c179e\"],[0.4444444444444444,\"#bd3786\"],[0.5555555555555556,\"#d8576b\"],[0.6666666666666666,\"#ed7953\"],[0.7777777777777778,\"#fb9f3a\"],[0.8888888888888888,\"#fdca26\"],[1.0,\"#f0f921\"]]}],\"heatmapgl\":[{\"type\":\"heatmapgl\",\"colorbar\":{\"outlinewidth\":0,\"ticks\":\"\"},\"colorscale\":[[0.0,\"#0d0887\"],[0.1111111111111111,\"#46039f\"],[0.2222222222222222,\"#7201a8\"],[0.3333333333333333,\"#9c179e\"],[0.4444444444444444,\"#bd3786\"],[0.5555555555555556,\"#d8576b\"],[0.6666666666666666,\"#ed7953\"],[0.7777777777777778,\"#fb9f3a\"],[0.8888888888888888,\"#fdca26\"],[1.0,\"#f0f921\"]]}],\"contourcarpet\":[{\"type\":\"contourcarpet\",\"colorbar\":{\"outlinewidth\":0,\"ticks\":\"\"}}],\"contour\":[{\"type\":\"contour\",\"colorbar\":{\"outlinewidth\":0,\"ticks\":\"\"},\"colorscale\":[[0.0,\"#0d0887\"],[0.1111111111111111,\"#46039f\"],[0.2222222222222222,\"#7201a8\"],[0.3333333333333333,\"#9c179e\"],[0.4444444444444444,\"#bd3786\"],[0.5555555555555556,\"#d8576b\"],[0.6666666666666666,\"#ed7953\"],[0.7777777777777778,\"#fb9f3a\"],[0.8888888888888888,\"#fdca26\"],[1.0,\"#f0f921\"]]}],\"surface\":[{\"type\":\"surface\",\"colorbar\":{\"outlinewidth\":0,\"ticks\":\"\"},\"colorscale\":[[0.0,\"#0d0887\"],[0.1111111111111111,\"#46039f\"],[0.2222222222222222,\"#7201a8\"],[0.3333333333333333,\"#9c179e\"],[0.4444444444444444,\"#bd3786\"],[0.5555555555555556,\"#d8576b\"],[0.6666666666666666,\"#ed7953\"],[0.7777777777777778,\"#fb9f3a\"],[0.8888888888888888,\"#fdca26\"],[1.0,\"#f0f921\"]]}],\"mesh3d\":[{\"type\":\"mesh3d\",\"colorbar\":{\"outlinewidth\":0,\"ticks\":\"\"}}],\"scatter\":[{\"fillpattern\":{\"fillmode\":\"overlay\",\"size\":10,\"solidity\":0.2},\"type\":\"scatter\"}],\"parcoords\":[{\"type\":\"parcoords\",\"line\":{\"colorbar\":{\"outlinewidth\":0,\"ticks\":\"\"}}}],\"scatterpolargl\":[{\"type\":\"scatterpolargl\",\"marker\":{\"colorbar\":{\"outlinewidth\":0,\"ticks\":\"\"}}}],\"bar\":[{\"error_x\":{\"color\":\"#2a3f5f\"},\"error_y\":{\"color\":\"#2a3f5f\"},\"marker\":{\"line\":{\"color\":\"#E5ECF6\",\"width\":0.5},\"pattern\":{\"fillmode\":\"overlay\",\"size\":10,\"solidity\":0.2}},\"type\":\"bar\"}],\"scattergeo\":[{\"type\":\"scattergeo\",\"marker\":{\"colorbar\":{\"outlinewidth\":0,\"ticks\":\"\"}}}],\"scatterpolar\":[{\"type\":\"scatterpolar\",\"marker\":{\"colorbar\":{\"outlinewidth\":0,\"ticks\":\"\"}}}],\"histogram\":[{\"marker\":{\"pattern\":{\"fillmode\":\"overlay\",\"size\":10,\"solidity\":0.2}},\"type\":\"histogram\"}],\"scattergl\":[{\"type\":\"scattergl\",\"marker\":{\"colorbar\":{\"outlinewidth\":0,\"ticks\":\"\"}}}],\"scatter3d\":[{\"type\":\"scatter3d\",\"line\":{\"colorbar\":{\"outlinewidth\":0,\"ticks\":\"\"}},\"marker\":{\"colorbar\":{\"outlinewidth\":0,\"ticks\":\"\"}}}],\"scattermapbox\":[{\"type\":\"scattermapbox\",\"marker\":{\"colorbar\":{\"outlinewidth\":0,\"ticks\":\"\"}}}],\"scatterternary\":[{\"type\":\"scatterternary\",\"marker\":{\"colorbar\":{\"outlinewidth\":0,\"ticks\":\"\"}}}],\"scattercarpet\":[{\"type\":\"scattercarpet\",\"marker\":{\"colorbar\":{\"outlinewidth\":0,\"ticks\":\"\"}}}],\"carpet\":[{\"aaxis\":{\"endlinecolor\":\"#2a3f5f\",\"gridcolor\":\"white\",\"linecolor\":\"white\",\"minorgridcolor\":\"white\",\"startlinecolor\":\"#2a3f5f\"},\"baxis\":{\"endlinecolor\":\"#2a3f5f\",\"gridcolor\":\"white\",\"linecolor\":\"white\",\"minorgridcolor\":\"white\",\"startlinecolor\":\"#2a3f5f\"},\"type\":\"carpet\"}],\"table\":[{\"cells\":{\"fill\":{\"color\":\"#EBF0F8\"},\"line\":{\"color\":\"white\"}},\"header\":{\"fill\":{\"color\":\"#C8D4E3\"},\"line\":{\"color\":\"white\"}},\"type\":\"table\"}],\"barpolar\":[{\"marker\":{\"line\":{\"color\":\"#E5ECF6\",\"width\":0.5},\"pattern\":{\"fillmode\":\"overlay\",\"size\":10,\"solidity\":0.2}},\"type\":\"barpolar\"}],\"pie\":[{\"automargin\":true,\"type\":\"pie\"}]},\"layout\":{\"autotypenumbers\":\"strict\",\"colorway\":[\"#636efa\",\"#EF553B\",\"#00cc96\",\"#ab63fa\",\"#FFA15A\",\"#19d3f3\",\"#FF6692\",\"#B6E880\",\"#FF97FF\",\"#FECB52\"],\"font\":{\"color\":\"#2a3f5f\"},\"hovermode\":\"closest\",\"hoverlabel\":{\"align\":\"left\"},\"paper_bgcolor\":\"white\",\"plot_bgcolor\":\"#E5ECF6\",\"polar\":{\"bgcolor\":\"#E5ECF6\",\"angularaxis\":{\"gridcolor\":\"white\",\"linecolor\":\"white\",\"ticks\":\"\"},\"radialaxis\":{\"gridcolor\":\"white\",\"linecolor\":\"white\",\"ticks\":\"\"}},\"ternary\":{\"bgcolor\":\"#E5ECF6\",\"aaxis\":{\"gridcolor\":\"white\",\"linecolor\":\"white\",\"ticks\":\"\"},\"baxis\":{\"gridcolor\":\"white\",\"linecolor\":\"white\",\"ticks\":\"\"},\"caxis\":{\"gridcolor\":\"white\",\"linecolor\":\"white\",\"ticks\":\"\"}},\"coloraxis\":{\"colorbar\":{\"outlinewidth\":0,\"ticks\":\"\"}},\"colorscale\":{\"sequential\":[[0.0,\"#0d0887\"],[0.1111111111111111,\"#46039f\"],[0.2222222222222222,\"#7201a8\"],[0.3333333333333333,\"#9c179e\"],[0.4444444444444444,\"#bd3786\"],[0.5555555555555556,\"#d8576b\"],[0.6666666666666666,\"#ed7953\"],[0.7777777777777778,\"#fb9f3a\"],[0.8888888888888888,\"#fdca26\"],[1.0,\"#f0f921\"]],\"sequentialminus\":[[0.0,\"#0d0887\"],[0.1111111111111111,\"#46039f\"],[0.2222222222222222,\"#7201a8\"],[0.3333333333333333,\"#9c179e\"],[0.4444444444444444,\"#bd3786\"],[0.5555555555555556,\"#d8576b\"],[0.6666666666666666,\"#ed7953\"],[0.7777777777777778,\"#fb9f3a\"],[0.8888888888888888,\"#fdca26\"],[1.0,\"#f0f921\"]],\"diverging\":[[0,\"#8e0152\"],[0.1,\"#c51b7d\"],[0.2,\"#de77ae\"],[0.3,\"#f1b6da\"],[0.4,\"#fde0ef\"],[0.5,\"#f7f7f7\"],[0.6,\"#e6f5d0\"],[0.7,\"#b8e186\"],[0.8,\"#7fbc41\"],[0.9,\"#4d9221\"],[1,\"#276419\"]]},\"xaxis\":{\"gridcolor\":\"white\",\"linecolor\":\"white\",\"ticks\":\"\",\"title\":{\"standoff\":15},\"zerolinecolor\":\"white\",\"automargin\":true,\"zerolinewidth\":2},\"yaxis\":{\"gridcolor\":\"white\",\"linecolor\":\"white\",\"ticks\":\"\",\"title\":{\"standoff\":15},\"zerolinecolor\":\"white\",\"automargin\":true,\"zerolinewidth\":2},\"scene\":{\"xaxis\":{\"backgroundcolor\":\"#E5ECF6\",\"gridcolor\":\"white\",\"linecolor\":\"white\",\"showbackground\":true,\"ticks\":\"\",\"zerolinecolor\":\"white\",\"gridwidth\":2},\"yaxis\":{\"backgroundcolor\":\"#E5ECF6\",\"gridcolor\":\"white\",\"linecolor\":\"white\",\"showbackground\":true,\"ticks\":\"\",\"zerolinecolor\":\"white\",\"gridwidth\":2},\"zaxis\":{\"backgroundcolor\":\"#E5ECF6\",\"gridcolor\":\"white\",\"linecolor\":\"white\",\"showbackground\":true,\"ticks\":\"\",\"zerolinecolor\":\"white\",\"gridwidth\":2}},\"shapedefaults\":{\"line\":{\"color\":\"#2a3f5f\"}},\"annotationdefaults\":{\"arrowcolor\":\"#2a3f5f\",\"arrowhead\":0,\"arrowwidth\":1},\"geo\":{\"bgcolor\":\"white\",\"landcolor\":\"#E5ECF6\",\"subunitcolor\":\"white\",\"showland\":true,\"showlakes\":true,\"lakecolor\":\"white\"},\"title\":{\"x\":0.05},\"mapbox\":{\"style\":\"light\"}}},\"yaxis\":{\"title\":{\"text\":\"Win Probability\"},\"range\":[0,100],\"tickvals\":[0,25,50,75,100],\"ticktext\":[\"LAC 100%\",\"75%\",\"50%\",\"75%\",\"PHI 100%\"]},\"xaxis\":{\"title\":{\"text\":\"Time Remaining (mm:ss)\"},\"tickvals\":[0,300,600,900,1200,1500,1800,2100,2400,2700,3000,3300],\"ticktext\":[\"0:00\",\"5:00\",\"10:00\",\"15:00\",\"20:00\",\"25:00\",\"30:00\",\"35:00\",\"40:00\",\"45:00\",\"50:00\",\"55:00\"],\"range\":[3593,0],\"autorange\":\"reversed\"},\"title\":{\"text\":\"Combined Win Probability for PHI vs LAC on 2021-11-07\"},\"width\":1000,\"hovermode\":\"closest\",\"showlegend\":true},                        {\"responsive\": true}                    ).then(function(){\n",
       "                            \n",
       "var gd = document.getElementById('16616043-6cb9-4ac1-b169-50a5bcd210d8');\n",
       "var x = new MutationObserver(function (mutations, observer) {{\n",
       "        var display = window.getComputedStyle(gd).display;\n",
       "        if (!display || display === 'none') {{\n",
       "            console.log([gd, 'removed!']);\n",
       "            Plotly.purge(gd);\n",
       "            observer.disconnect();\n",
       "        }}\n",
       "}});\n",
       "\n",
       "// Listen for the removal of the full notebook cells\n",
       "var notebookContainer = gd.closest('#notebook-container');\n",
       "if (notebookContainer) {{\n",
       "    x.observe(notebookContainer, {childList: true});\n",
       "}}\n",
       "\n",
       "// Listen for the clearing of the current output cell\n",
       "var outputEl = gd.closest('.output');\n",
       "if (outputEl) {{\n",
       "    x.observe(outputEl, {childList: true});\n",
       "}}\n",
       "\n",
       "                        })                };                });            </script>        </div>"
      ]
     },
     "metadata": {},
     "output_type": "display_data"
    }
   ],
   "source": [
    "fig_combined = go.Figure()\n",
    "\n",
    "# dataset line\n",
    "fig_combined.add_trace(go.Scatter(\n",
    "    x=time_remaining,\n",
    "    y=game_df_sorted['wp'] * 100,\n",
    "    mode='lines',\n",
    "    hovertext=[f\"Dataset Win Probability: {round(float(wp), 2)}%\" for wp in dataset_wp_transformed],\n",
    "    name=f'Real Dataset WP',\n",
    "    hoverinfo='text',\n",
    "    line=dict(color='blue', width=4, dash='dash'),\n",
    "))\n",
    "\n",
    "# predicted WP from the model\n",
    "fig_combined.add_trace(go.Scatter(\n",
    "    x=time_remaining,\n",
    "    y=game_df['predicted_win_prob'] * 100,\n",
    "    mode='lines',\n",
    "    name=f'Model WP',\n",
    "    hovertext=[f\"{home_team} Score: {hs}<br>{away_team} Score: {as_}<br>Win Probability: {100*wp:.2f}%<br>Time Remaining: {format_time_remaining(tr)}\"\n",
    "               for hs, as_, wp, tr in zip(game_df['home_team_score'], game_df['away_team_score'], game_df['predicted_win_prob'], time_remaining)],\n",
    "    hoverinfo='text',\n",
    "    line=dict(color='firebrick', width=3),\n",
    "))\n",
    "\n",
    "# same possession change plot from before\n",
    "fig_combined.add_trace(go.Scatter(\n",
    "    x=possession_change_x,\n",
    "    y=[0, 100, None] * len(possession_change_times),\n",
    "    mode='lines',\n",
    "    name='Possession Change',\n",
    "    line=dict(color=\"green\", width=1, dash=\"dash\"),\n",
    "    showlegend=True,\n",
    "))\n",
    "\n",
    "# update layout for combined plot\n",
    "fig_combined.update_layout(\n",
    "    title=f\"Combined Win Probability for {home_team} vs {away_team} on {game_date}\",\n",
    "    xaxis_title=\"Time Remaining (mm:ss)\",\n",
    "    yaxis_title=f\"Win Probability\",\n",
    "    yaxis=dict(\n",
    "        range=[0, 100],\n",
    "        tickvals=[0, 25, 50, 75, 100],\n",
    "        ticktext=[f\"{away_team} 100%\", \"75%\", \"50%\", \"75%\", f\"{home_team} 100%\"],\n",
    "    ),\n",
    "    xaxis=dict(\n",
    "        tickvals=tickvals,\n",
    "        ticktext=ticktext,\n",
    "        range=[total_seconds, 0],\n",
    "        autorange=\"reversed\",\n",
    "    ),\n",
    "    width=1000,\n",
    "    hovermode='closest',\n",
    "    showlegend=True,\n",
    ")\n",
    "\n",
    "# show the combined graph\n",
    "fig_combined.show()"
   ]
  },
  {
   "cell_type": "markdown",
   "id": "00136341-eded-411b-a641-849933362370",
   "metadata": {},
   "source": [
    "Indeed, the model worked its magic. While there are some points that aren't perfectly in line, it's clear that the features we chose tell a large part of the story. Any given NFL game will be unfathomably complex (in many unquantifiable ways), but it seems like these 8 quantitative figures can be more than enough. In the future, I wish to add historical records between teams as QBs as features, along with making these predictions in real time with ongoing game data. "
   ]
  }
 ],
 "metadata": {
  "colab": {
   "provenance": []
  },
  "kernelspec": {
   "display_name": "Python 3 (ipykernel)",
   "language": "python",
   "name": "python3"
  },
  "language_info": {
   "codemirror_mode": {
    "name": "ipython",
    "version": 3
   },
   "file_extension": ".py",
   "mimetype": "text/x-python",
   "name": "python",
   "nbconvert_exporter": "python",
   "pygments_lexer": "ipython3",
   "version": "3.11.5"
  }
 },
 "nbformat": 4,
 "nbformat_minor": 5
}
